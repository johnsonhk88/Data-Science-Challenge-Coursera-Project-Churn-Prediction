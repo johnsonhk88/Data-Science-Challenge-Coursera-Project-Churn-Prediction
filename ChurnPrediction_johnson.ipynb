{
 "cells": [
  {
   "attachments": {
    "COUR_IPO.png": {
     "image/png": "[encoded data removed]"
    }
   },
   "cell_type": "markdown",
   "metadata": {},
   "source": [
    "![COUR_IPO.png](attachment:COUR_IPO.png)"
   ]
  },
  {
   "cell_type": "markdown",
   "metadata": {},
   "source": [
    "# Welcome to the Data Science Coding Challange!\n",
    "\n",
    "Test your skills in a real-world coding challenge. Coding Challenges provide CS & DS Coding Competitions with Prizes and achievement badges!\n",
    "\n",
    "CS & DS learners want to be challenged as a way to evaluate if they’re job ready. So, why not create fun challenges and give winners something truly valuable such as complimentary access to select Data Science courses, or the ability to receive an achievement badge on their Coursera Skills Profile - highlighting their performance to recruiters."
   ]
  },
  {
   "cell_type": "markdown",
   "metadata": {},
   "source": [
    "## Introduction\n",
    "\n",
    "In this challenge, you'll get the opportunity to tackle one of the most industry-relevant maching learning problems with a unique dataset that will put your modeling skills to the test. Subscription services are leveraged by companies across many industries, from fitness to video streaming to retail. One of the primary objectives of companies with subscription services is to decrease churn and ensure that users are retained as subscribers. In order to do this efficiently and systematically, many companies employ machine learning to predict which users are at the highest risk of churn, so that proper interventions can be effectively deployed to the right audience.\n",
    "\n",
    "In this challenge, we will be tackling the churn prediction problem on a very unique and interesting group of subscribers on a video streaming service! \n",
    "\n",
    "Imagine that you are a new data scientist at this video streaming company and you are tasked with building a model that can predict which existing subscribers will continue their subscriptions for another month. We have provided a dataset that is a sample of subscriptions that were initiated in 2021, all snapshotted at a particular date before the subscription was cancelled. Subscription cancellation can happen for a multitude of reasons, including:\n",
    "* the customer completes all content they were interested in, and no longer need the subscription\n",
    "* the customer finds themselves to be too busy and cancels their subscription until a later time\n",
    "* the customer determines that the streaming service is not the best fit for them, so they cancel and look for something better suited\n",
    "\n",
    "Regardless the reason, this video streaming company has a vested interest in understanding the likelihood of each individual customer to churn in their subscription so that resources can be allocated appropriately to support customers. In this challenge, you will use your machine learning toolkit to do just that!"
   ]
  },
  {
   "cell_type": "markdown",
   "metadata": {},
   "source": [
    "## Understanding the Datasets"
   ]
  },
  {
   "cell_type": "markdown",
   "metadata": {},
   "source": [
    "### Train vs. Test\n",
    "In this competition, you’ll gain access to two datasets that are samples of past subscriptions of a video streaming platform that contain information about the customer, the customers streaming preferences, and their activity in the subscription thus far. One dataset is titled `train.csv` and the other is titled `test.csv`.\n",
    "\n",
    "`train.csv` contains 70% of the overall sample (243,787 subscriptions to be exact) and importantly, will reveal whether or not the subscription was continued into the next month (the “ground truth”).\n",
    "\n",
    "The `test.csv` dataset contains the exact same information about the remaining segment of the overall sample (104,480 subscriptions to be exact), but does not disclose the “ground truth” for each subscription. It’s your job to predict this outcome!\n",
    "\n",
    "Using the patterns you find in the `train.csv` data, predict whether the subscriptions in `test.csv` will be continued for another month, or not."
   ]
  },
  {
   "cell_type": "markdown",
   "metadata": {},
   "source": [
    "### Dataset descriptions\n",
    "Both `train.csv` and `test.csv` contain one row for each unique subscription. For each subscription, a single observation (`CustomerID`) is included during which the subscription was active. \n",
    "\n",
    "In addition to this identifier column, the `train.csv` dataset also contains the target label for the task, a binary column `Churn`.\n",
    "\n",
    "Besides that column, both datasets have an identical set of features that can be used to train your model to make predictions. Below you can see descriptions of each feature. Familiarize yourself with them so that you can harness them most effectively for this machine learning task!"
   ]
  },
  {
   "cell_type": "code",
   "execution_count": 1,
   "metadata": {},
   "outputs": [
    {
     "data": {
      "text/html": [
       "<div>\n",
       "<style scoped>\n",
       "    .dataframe tbody tr th:only-of-type {\n",
       "        vertical-align: middle;\n",
       "    }\n",
       "\n",
       "    .dataframe tbody tr th {\n",
       "        vertical-align: top;\n",
       "    }\n",
       "\n",
       "    .dataframe thead th {\n",
       "        text-align: right;\n",
       "    }\n",
       "</style>\n",
       "<table border=\"1\" class=\"dataframe\">\n",
       "  <thead>\n",
       "    <tr style=\"text-align: right;\">\n",
       "      <th></th>\n",
       "      <th>Column_name</th>\n",
       "      <th>Column_type</th>\n",
       "      <th>Data_type</th>\n",
       "      <th>Description</th>\n",
       "    </tr>\n",
       "  </thead>\n",
       "  <tbody>\n",
       "    <tr>\n",
       "      <th>0</th>\n",
       "      <td>AccountAge</td>\n",
       "      <td>Feature</td>\n",
       "      <td>integer</td>\n",
       "      <td>The age of the user's account in months.</td>\n",
       "    </tr>\n",
       "    <tr>\n",
       "      <th>1</th>\n",
       "      <td>MonthlyCharges</td>\n",
       "      <td>Feature</td>\n",
       "      <td>float</td>\n",
       "      <td>The amount charged to the user on a monthly basis.</td>\n",
       "    </tr>\n",
       "    <tr>\n",
       "      <th>2</th>\n",
       "      <td>TotalCharges</td>\n",
       "      <td>Feature</td>\n",
       "      <td>float</td>\n",
       "      <td>The total charges incurred by the user over the account's lifetime.</td>\n",
       "    </tr>\n",
       "    <tr>\n",
       "      <th>3</th>\n",
       "      <td>SubscriptionType</td>\n",
       "      <td>Feature</td>\n",
       "      <td>object</td>\n",
       "      <td>The type of subscription chosen by the user (Basic, Standard, or Premium).</td>\n",
       "    </tr>\n",
       "    <tr>\n",
       "      <th>4</th>\n",
       "      <td>PaymentMethod</td>\n",
       "      <td>Feature</td>\n",
       "      <td>string</td>\n",
       "      <td>The method of payment used by the user.</td>\n",
       "    </tr>\n",
       "    <tr>\n",
       "      <th>5</th>\n",
       "      <td>PaperlessBilling</td>\n",
       "      <td>Feature</td>\n",
       "      <td>string</td>\n",
       "      <td>Indicates whether the user has opted for paperless billing (Yes or No).</td>\n",
       "    </tr>\n",
       "    <tr>\n",
       "      <th>6</th>\n",
       "      <td>ContentType</td>\n",
       "      <td>Feature</td>\n",
       "      <td>string</td>\n",
       "      <td>The type of content preferred by the user (Movies, TV Shows, or Both).</td>\n",
       "    </tr>\n",
       "    <tr>\n",
       "      <th>7</th>\n",
       "      <td>MultiDeviceAccess</td>\n",
       "      <td>Feature</td>\n",
       "      <td>string</td>\n",
       "      <td>Indicates whether the user has access to the service on multiple devices (Yes or No).</td>\n",
       "    </tr>\n",
       "    <tr>\n",
       "      <th>8</th>\n",
       "      <td>DeviceRegistered</td>\n",
       "      <td>Feature</td>\n",
       "      <td>string</td>\n",
       "      <td>The type of device registered by the user (TV, Mobile, Tablet, or Computer).</td>\n",
       "    </tr>\n",
       "    <tr>\n",
       "      <th>9</th>\n",
       "      <td>ViewingHoursPerWeek</td>\n",
       "      <td>Feature</td>\n",
       "      <td>float</td>\n",
       "      <td>The number of hours the user spends watching content per week.</td>\n",
       "    </tr>\n",
       "    <tr>\n",
       "      <th>10</th>\n",
       "      <td>AverageViewingDuration</td>\n",
       "      <td>Feature</td>\n",
       "      <td>float</td>\n",
       "      <td>The average duration of each viewing session in minutes.</td>\n",
       "    </tr>\n",
       "    <tr>\n",
       "      <th>11</th>\n",
       "      <td>ContentDownloadsPerMonth</td>\n",
       "      <td>Feature</td>\n",
       "      <td>integer</td>\n",
       "      <td>The number of content downloads by the user per month.</td>\n",
       "    </tr>\n",
       "    <tr>\n",
       "      <th>12</th>\n",
       "      <td>GenrePreference</td>\n",
       "      <td>Feature</td>\n",
       "      <td>string</td>\n",
       "      <td>The preferred genre of content chosen by the user.</td>\n",
       "    </tr>\n",
       "    <tr>\n",
       "      <th>13</th>\n",
       "      <td>UserRating</td>\n",
       "      <td>Feature</td>\n",
       "      <td>float</td>\n",
       "      <td>The user's rating for the service on a scale of 1 to 5.</td>\n",
       "    </tr>\n",
       "    <tr>\n",
       "      <th>14</th>\n",
       "      <td>SupportTicketsPerMonth</td>\n",
       "      <td>Feature</td>\n",
       "      <td>integer</td>\n",
       "      <td>The number of support tickets raised by the user per month.</td>\n",
       "    </tr>\n",
       "    <tr>\n",
       "      <th>15</th>\n",
       "      <td>Gender</td>\n",
       "      <td>Feature</td>\n",
       "      <td>string</td>\n",
       "      <td>The gender of the user (Male or Female).</td>\n",
       "    </tr>\n",
       "    <tr>\n",
       "      <th>16</th>\n",
       "      <td>WatchlistSize</td>\n",
       "      <td>Feature</td>\n",
       "      <td>float</td>\n",
       "      <td>The number of items in the user's watchlist.</td>\n",
       "    </tr>\n",
       "    <tr>\n",
       "      <th>17</th>\n",
       "      <td>ParentalControl</td>\n",
       "      <td>Feature</td>\n",
       "      <td>string</td>\n",
       "      <td>Indicates whether parental control is enabled for the user (Yes or No).</td>\n",
       "    </tr>\n",
       "    <tr>\n",
       "      <th>18</th>\n",
       "      <td>SubtitlesEnabled</td>\n",
       "      <td>Feature</td>\n",
       "      <td>string</td>\n",
       "      <td>Indicates whether subtitles are enabled for the user (Yes or No).</td>\n",
       "    </tr>\n",
       "    <tr>\n",
       "      <th>19</th>\n",
       "      <td>CustomerID</td>\n",
       "      <td>Identifier</td>\n",
       "      <td>string</td>\n",
       "      <td>A unique identifier for each customer.</td>\n",
       "    </tr>\n",
       "    <tr>\n",
       "      <th>20</th>\n",
       "      <td>Churn</td>\n",
       "      <td>Target</td>\n",
       "      <td>integer</td>\n",
       "      <td>The target variable indicating whether a user has churned or not (1 for churned, 0 for not churned).</td>\n",
       "    </tr>\n",
       "  </tbody>\n",
       "</table>\n",
       "</div>"
      ],
      "text/plain": [
       "                 Column_name Column_type Data_type   \n",
       "0                 AccountAge     Feature   integer  \\\n",
       "1             MonthlyCharges     Feature     float   \n",
       "2               TotalCharges     Feature     float   \n",
       "3           SubscriptionType     Feature    object   \n",
       "4              PaymentMethod     Feature    string   \n",
       "5           PaperlessBilling     Feature    string   \n",
       "6                ContentType     Feature    string   \n",
       "7          MultiDeviceAccess     Feature    string   \n",
       "8           DeviceRegistered     Feature    string   \n",
       "9        ViewingHoursPerWeek     Feature     float   \n",
       "10    AverageViewingDuration     Feature     float   \n",
       "11  ContentDownloadsPerMonth     Feature   integer   \n",
       "12           GenrePreference     Feature    string   \n",
       "13                UserRating     Feature     float   \n",
       "14    SupportTicketsPerMonth     Feature   integer   \n",
       "15                    Gender     Feature    string   \n",
       "16             WatchlistSize     Feature     float   \n",
       "17           ParentalControl     Feature    string   \n",
       "18          SubtitlesEnabled     Feature    string   \n",
       "19                CustomerID  Identifier    string   \n",
       "20                     Churn      Target   integer   \n",
       "\n",
       "                                                                                             Description  \n",
       "0                                                               The age of the user's account in months.  \n",
       "1                                                     The amount charged to the user on a monthly basis.  \n",
       "2                                    The total charges incurred by the user over the account's lifetime.  \n",
       "3                             The type of subscription chosen by the user (Basic, Standard, or Premium).  \n",
       "4                                                                The method of payment used by the user.  \n",
       "5                                Indicates whether the user has opted for paperless billing (Yes or No).  \n",
       "6                                 The type of content preferred by the user (Movies, TV Shows, or Both).  \n",
       "7                  Indicates whether the user has access to the service on multiple devices (Yes or No).  \n",
       "8                           The type of device registered by the user (TV, Mobile, Tablet, or Computer).  \n",
       "9                                         The number of hours the user spends watching content per week.  \n",
       "10                                              The average duration of each viewing session in minutes.  \n",
       "11                                                The number of content downloads by the user per month.  \n",
       "12                                                    The preferred genre of content chosen by the user.  \n",
       "13                                               The user's rating for the service on a scale of 1 to 5.  \n",
       "14                                           The number of support tickets raised by the user per month.  \n",
       "15                                                              The gender of the user (Male or Female).  \n",
       "16                                                          The number of items in the user's watchlist.  \n",
       "17                               Indicates whether parental control is enabled for the user (Yes or No).  \n",
       "18                                     Indicates whether subtitles are enabled for the user (Yes or No).  \n",
       "19                                                                A unique identifier for each customer.  \n",
       "20  The target variable indicating whether a user has churned or not (1 for churned, 0 for not churned).  "
      ]
     },
     "execution_count": 1,
     "metadata": {},
     "output_type": "execute_result"
    }
   ],
   "source": [
    "import pandas as pd\n",
    "data_descriptions = pd.read_csv('data_descriptions.csv')\n",
    "pd.set_option('display.max_colwidth', None)\n",
    "data_descriptions"
   ]
  },
  {
   "cell_type": "markdown",
   "metadata": {},
   "source": [
    "## How to Submit your Predictions to Coursera\n",
    "Submission Format:\n",
    "\n",
    "In this notebook you should follow the steps below to explore the data, train a model using the data in `train.csv`, and then score your model using the data in `test.csv`. Your final submission should be a dataframe (call it `prediction_df` with two columns and exactly 104,480 rows (plus a header row). The first column should be `CustomerID` so that we know which prediction belongs to which observation. The second column should be called `predicted_probability` and should be a numeric column representing the __likellihood that the subscription will churn__.\n",
    "\n",
    "Your submission will show an error if you have extra columns (beyond `CustomerID` and `predicted_probability`) or extra rows. The order of the rows does not matter.\n",
    "\n",
    "The naming convention of the dataframe and columns are critical for our autograding, so please make sure to use the exact naming conventions of `prediction_df` with column names `CustomerID` and `predicted_probability`!\n",
    "\n",
    "To determine your final score, we will compare your `predicted_probability` predictions to the source of truth labels for the observations in `test.csv` and calculate the [ROC AUC](https://scikit-learn.org/stable/modules/generated/sklearn.metrics.roc_auc_score.html). We choose this metric because we not only want to be able to predict which subscriptions will be retained, but also want a well-calibrated likelihood score that can be used to target interventions and support most accurately."
   ]
  },
  {
   "cell_type": "markdown",
   "metadata": {},
   "source": [
    "## Import Python Modules\n",
    "\n",
    "First, import the primary modules that will be used in this project. Remember as this is an open-ended project please feel free to make use of any of your favorite libraries that you feel may be useful for this challenge. For example some of the following popular packages may be useful:\n",
    "\n",
    "- pandas\n",
    "- numpy\n",
    "- Scipy\n",
    "- Scikit-learn\n",
    "- keras\n",
    "- maplotlib\n",
    "- seaborn\n",
    "- etc, etc"
   ]
  },
  {
   "cell_type": "code",
   "execution_count": 2,
   "metadata": {},
   "outputs": [],
   "source": [
    "# Import required packages\n",
    "\n",
    "# Data packages\n",
    "import pandas as pd\n",
    "import numpy as np\n",
    "\n",
    "# Machine Learning / Classification packages\n",
    "from sklearn.metrics import roc_auc_score, roc_curve, accuracy_score, classification_report\n",
    "from sklearn.model_selection import train_test_split\n",
    "from sklearn.dummy import DummyClassifier\n",
    "\n",
    "# Visualization Packages\n",
    "from matplotlib import pyplot as plt\n",
    "import seaborn as sns\n",
    "%matplotlib inline"
   ]
  },
  {
   "cell_type": "code",
   "execution_count": 3,
   "metadata": {},
   "outputs": [],
   "source": [
    "# Import any other packages you may want to use\n"
   ]
  },
  {
   "cell_type": "markdown",
   "metadata": {},
   "source": [
    "## Load the Data\n",
    "\n",
    "Let's start by loading the dataset `train.csv` into a dataframe `train_df`, and `test.csv` into a dataframe `test_df` and display the shape of the dataframes."
   ]
  },
  {
   "cell_type": "code",
   "execution_count": 4,
   "metadata": {},
   "outputs": [
    {
     "name": "stdout",
     "output_type": "stream",
     "text": [
      "train_df Shape: (243787, 21)\n"
     ]
    },
    {
     "data": {
      "text/html": [
       "<div>\n",
       "<style scoped>\n",
       "    .dataframe tbody tr th:only-of-type {\n",
       "        vertical-align: middle;\n",
       "    }\n",
       "\n",
       "    .dataframe tbody tr th {\n",
       "        vertical-align: top;\n",
       "    }\n",
       "\n",
       "    .dataframe thead th {\n",
       "        text-align: right;\n",
       "    }\n",
       "</style>\n",
       "<table border=\"1\" class=\"dataframe\">\n",
       "  <thead>\n",
       "    <tr style=\"text-align: right;\">\n",
       "      <th></th>\n",
       "      <th>AccountAge</th>\n",
       "      <th>MonthlyCharges</th>\n",
       "      <th>TotalCharges</th>\n",
       "      <th>SubscriptionType</th>\n",
       "      <th>PaymentMethod</th>\n",
       "      <th>PaperlessBilling</th>\n",
       "      <th>ContentType</th>\n",
       "      <th>MultiDeviceAccess</th>\n",
       "      <th>DeviceRegistered</th>\n",
       "      <th>ViewingHoursPerWeek</th>\n",
       "      <th>...</th>\n",
       "      <th>ContentDownloadsPerMonth</th>\n",
       "      <th>GenrePreference</th>\n",
       "      <th>UserRating</th>\n",
       "      <th>SupportTicketsPerMonth</th>\n",
       "      <th>Gender</th>\n",
       "      <th>WatchlistSize</th>\n",
       "      <th>ParentalControl</th>\n",
       "      <th>SubtitlesEnabled</th>\n",
       "      <th>CustomerID</th>\n",
       "      <th>Churn</th>\n",
       "    </tr>\n",
       "  </thead>\n",
       "  <tbody>\n",
       "    <tr>\n",
       "      <th>0</th>\n",
       "      <td>20</td>\n",
       "      <td>11.055215</td>\n",
       "      <td>221.104302</td>\n",
       "      <td>Premium</td>\n",
       "      <td>Mailed check</td>\n",
       "      <td>No</td>\n",
       "      <td>Both</td>\n",
       "      <td>No</td>\n",
       "      <td>Mobile</td>\n",
       "      <td>36.758104</td>\n",
       "      <td>...</td>\n",
       "      <td>10</td>\n",
       "      <td>Sci-Fi</td>\n",
       "      <td>2.176498</td>\n",
       "      <td>4</td>\n",
       "      <td>Male</td>\n",
       "      <td>3</td>\n",
       "      <td>No</td>\n",
       "      <td>No</td>\n",
       "      <td>CB6SXPNVZA</td>\n",
       "      <td>0</td>\n",
       "    </tr>\n",
       "    <tr>\n",
       "      <th>1</th>\n",
       "      <td>57</td>\n",
       "      <td>5.175208</td>\n",
       "      <td>294.986882</td>\n",
       "      <td>Basic</td>\n",
       "      <td>Credit card</td>\n",
       "      <td>Yes</td>\n",
       "      <td>Movies</td>\n",
       "      <td>No</td>\n",
       "      <td>Tablet</td>\n",
       "      <td>32.450568</td>\n",
       "      <td>...</td>\n",
       "      <td>18</td>\n",
       "      <td>Action</td>\n",
       "      <td>3.478632</td>\n",
       "      <td>8</td>\n",
       "      <td>Male</td>\n",
       "      <td>23</td>\n",
       "      <td>No</td>\n",
       "      <td>Yes</td>\n",
       "      <td>S7R2G87O09</td>\n",
       "      <td>0</td>\n",
       "    </tr>\n",
       "    <tr>\n",
       "      <th>2</th>\n",
       "      <td>73</td>\n",
       "      <td>12.106657</td>\n",
       "      <td>883.785952</td>\n",
       "      <td>Basic</td>\n",
       "      <td>Mailed check</td>\n",
       "      <td>Yes</td>\n",
       "      <td>Movies</td>\n",
       "      <td>No</td>\n",
       "      <td>Computer</td>\n",
       "      <td>7.395160</td>\n",
       "      <td>...</td>\n",
       "      <td>23</td>\n",
       "      <td>Fantasy</td>\n",
       "      <td>4.238824</td>\n",
       "      <td>6</td>\n",
       "      <td>Male</td>\n",
       "      <td>1</td>\n",
       "      <td>Yes</td>\n",
       "      <td>Yes</td>\n",
       "      <td>EASDC20BDT</td>\n",
       "      <td>0</td>\n",
       "    </tr>\n",
       "    <tr>\n",
       "      <th>3</th>\n",
       "      <td>32</td>\n",
       "      <td>7.263743</td>\n",
       "      <td>232.439774</td>\n",
       "      <td>Basic</td>\n",
       "      <td>Electronic check</td>\n",
       "      <td>No</td>\n",
       "      <td>TV Shows</td>\n",
       "      <td>No</td>\n",
       "      <td>Tablet</td>\n",
       "      <td>27.960389</td>\n",
       "      <td>...</td>\n",
       "      <td>30</td>\n",
       "      <td>Drama</td>\n",
       "      <td>4.276013</td>\n",
       "      <td>2</td>\n",
       "      <td>Male</td>\n",
       "      <td>24</td>\n",
       "      <td>Yes</td>\n",
       "      <td>Yes</td>\n",
       "      <td>NPF69NT69N</td>\n",
       "      <td>0</td>\n",
       "    </tr>\n",
       "    <tr>\n",
       "      <th>4</th>\n",
       "      <td>57</td>\n",
       "      <td>16.953078</td>\n",
       "      <td>966.325422</td>\n",
       "      <td>Premium</td>\n",
       "      <td>Electronic check</td>\n",
       "      <td>Yes</td>\n",
       "      <td>TV Shows</td>\n",
       "      <td>No</td>\n",
       "      <td>TV</td>\n",
       "      <td>20.083397</td>\n",
       "      <td>...</td>\n",
       "      <td>20</td>\n",
       "      <td>Comedy</td>\n",
       "      <td>3.616170</td>\n",
       "      <td>4</td>\n",
       "      <td>Female</td>\n",
       "      <td>0</td>\n",
       "      <td>No</td>\n",
       "      <td>No</td>\n",
       "      <td>4LGYPK7VOL</td>\n",
       "      <td>0</td>\n",
       "    </tr>\n",
       "  </tbody>\n",
       "</table>\n",
       "<p>5 rows × 21 columns</p>\n",
       "</div>"
      ],
      "text/plain": [
       "   AccountAge  MonthlyCharges  TotalCharges SubscriptionType   \n",
       "0          20       11.055215    221.104302          Premium  \\\n",
       "1          57        5.175208    294.986882            Basic   \n",
       "2          73       12.106657    883.785952            Basic   \n",
       "3          32        7.263743    232.439774            Basic   \n",
       "4          57       16.953078    966.325422          Premium   \n",
       "\n",
       "      PaymentMethod PaperlessBilling ContentType MultiDeviceAccess   \n",
       "0      Mailed check               No        Both                No  \\\n",
       "1       Credit card              Yes      Movies                No   \n",
       "2      Mailed check              Yes      Movies                No   \n",
       "3  Electronic check               No    TV Shows                No   \n",
       "4  Electronic check              Yes    TV Shows                No   \n",
       "\n",
       "  DeviceRegistered  ViewingHoursPerWeek  ...  ContentDownloadsPerMonth   \n",
       "0           Mobile            36.758104  ...                        10  \\\n",
       "1           Tablet            32.450568  ...                        18   \n",
       "2         Computer             7.395160  ...                        23   \n",
       "3           Tablet            27.960389  ...                        30   \n",
       "4               TV            20.083397  ...                        20   \n",
       "\n",
       "   GenrePreference UserRating  SupportTicketsPerMonth  Gender WatchlistSize   \n",
       "0           Sci-Fi   2.176498                       4    Male             3  \\\n",
       "1           Action   3.478632                       8    Male            23   \n",
       "2          Fantasy   4.238824                       6    Male             1   \n",
       "3            Drama   4.276013                       2    Male            24   \n",
       "4           Comedy   3.616170                       4  Female             0   \n",
       "\n",
       "   ParentalControl SubtitlesEnabled  CustomerID Churn  \n",
       "0               No               No  CB6SXPNVZA     0  \n",
       "1               No              Yes  S7R2G87O09     0  \n",
       "2              Yes              Yes  EASDC20BDT     0  \n",
       "3              Yes              Yes  NPF69NT69N     0  \n",
       "4               No               No  4LGYPK7VOL     0  \n",
       "\n",
       "[5 rows x 21 columns]"
      ]
     },
     "execution_count": 4,
     "metadata": {},
     "output_type": "execute_result"
    }
   ],
   "source": [
    "train_df = pd.read_csv(\"train.csv\")\n",
    "print('train_df Shape:', train_df.shape)\n",
    "train_df.head()"
   ]
  },
  {
   "cell_type": "code",
   "execution_count": 5,
   "metadata": {},
   "outputs": [
    {
     "data": {
      "text/plain": [
       "Index(['AccountAge', 'MonthlyCharges', 'TotalCharges', 'SubscriptionType',\n",
       "       'PaymentMethod', 'PaperlessBilling', 'ContentType', 'MultiDeviceAccess',\n",
       "       'DeviceRegistered', 'ViewingHoursPerWeek', 'AverageViewingDuration',\n",
       "       'ContentDownloadsPerMonth', 'GenrePreference', 'UserRating',\n",
       "       'SupportTicketsPerMonth', 'Gender', 'WatchlistSize', 'ParentalControl',\n",
       "       'SubtitlesEnabled', 'CustomerID', 'Churn'],\n",
       "      dtype='object')"
      ]
     },
     "execution_count": 5,
     "metadata": {},
     "output_type": "execute_result"
    }
   ],
   "source": [
    "train_df.columns"
   ]
  },
  {
   "cell_type": "code",
   "execution_count": 6,
   "metadata": {},
   "outputs": [
    {
     "data": {
      "text/plain": [
       "21"
      ]
     },
     "execution_count": 6,
     "metadata": {},
     "output_type": "execute_result"
    }
   ],
   "source": [
    "len(train_df.columns)"
   ]
  },
  {
   "cell_type": "code",
   "execution_count": 7,
   "metadata": {},
   "outputs": [
    {
     "name": "stdout",
     "output_type": "stream",
     "text": [
      "<class 'pandas.core.frame.DataFrame'>\n",
      "RangeIndex: 243787 entries, 0 to 243786\n",
      "Data columns (total 21 columns):\n",
      " #   Column                    Non-Null Count   Dtype  \n",
      "---  ------                    --------------   -----  \n",
      " 0   AccountAge                243787 non-null  int64  \n",
      " 1   MonthlyCharges            243787 non-null  float64\n",
      " 2   TotalCharges              243787 non-null  float64\n",
      " 3   SubscriptionType          243787 non-null  object \n",
      " 4   PaymentMethod             243787 non-null  object \n",
      " 5   PaperlessBilling          243787 non-null  object \n",
      " 6   ContentType               243787 non-null  object \n",
      " 7   MultiDeviceAccess         243787 non-null  object \n",
      " 8   DeviceRegistered          243787 non-null  object \n",
      " 9   ViewingHoursPerWeek       243787 non-null  float64\n",
      " 10  AverageViewingDuration    243787 non-null  float64\n",
      " 11  ContentDownloadsPerMonth  243787 non-null  int64  \n",
      " 12  GenrePreference           243787 non-null  object \n",
      " 13  UserRating                243787 non-null  float64\n",
      " 14  SupportTicketsPerMonth    243787 non-null  int64  \n",
      " 15  Gender                    243787 non-null  object \n",
      " 16  WatchlistSize             243787 non-null  int64  \n",
      " 17  ParentalControl           243787 non-null  object \n",
      " 18  SubtitlesEnabled          243787 non-null  object \n",
      " 19  CustomerID                243787 non-null  object \n",
      " 20  Churn                     243787 non-null  int64  \n",
      "dtypes: float64(5), int64(5), object(11)\n",
      "memory usage: 39.1+ MB\n"
     ]
    }
   ],
   "source": [
    "train_df.info()"
   ]
  },
  {
   "cell_type": "code",
   "execution_count": 8,
   "metadata": {},
   "outputs": [
    {
     "name": "stdout",
     "output_type": "stream",
     "text": [
      "test_df Shape: (104480, 20)\n"
     ]
    },
    {
     "data": {
      "text/html": [
       "<div>\n",
       "<style scoped>\n",
       "    .dataframe tbody tr th:only-of-type {\n",
       "        vertical-align: middle;\n",
       "    }\n",
       "\n",
       "    .dataframe tbody tr th {\n",
       "        vertical-align: top;\n",
       "    }\n",
       "\n",
       "    .dataframe thead th {\n",
       "        text-align: right;\n",
       "    }\n",
       "</style>\n",
       "<table border=\"1\" class=\"dataframe\">\n",
       "  <thead>\n",
       "    <tr style=\"text-align: right;\">\n",
       "      <th></th>\n",
       "      <th>AccountAge</th>\n",
       "      <th>MonthlyCharges</th>\n",
       "      <th>TotalCharges</th>\n",
       "      <th>SubscriptionType</th>\n",
       "      <th>PaymentMethod</th>\n",
       "      <th>PaperlessBilling</th>\n",
       "      <th>ContentType</th>\n",
       "      <th>MultiDeviceAccess</th>\n",
       "      <th>DeviceRegistered</th>\n",
       "      <th>ViewingHoursPerWeek</th>\n",
       "      <th>AverageViewingDuration</th>\n",
       "      <th>ContentDownloadsPerMonth</th>\n",
       "      <th>GenrePreference</th>\n",
       "      <th>UserRating</th>\n",
       "      <th>SupportTicketsPerMonth</th>\n",
       "      <th>Gender</th>\n",
       "      <th>WatchlistSize</th>\n",
       "      <th>ParentalControl</th>\n",
       "      <th>SubtitlesEnabled</th>\n",
       "      <th>CustomerID</th>\n",
       "    </tr>\n",
       "  </thead>\n",
       "  <tbody>\n",
       "    <tr>\n",
       "      <th>0</th>\n",
       "      <td>38</td>\n",
       "      <td>17.869374</td>\n",
       "      <td>679.036195</td>\n",
       "      <td>Premium</td>\n",
       "      <td>Mailed check</td>\n",
       "      <td>No</td>\n",
       "      <td>TV Shows</td>\n",
       "      <td>No</td>\n",
       "      <td>TV</td>\n",
       "      <td>29.126308</td>\n",
       "      <td>122.274031</td>\n",
       "      <td>42</td>\n",
       "      <td>Comedy</td>\n",
       "      <td>3.522724</td>\n",
       "      <td>2</td>\n",
       "      <td>Male</td>\n",
       "      <td>23</td>\n",
       "      <td>No</td>\n",
       "      <td>No</td>\n",
       "      <td>O1W6BHP6RM</td>\n",
       "    </tr>\n",
       "    <tr>\n",
       "      <th>1</th>\n",
       "      <td>77</td>\n",
       "      <td>9.912854</td>\n",
       "      <td>763.289768</td>\n",
       "      <td>Basic</td>\n",
       "      <td>Electronic check</td>\n",
       "      <td>Yes</td>\n",
       "      <td>TV Shows</td>\n",
       "      <td>No</td>\n",
       "      <td>TV</td>\n",
       "      <td>36.873729</td>\n",
       "      <td>57.093319</td>\n",
       "      <td>43</td>\n",
       "      <td>Action</td>\n",
       "      <td>2.021545</td>\n",
       "      <td>2</td>\n",
       "      <td>Female</td>\n",
       "      <td>22</td>\n",
       "      <td>Yes</td>\n",
       "      <td>No</td>\n",
       "      <td>LFR4X92X8H</td>\n",
       "    </tr>\n",
       "    <tr>\n",
       "      <th>2</th>\n",
       "      <td>5</td>\n",
       "      <td>15.019011</td>\n",
       "      <td>75.095057</td>\n",
       "      <td>Standard</td>\n",
       "      <td>Bank transfer</td>\n",
       "      <td>No</td>\n",
       "      <td>TV Shows</td>\n",
       "      <td>Yes</td>\n",
       "      <td>Computer</td>\n",
       "      <td>7.601729</td>\n",
       "      <td>140.414001</td>\n",
       "      <td>14</td>\n",
       "      <td>Sci-Fi</td>\n",
       "      <td>4.806126</td>\n",
       "      <td>2</td>\n",
       "      <td>Female</td>\n",
       "      <td>22</td>\n",
       "      <td>No</td>\n",
       "      <td>Yes</td>\n",
       "      <td>QM5GBIYODA</td>\n",
       "    </tr>\n",
       "    <tr>\n",
       "      <th>3</th>\n",
       "      <td>88</td>\n",
       "      <td>15.357406</td>\n",
       "      <td>1351.451692</td>\n",
       "      <td>Standard</td>\n",
       "      <td>Electronic check</td>\n",
       "      <td>No</td>\n",
       "      <td>Both</td>\n",
       "      <td>Yes</td>\n",
       "      <td>Tablet</td>\n",
       "      <td>35.586430</td>\n",
       "      <td>177.002419</td>\n",
       "      <td>14</td>\n",
       "      <td>Comedy</td>\n",
       "      <td>4.943900</td>\n",
       "      <td>0</td>\n",
       "      <td>Female</td>\n",
       "      <td>23</td>\n",
       "      <td>Yes</td>\n",
       "      <td>Yes</td>\n",
       "      <td>D9RXTK2K9F</td>\n",
       "    </tr>\n",
       "    <tr>\n",
       "      <th>4</th>\n",
       "      <td>91</td>\n",
       "      <td>12.406033</td>\n",
       "      <td>1128.949004</td>\n",
       "      <td>Standard</td>\n",
       "      <td>Credit card</td>\n",
       "      <td>Yes</td>\n",
       "      <td>TV Shows</td>\n",
       "      <td>Yes</td>\n",
       "      <td>Tablet</td>\n",
       "      <td>23.503651</td>\n",
       "      <td>70.308376</td>\n",
       "      <td>6</td>\n",
       "      <td>Drama</td>\n",
       "      <td>2.846880</td>\n",
       "      <td>6</td>\n",
       "      <td>Female</td>\n",
       "      <td>0</td>\n",
       "      <td>No</td>\n",
       "      <td>No</td>\n",
       "      <td>ENTCCHR1LR</td>\n",
       "    </tr>\n",
       "  </tbody>\n",
       "</table>\n",
       "</div>"
      ],
      "text/plain": [
       "   AccountAge  MonthlyCharges  TotalCharges SubscriptionType   \n",
       "0          38       17.869374    679.036195          Premium  \\\n",
       "1          77        9.912854    763.289768            Basic   \n",
       "2           5       15.019011     75.095057         Standard   \n",
       "3          88       15.357406   1351.451692         Standard   \n",
       "4          91       12.406033   1128.949004         Standard   \n",
       "\n",
       "      PaymentMethod PaperlessBilling ContentType MultiDeviceAccess   \n",
       "0      Mailed check               No    TV Shows                No  \\\n",
       "1  Electronic check              Yes    TV Shows                No   \n",
       "2     Bank transfer               No    TV Shows               Yes   \n",
       "3  Electronic check               No        Both               Yes   \n",
       "4       Credit card              Yes    TV Shows               Yes   \n",
       "\n",
       "  DeviceRegistered  ViewingHoursPerWeek  AverageViewingDuration   \n",
       "0               TV            29.126308              122.274031  \\\n",
       "1               TV            36.873729               57.093319   \n",
       "2         Computer             7.601729              140.414001   \n",
       "3           Tablet            35.586430              177.002419   \n",
       "4           Tablet            23.503651               70.308376   \n",
       "\n",
       "   ContentDownloadsPerMonth GenrePreference  UserRating   \n",
       "0                        42          Comedy    3.522724  \\\n",
       "1                        43          Action    2.021545   \n",
       "2                        14          Sci-Fi    4.806126   \n",
       "3                        14          Comedy    4.943900   \n",
       "4                         6           Drama    2.846880   \n",
       "\n",
       "   SupportTicketsPerMonth  Gender  WatchlistSize ParentalControl   \n",
       "0                       2    Male             23              No  \\\n",
       "1                       2  Female             22             Yes   \n",
       "2                       2  Female             22              No   \n",
       "3                       0  Female             23             Yes   \n",
       "4                       6  Female              0              No   \n",
       "\n",
       "  SubtitlesEnabled  CustomerID  \n",
       "0               No  O1W6BHP6RM  \n",
       "1               No  LFR4X92X8H  \n",
       "2              Yes  QM5GBIYODA  \n",
       "3              Yes  D9RXTK2K9F  \n",
       "4               No  ENTCCHR1LR  "
      ]
     },
     "execution_count": 8,
     "metadata": {},
     "output_type": "execute_result"
    }
   ],
   "source": [
    "test_df = pd.read_csv(\"test.csv\")\n",
    "print('test_df Shape:', test_df.shape)\n",
    "test_df.head()"
   ]
  },
  {
   "cell_type": "markdown",
   "metadata": {},
   "source": [
    "## Explore, Clean, Validate, and Visualize the Data (optional)\n",
    "\n",
    "Feel free to explore, clean, validate, and visualize the data however you see fit for this competition to help determine or optimize your predictive model. Please note - the final autograding will only be on the accuracy of the `prediction_df` predictions."
   ]
  },
  {
   "cell_type": "code",
   "execution_count": 9,
   "metadata": {},
   "outputs": [
    {
     "data": {
      "text/html": [
       "<div>\n",
       "<style scoped>\n",
       "    .dataframe tbody tr th:only-of-type {\n",
       "        vertical-align: middle;\n",
       "    }\n",
       "\n",
       "    .dataframe tbody tr th {\n",
       "        vertical-align: top;\n",
       "    }\n",
       "\n",
       "    .dataframe thead th {\n",
       "        text-align: right;\n",
       "    }\n",
       "</style>\n",
       "<table border=\"1\" class=\"dataframe\">\n",
       "  <thead>\n",
       "    <tr style=\"text-align: right;\">\n",
       "      <th></th>\n",
       "      <th>AccountAge</th>\n",
       "      <th>MonthlyCharges</th>\n",
       "      <th>TotalCharges</th>\n",
       "      <th>SubscriptionType</th>\n",
       "      <th>PaymentMethod</th>\n",
       "      <th>PaperlessBilling</th>\n",
       "      <th>ContentType</th>\n",
       "      <th>MultiDeviceAccess</th>\n",
       "      <th>DeviceRegistered</th>\n",
       "      <th>ViewingHoursPerWeek</th>\n",
       "      <th>AverageViewingDuration</th>\n",
       "      <th>ContentDownloadsPerMonth</th>\n",
       "      <th>GenrePreference</th>\n",
       "      <th>UserRating</th>\n",
       "      <th>SupportTicketsPerMonth</th>\n",
       "      <th>Gender</th>\n",
       "      <th>WatchlistSize</th>\n",
       "      <th>ParentalControl</th>\n",
       "      <th>SubtitlesEnabled</th>\n",
       "      <th>Churn</th>\n",
       "    </tr>\n",
       "  </thead>\n",
       "  <tbody>\n",
       "    <tr>\n",
       "      <th>0</th>\n",
       "      <td>20</td>\n",
       "      <td>11.055215</td>\n",
       "      <td>221.104302</td>\n",
       "      <td>Premium</td>\n",
       "      <td>Mailed check</td>\n",
       "      <td>No</td>\n",
       "      <td>Both</td>\n",
       "      <td>No</td>\n",
       "      <td>Mobile</td>\n",
       "      <td>36.758104</td>\n",
       "      <td>63.531377</td>\n",
       "      <td>10</td>\n",
       "      <td>Sci-Fi</td>\n",
       "      <td>2.176498</td>\n",
       "      <td>4</td>\n",
       "      <td>Male</td>\n",
       "      <td>3</td>\n",
       "      <td>No</td>\n",
       "      <td>No</td>\n",
       "      <td>0</td>\n",
       "    </tr>\n",
       "    <tr>\n",
       "      <th>1</th>\n",
       "      <td>57</td>\n",
       "      <td>5.175208</td>\n",
       "      <td>294.986882</td>\n",
       "      <td>Basic</td>\n",
       "      <td>Credit card</td>\n",
       "      <td>Yes</td>\n",
       "      <td>Movies</td>\n",
       "      <td>No</td>\n",
       "      <td>Tablet</td>\n",
       "      <td>32.450568</td>\n",
       "      <td>25.725595</td>\n",
       "      <td>18</td>\n",
       "      <td>Action</td>\n",
       "      <td>3.478632</td>\n",
       "      <td>8</td>\n",
       "      <td>Male</td>\n",
       "      <td>23</td>\n",
       "      <td>No</td>\n",
       "      <td>Yes</td>\n",
       "      <td>0</td>\n",
       "    </tr>\n",
       "    <tr>\n",
       "      <th>2</th>\n",
       "      <td>73</td>\n",
       "      <td>12.106657</td>\n",
       "      <td>883.785952</td>\n",
       "      <td>Basic</td>\n",
       "      <td>Mailed check</td>\n",
       "      <td>Yes</td>\n",
       "      <td>Movies</td>\n",
       "      <td>No</td>\n",
       "      <td>Computer</td>\n",
       "      <td>7.395160</td>\n",
       "      <td>57.364061</td>\n",
       "      <td>23</td>\n",
       "      <td>Fantasy</td>\n",
       "      <td>4.238824</td>\n",
       "      <td>6</td>\n",
       "      <td>Male</td>\n",
       "      <td>1</td>\n",
       "      <td>Yes</td>\n",
       "      <td>Yes</td>\n",
       "      <td>0</td>\n",
       "    </tr>\n",
       "    <tr>\n",
       "      <th>3</th>\n",
       "      <td>32</td>\n",
       "      <td>7.263743</td>\n",
       "      <td>232.439774</td>\n",
       "      <td>Basic</td>\n",
       "      <td>Electronic check</td>\n",
       "      <td>No</td>\n",
       "      <td>TV Shows</td>\n",
       "      <td>No</td>\n",
       "      <td>Tablet</td>\n",
       "      <td>27.960389</td>\n",
       "      <td>131.537507</td>\n",
       "      <td>30</td>\n",
       "      <td>Drama</td>\n",
       "      <td>4.276013</td>\n",
       "      <td>2</td>\n",
       "      <td>Male</td>\n",
       "      <td>24</td>\n",
       "      <td>Yes</td>\n",
       "      <td>Yes</td>\n",
       "      <td>0</td>\n",
       "    </tr>\n",
       "    <tr>\n",
       "      <th>4</th>\n",
       "      <td>57</td>\n",
       "      <td>16.953078</td>\n",
       "      <td>966.325422</td>\n",
       "      <td>Premium</td>\n",
       "      <td>Electronic check</td>\n",
       "      <td>Yes</td>\n",
       "      <td>TV Shows</td>\n",
       "      <td>No</td>\n",
       "      <td>TV</td>\n",
       "      <td>20.083397</td>\n",
       "      <td>45.356653</td>\n",
       "      <td>20</td>\n",
       "      <td>Comedy</td>\n",
       "      <td>3.616170</td>\n",
       "      <td>4</td>\n",
       "      <td>Female</td>\n",
       "      <td>0</td>\n",
       "      <td>No</td>\n",
       "      <td>No</td>\n",
       "      <td>0</td>\n",
       "    </tr>\n",
       "  </tbody>\n",
       "</table>\n",
       "</div>"
      ],
      "text/plain": [
       "   AccountAge  MonthlyCharges  TotalCharges SubscriptionType   \n",
       "0          20       11.055215    221.104302          Premium  \\\n",
       "1          57        5.175208    294.986882            Basic   \n",
       "2          73       12.106657    883.785952            Basic   \n",
       "3          32        7.263743    232.439774            Basic   \n",
       "4          57       16.953078    966.325422          Premium   \n",
       "\n",
       "      PaymentMethod PaperlessBilling ContentType MultiDeviceAccess   \n",
       "0      Mailed check               No        Both                No  \\\n",
       "1       Credit card              Yes      Movies                No   \n",
       "2      Mailed check              Yes      Movies                No   \n",
       "3  Electronic check               No    TV Shows                No   \n",
       "4  Electronic check              Yes    TV Shows                No   \n",
       "\n",
       "  DeviceRegistered  ViewingHoursPerWeek  AverageViewingDuration   \n",
       "0           Mobile            36.758104               63.531377  \\\n",
       "1           Tablet            32.450568               25.725595   \n",
       "2         Computer             7.395160               57.364061   \n",
       "3           Tablet            27.960389              131.537507   \n",
       "4               TV            20.083397               45.356653   \n",
       "\n",
       "   ContentDownloadsPerMonth GenrePreference  UserRating   \n",
       "0                        10          Sci-Fi    2.176498  \\\n",
       "1                        18          Action    3.478632   \n",
       "2                        23         Fantasy    4.238824   \n",
       "3                        30           Drama    4.276013   \n",
       "4                        20          Comedy    3.616170   \n",
       "\n",
       "   SupportTicketsPerMonth  Gender  WatchlistSize ParentalControl   \n",
       "0                       4    Male              3              No  \\\n",
       "1                       8    Male             23              No   \n",
       "2                       6    Male              1             Yes   \n",
       "3                       2    Male             24             Yes   \n",
       "4                       4  Female              0              No   \n",
       "\n",
       "  SubtitlesEnabled  Churn  \n",
       "0               No      0  \n",
       "1              Yes      0  \n",
       "2              Yes      0  \n",
       "3              Yes      0  \n",
       "4               No      0  "
      ]
     },
     "execution_count": 9,
     "metadata": {},
     "output_type": "execute_result"
    }
   ],
   "source": [
    "train_df.drop(\"CustomerID\", axis=1, inplace=True)\n",
    "train_df.head()"
   ]
  },
  {
   "cell_type": "code",
   "execution_count": 10,
   "metadata": {},
   "outputs": [
    {
     "data": {
      "text/plain": [
       "Churn\n",
       "0    199605\n",
       "1     44182\n",
       "Name: count, dtype: int64"
      ]
     },
     "execution_count": 10,
     "metadata": {},
     "output_type": "execute_result"
    }
   ],
   "source": [
    "train_df[\"Churn\"].value_counts()"
   ]
  },
  {
   "cell_type": "code",
   "execution_count": 11,
   "metadata": {},
   "outputs": [
    {
     "data": {
      "text/plain": [
       "AccountAge                  0\n",
       "MonthlyCharges              0\n",
       "TotalCharges                0\n",
       "SubscriptionType            0\n",
       "PaymentMethod               0\n",
       "PaperlessBilling            0\n",
       "ContentType                 0\n",
       "MultiDeviceAccess           0\n",
       "DeviceRegistered            0\n",
       "ViewingHoursPerWeek         0\n",
       "AverageViewingDuration      0\n",
       "ContentDownloadsPerMonth    0\n",
       "GenrePreference             0\n",
       "UserRating                  0\n",
       "SupportTicketsPerMonth      0\n",
       "Gender                      0\n",
       "WatchlistSize               0\n",
       "ParentalControl             0\n",
       "SubtitlesEnabled            0\n",
       "Churn                       0\n",
       "dtype: int64"
      ]
     },
     "execution_count": 11,
     "metadata": {},
     "output_type": "execute_result"
    }
   ],
   "source": [
    "# train_df.isnull().sum() # find missing values\n",
    "train_df.isna().sum()"
   ]
  },
  {
   "cell_type": "code",
   "execution_count": null,
   "metadata": {},
   "outputs": [],
   "source": []
  },
  {
   "cell_type": "markdown",
   "metadata": {},
   "source": [
    "## Show Columns unique Values"
   ]
  },
  {
   "cell_type": "code",
   "execution_count": 12,
   "metadata": {},
   "outputs": [
    {
     "name": "stdout",
     "output_type": "stream",
     "text": [
      "AccountAge: [ 20  57  73  32 113  38  25  26  14 114   3  64  43  98  47  11  50   5\n",
      "  63  55  84  16  80 116  33  86  52  77   4  91 119  72  94  99  40  60\n",
      " 105  54  34  67  49 100   6  97  24  53  82  18   8  29   9 101  30  74\n",
      "  17  69  61  65  96  62  35  51 109  76   2  42 111  68  15  27  58 103\n",
      "  45  36  85 107 115  81 106  70  46  83  92   1  44 118  23  88   7  31\n",
      "  71  48  93 117  95  37 112  21 108  19  12  78 104  87  90 110  56  79\n",
      "  41  13  28  10  59  39  75 102  89  66  22]\n",
      "MonthlyCharges: [11.0552151   5.17520846 12.10665687 ... 14.51456873 18.14055532\n",
      " 11.59377449]\n",
      "TotalCharges: [ 221.10430197  294.98688225  883.78595161 ... 1640.14626689  126.98388725\n",
      " 1043.4397042 ]\n",
      "SubscriptionType: ['Premium' 'Basic' 'Standard']\n",
      "PaymentMethod: ['Mailed check' 'Credit card' 'Electronic check' 'Bank transfer']\n",
      "PaperlessBilling: ['No' 'Yes']\n",
      "ContentType: ['Both' 'Movies' 'TV Shows']\n",
      "MultiDeviceAccess: ['No' 'Yes']\n",
      "DeviceRegistered: ['Mobile' 'Tablet' 'Computer' 'TV']\n",
      "ViewingHoursPerWeek: [36.75810391 32.45056783  7.39516011 ... 10.62872846 30.46678245\n",
      " 24.97253673]\n",
      "AverageViewingDuration: [ 63.53137733  25.72559464  57.36406085 ... 176.18609505 153.38631494\n",
      "  84.824498  ]\n",
      "ContentDownloadsPerMonth: [10 18 23 30 20 35 28  0 49 26 15  6 41  3  1  7 37 25 22 43 13 17 40 12\n",
      "  8  2  4 16 34 29 19 31 11  9 42  5 47 36 39 48 27 46 45 33 21 24 44 38\n",
      " 14 32]\n",
      "GenrePreference: ['Sci-Fi' 'Action' 'Fantasy' 'Drama' 'Comedy']\n",
      "UserRating: [2.17649751 3.47863229 4.23882362 ... 4.01221731 2.13578882 1.42889572]\n",
      "SupportTicketsPerMonth: [4 8 6 2 9 0 1 7 3 5]\n",
      "Gender: ['Male' 'Female']\n",
      "WatchlistSize: [ 3 23  1 24  0  2 20 22  5 18  8 14 21 15 13 17  9  7 11 10 19  4 12 16\n",
      "  6]\n",
      "ParentalControl: ['No' 'Yes']\n",
      "SubtitlesEnabled: ['No' 'Yes']\n",
      "Churn: [0 1]\n"
     ]
    }
   ],
   "source": [
    "def printAllColumnsUniqueValues(df):\n",
    "    for col in df:\n",
    "        print(f'{col}: {df[col].unique()}') # show unique values in each column\n",
    "printAllColumnsUniqueValues(train_df)"
   ]
  },
  {
   "cell_type": "code",
   "execution_count": 13,
   "metadata": {},
   "outputs": [
    {
     "name": "stdout",
     "output_type": "stream",
     "text": [
      "AccountAge: [ 38  77   5  88  91 103  22  21  86 104  20  94 106  30 108  27  64  83\n",
      "  44  16  26  61   7  23  81   9  75  17  62  69  11  31  67  45 113  79\n",
      "  82  10  95  84  50  58 101 110  28 102  90  37  76  73  53   6  92  12\n",
      "  57  36  18 111  97 119  39 114  72  93  65  89  66 100  87 116 109  29\n",
      "  49  56  68  19  78   2  70  41  33  60  13  99 105  54  47   4  98  43\n",
      "  35  42 107  80  96  52   1  40  55  63  48  85  15  24 117 118   8  51\n",
      "  74  34 112  25  71  46 115  59   3  14  32]\n",
      "MonthlyCharges: [17.86937354  9.91285413 15.01901132 ... 18.13434307 19.77400987\n",
      "  7.43838545]\n",
      "TotalCharges: [ 679.03619453  763.28976817   75.09505659 ... 1922.2403651   909.60445412\n",
      "  818.22239896]\n",
      "SubscriptionType: ['Premium' 'Basic' 'Standard']\n",
      "PaymentMethod: ['Mailed check' 'Electronic check' 'Bank transfer' 'Credit card']\n",
      "PaperlessBilling: ['No' 'Yes']\n",
      "ContentType: ['TV Shows' 'Both' 'Movies']\n",
      "MultiDeviceAccess: ['No' 'Yes']\n",
      "DeviceRegistered: ['TV' 'Computer' 'Tablet' 'Mobile']\n",
      "ViewingHoursPerWeek: [29.12630786 36.87372943  7.6017294  ...  7.23630314 25.80928493\n",
      " 34.14617433]\n",
      "AverageViewingDuration: [122.27403067  57.09331949 140.41400107 ... 109.58315254 115.15356954\n",
      " 132.60680148]\n",
      "ContentDownloadsPerMonth: [42 43 14  6  1  9 35 44 19  3  7  5 39  0 20 18 36 47 40 24 32  4 38 26\n",
      " 34 46 10  2 21 11 23 31 16 15 25 28 37 27 41  8 17 49 22 29 48 12 13 33\n",
      " 45 30]\n",
      "GenrePreference: ['Comedy' 'Action' 'Sci-Fi' 'Drama' 'Fantasy']\n",
      "UserRating: [3.52272397 2.02154532 4.80612634 ... 2.99152743 4.99801873 4.67990992]\n",
      "SupportTicketsPerMonth: [2 0 6 1 4 9 5 7 3 8]\n",
      "Gender: ['Male' 'Female']\n",
      "WatchlistSize: [23 22  0  6  7  8  3  4 15 13  9 19 14 18 20  2 21 24 11  1 10 12 16 17\n",
      "  5]\n",
      "ParentalControl: ['No' 'Yes']\n",
      "SubtitlesEnabled: ['No' 'Yes']\n",
      "CustomerID: ['O1W6BHP6RM' 'LFR4X92X8H' 'QM5GBIYODA' ... 'IPDIA02ZE1' 'ITLFTPRJGV'\n",
      " 'Y204GZY6NE']\n"
     ]
    }
   ],
   "source": [
    "printAllColumnsUniqueValues(test_df)"
   ]
  },
  {
   "cell_type": "code",
   "execution_count": 14,
   "metadata": {},
   "outputs": [
    {
     "name": "stdout",
     "output_type": "stream",
     "text": [
      "SubscriptionType: ['Premium' 'Basic' 'Standard']\n",
      "PaymentMethod: ['Mailed check' 'Credit card' 'Electronic check' 'Bank transfer']\n",
      "PaperlessBilling: ['No' 'Yes']\n",
      "ContentType: ['Both' 'Movies' 'TV Shows']\n",
      "MultiDeviceAccess: ['No' 'Yes']\n",
      "DeviceRegistered: ['Mobile' 'Tablet' 'Computer' 'TV']\n",
      "GenrePreference: ['Sci-Fi' 'Action' 'Fantasy' 'Drama' 'Comedy']\n",
      "Gender: ['Male' 'Female']\n",
      "ParentalControl: ['No' 'Yes']\n",
      "SubtitlesEnabled: ['No' 'Yes']\n"
     ]
    }
   ],
   "source": [
    "def printUniqueValues(df):\n",
    "    for col in df:\n",
    "        if df[col].dtype == 'object':\n",
    "            print(f'{col}: {df[col].unique()}')  # show unique values in each column train_df\n",
    "        \n",
    "printUniqueValues(train_df)"
   ]
  },
  {
   "cell_type": "code",
   "execution_count": 15,
   "metadata": {},
   "outputs": [],
   "source": [
    "# your code here (optional)\n"
   ]
  },
  {
   "cell_type": "markdown",
   "metadata": {},
   "source": [
    "## EDA Dataset"
   ]
  },
  {
   "cell_type": "code",
   "execution_count": 16,
   "metadata": {},
   "outputs": [
    {
     "data": {
      "image/png": "[encoded data removed]",
      "text/plain": [
       "<Figure size 640x480 with 1 Axes>"
      ]
     },
     "metadata": {},
     "output_type": "display_data"
    }
   ],
   "source": [
    "train_df[\"Churn\"].value_counts().plot(kind='bar', title='Churn Counts');"
   ]
  },
  {
   "cell_type": "code",
   "execution_count": 17,
   "metadata": {},
   "outputs": [],
   "source": [
    "noChurn = train_df[train_df[\"Churn\"] == 0]\n",
    "yesChurn = train_df[train_df[\"Churn\"] == 1]\n"
   ]
  },
  {
   "cell_type": "code",
   "execution_count": 18,
   "metadata": {},
   "outputs": [
    {
     "data": {
      "text/html": [
       "<div>\n",
       "<style scoped>\n",
       "    .dataframe tbody tr th:only-of-type {\n",
       "        vertical-align: middle;\n",
       "    }\n",
       "\n",
       "    .dataframe tbody tr th {\n",
       "        vertical-align: top;\n",
       "    }\n",
       "\n",
       "    .dataframe thead th {\n",
       "        text-align: right;\n",
       "    }\n",
       "</style>\n",
       "<table border=\"1\" class=\"dataframe\">\n",
       "  <thead>\n",
       "    <tr style=\"text-align: right;\">\n",
       "      <th></th>\n",
       "      <th>AccountAge</th>\n",
       "      <th>MonthlyCharges</th>\n",
       "      <th>TotalCharges</th>\n",
       "      <th>ViewingHoursPerWeek</th>\n",
       "      <th>AverageViewingDuration</th>\n",
       "      <th>ContentDownloadsPerMonth</th>\n",
       "      <th>UserRating</th>\n",
       "      <th>SupportTicketsPerMonth</th>\n",
       "      <th>WatchlistSize</th>\n",
       "      <th>Churn</th>\n",
       "    </tr>\n",
       "  </thead>\n",
       "  <tbody>\n",
       "    <tr>\n",
       "      <th>count</th>\n",
       "      <td>199605.000000</td>\n",
       "      <td>199605.000000</td>\n",
       "      <td>199605.000000</td>\n",
       "      <td>199605.000000</td>\n",
       "      <td>199605.000000</td>\n",
       "      <td>199605.000000</td>\n",
       "      <td>199605.000000</td>\n",
       "      <td>199605.000000</td>\n",
       "      <td>199605.000000</td>\n",
       "      <td>199605.0</td>\n",
       "    </tr>\n",
       "    <tr>\n",
       "      <th>mean</th>\n",
       "      <td>63.273290</td>\n",
       "      <td>12.286129</td>\n",
       "      <td>780.402245</td>\n",
       "      <td>21.182697</td>\n",
       "      <td>95.754533</td>\n",
       "      <td>25.383853</td>\n",
       "      <td>2.990688</td>\n",
       "      <td>4.390576</td>\n",
       "      <td>11.944941</td>\n",
       "      <td>0.0</td>\n",
       "    </tr>\n",
       "    <tr>\n",
       "      <th>std</th>\n",
       "      <td>33.953685</td>\n",
       "      <td>4.317675</td>\n",
       "      <td>524.200292</td>\n",
       "      <td>11.198072</td>\n",
       "      <td>50.281449</td>\n",
       "      <td>14.358435</td>\n",
       "      <td>1.155398</td>\n",
       "      <td>2.866237</td>\n",
       "      <td>7.197050</td>\n",
       "      <td>0.0</td>\n",
       "    </tr>\n",
       "    <tr>\n",
       "      <th>min</th>\n",
       "      <td>1.000000</td>\n",
       "      <td>4.990062</td>\n",
       "      <td>4.999861</td>\n",
       "      <td>1.000133</td>\n",
       "      <td>5.000547</td>\n",
       "      <td>0.000000</td>\n",
       "      <td>1.000039</td>\n",
       "      <td>0.000000</td>\n",
       "      <td>0.000000</td>\n",
       "      <td>0.0</td>\n",
       "    </tr>\n",
       "    <tr>\n",
       "      <th>25%</th>\n",
       "      <td>35.000000</td>\n",
       "      <td>8.532456</td>\n",
       "      <td>362.799813</td>\n",
       "      <td>11.601957</td>\n",
       "      <td>52.664521</td>\n",
       "      <td>13.000000</td>\n",
       "      <td>1.986598</td>\n",
       "      <td>2.000000</td>\n",
       "      <td>6.000000</td>\n",
       "      <td>0.0</td>\n",
       "    </tr>\n",
       "    <tr>\n",
       "      <th>50%</th>\n",
       "      <td>65.000000</td>\n",
       "      <td>12.189954</td>\n",
       "      <td>684.445761</td>\n",
       "      <td>21.545178</td>\n",
       "      <td>97.505261</td>\n",
       "      <td>26.000000</td>\n",
       "      <td>2.983423</td>\n",
       "      <td>4.000000</td>\n",
       "      <td>12.000000</td>\n",
       "      <td>0.0</td>\n",
       "    </tr>\n",
       "    <tr>\n",
       "      <th>75%</th>\n",
       "      <td>93.000000</td>\n",
       "      <td>15.993218</td>\n",
       "      <td>1124.699587</td>\n",
       "      <td>30.931229</td>\n",
       "      <td>139.403329</td>\n",
       "      <td>38.000000</td>\n",
       "      <td>3.989193</td>\n",
       "      <td>7.000000</td>\n",
       "      <td>18.000000</td>\n",
       "      <td>0.0</td>\n",
       "    </tr>\n",
       "    <tr>\n",
       "      <th>max</th>\n",
       "      <td>119.000000</td>\n",
       "      <td>19.989957</td>\n",
       "      <td>2378.723844</td>\n",
       "      <td>39.999723</td>\n",
       "      <td>179.999275</td>\n",
       "      <td>49.000000</td>\n",
       "      <td>4.999982</td>\n",
       "      <td>9.000000</td>\n",
       "      <td>24.000000</td>\n",
       "      <td>0.0</td>\n",
       "    </tr>\n",
       "  </tbody>\n",
       "</table>\n",
       "</div>"
      ],
      "text/plain": [
       "          AccountAge  MonthlyCharges   TotalCharges  ViewingHoursPerWeek   \n",
       "count  199605.000000   199605.000000  199605.000000        199605.000000  \\\n",
       "mean       63.273290       12.286129     780.402245            21.182697   \n",
       "std        33.953685        4.317675     524.200292            11.198072   \n",
       "min         1.000000        4.990062       4.999861             1.000133   \n",
       "25%        35.000000        8.532456     362.799813            11.601957   \n",
       "50%        65.000000       12.189954     684.445761            21.545178   \n",
       "75%        93.000000       15.993218    1124.699587            30.931229   \n",
       "max       119.000000       19.989957    2378.723844            39.999723   \n",
       "\n",
       "       AverageViewingDuration  ContentDownloadsPerMonth     UserRating   \n",
       "count           199605.000000             199605.000000  199605.000000  \\\n",
       "mean                95.754533                 25.383853       2.990688   \n",
       "std                 50.281449                 14.358435       1.155398   \n",
       "min                  5.000547                  0.000000       1.000039   \n",
       "25%                 52.664521                 13.000000       1.986598   \n",
       "50%                 97.505261                 26.000000       2.983423   \n",
       "75%                139.403329                 38.000000       3.989193   \n",
       "max                179.999275                 49.000000       4.999982   \n",
       "\n",
       "       SupportTicketsPerMonth  WatchlistSize     Churn  \n",
       "count           199605.000000  199605.000000  199605.0  \n",
       "mean                 4.390576      11.944941       0.0  \n",
       "std                  2.866237       7.197050       0.0  \n",
       "min                  0.000000       0.000000       0.0  \n",
       "25%                  2.000000       6.000000       0.0  \n",
       "50%                  4.000000      12.000000       0.0  \n",
       "75%                  7.000000      18.000000       0.0  \n",
       "max                  9.000000      24.000000       0.0  "
      ]
     },
     "execution_count": 18,
     "metadata": {},
     "output_type": "execute_result"
    }
   ],
   "source": [
    "noChurn.describe()"
   ]
  },
  {
   "cell_type": "code",
   "execution_count": 19,
   "metadata": {},
   "outputs": [
    {
     "data": {
      "text/html": [
       "<div>\n",
       "<style scoped>\n",
       "    .dataframe tbody tr th:only-of-type {\n",
       "        vertical-align: middle;\n",
       "    }\n",
       "\n",
       "    .dataframe tbody tr th {\n",
       "        vertical-align: top;\n",
       "    }\n",
       "\n",
       "    .dataframe thead th {\n",
       "        text-align: right;\n",
       "    }\n",
       "</style>\n",
       "<table border=\"1\" class=\"dataframe\">\n",
       "  <thead>\n",
       "    <tr style=\"text-align: right;\">\n",
       "      <th></th>\n",
       "      <th>AccountAge</th>\n",
       "      <th>MonthlyCharges</th>\n",
       "      <th>TotalCharges</th>\n",
       "      <th>ViewingHoursPerWeek</th>\n",
       "      <th>AverageViewingDuration</th>\n",
       "      <th>ContentDownloadsPerMonth</th>\n",
       "      <th>UserRating</th>\n",
       "      <th>SupportTicketsPerMonth</th>\n",
       "      <th>WatchlistSize</th>\n",
       "      <th>Churn</th>\n",
       "    </tr>\n",
       "  </thead>\n",
       "  <tbody>\n",
       "    <tr>\n",
       "      <th>count</th>\n",
       "      <td>44182.000000</td>\n",
       "      <td>44182.000000</td>\n",
       "      <td>44182.000000</td>\n",
       "      <td>44182.000000</td>\n",
       "      <td>44182.000000</td>\n",
       "      <td>44182.000000</td>\n",
       "      <td>44182.000000</td>\n",
       "      <td>44182.000000</td>\n",
       "      <td>44182.000000</td>\n",
       "      <td>44182.0</td>\n",
       "    </tr>\n",
       "    <tr>\n",
       "      <th>mean</th>\n",
       "      <td>45.674121</td>\n",
       "      <td>13.414880</td>\n",
       "      <td>616.737816</td>\n",
       "      <td>17.427741</td>\n",
       "      <td>76.494840</td>\n",
       "      <td>20.526323</td>\n",
       "      <td>3.057037</td>\n",
       "      <td>5.017451</td>\n",
       "      <td>12.350867</td>\n",
       "      <td>1.0</td>\n",
       "    </tr>\n",
       "    <tr>\n",
       "      <th>std</th>\n",
       "      <td>32.001262</td>\n",
       "      <td>4.251322</td>\n",
       "      <td>496.333924</td>\n",
       "      <td>10.932147</td>\n",
       "      <td>48.466716</td>\n",
       "      <td>14.028993</td>\n",
       "      <td>1.153083</td>\n",
       "      <td>2.844926</td>\n",
       "      <td>7.165535</td>\n",
       "      <td>0.0</td>\n",
       "    </tr>\n",
       "    <tr>\n",
       "      <th>min</th>\n",
       "      <td>1.000000</td>\n",
       "      <td>4.990112</td>\n",
       "      <td>4.991154</td>\n",
       "      <td>1.000065</td>\n",
       "      <td>5.002643</td>\n",
       "      <td>0.000000</td>\n",
       "      <td>1.000007</td>\n",
       "      <td>0.000000</td>\n",
       "      <td>0.000000</td>\n",
       "      <td>1.0</td>\n",
       "    </tr>\n",
       "    <tr>\n",
       "      <th>25%</th>\n",
       "      <td>18.000000</td>\n",
       "      <td>9.963733</td>\n",
       "      <td>218.502198</td>\n",
       "      <td>7.898715</td>\n",
       "      <td>34.398096</td>\n",
       "      <td>8.000000</td>\n",
       "      <td>2.065083</td>\n",
       "      <td>3.000000</td>\n",
       "      <td>6.000000</td>\n",
       "      <td>1.0</td>\n",
       "    </tr>\n",
       "    <tr>\n",
       "      <th>50%</th>\n",
       "      <td>40.000000</td>\n",
       "      <td>13.855745</td>\n",
       "      <td>488.927265</td>\n",
       "      <td>16.079108</td>\n",
       "      <td>69.772525</td>\n",
       "      <td>19.000000</td>\n",
       "      <td>3.084849</td>\n",
       "      <td>5.000000</td>\n",
       "      <td>13.000000</td>\n",
       "      <td>1.0</td>\n",
       "    </tr>\n",
       "    <tr>\n",
       "      <th>75%</th>\n",
       "      <td>69.000000</td>\n",
       "      <td>17.132808</td>\n",
       "      <td>903.552235</td>\n",
       "      <td>26.218169</td>\n",
       "      <td>114.371954</td>\n",
       "      <td>32.000000</td>\n",
       "      <td>4.057920</td>\n",
       "      <td>8.000000</td>\n",
       "      <td>19.000000</td>\n",
       "      <td>1.0</td>\n",
       "    </tr>\n",
       "    <tr>\n",
       "      <th>max</th>\n",
       "      <td>119.000000</td>\n",
       "      <td>19.989741</td>\n",
       "      <td>2356.614662</td>\n",
       "      <td>39.997750</td>\n",
       "      <td>179.991594</td>\n",
       "      <td>49.000000</td>\n",
       "      <td>4.999989</td>\n",
       "      <td>9.000000</td>\n",
       "      <td>24.000000</td>\n",
       "      <td>1.0</td>\n",
       "    </tr>\n",
       "  </tbody>\n",
       "</table>\n",
       "</div>"
      ],
      "text/plain": [
       "         AccountAge  MonthlyCharges  TotalCharges  ViewingHoursPerWeek   \n",
       "count  44182.000000    44182.000000  44182.000000         44182.000000  \\\n",
       "mean      45.674121       13.414880    616.737816            17.427741   \n",
       "std       32.001262        4.251322    496.333924            10.932147   \n",
       "min        1.000000        4.990112      4.991154             1.000065   \n",
       "25%       18.000000        9.963733    218.502198             7.898715   \n",
       "50%       40.000000       13.855745    488.927265            16.079108   \n",
       "75%       69.000000       17.132808    903.552235            26.218169   \n",
       "max      119.000000       19.989741   2356.614662            39.997750   \n",
       "\n",
       "       AverageViewingDuration  ContentDownloadsPerMonth    UserRating   \n",
       "count            44182.000000              44182.000000  44182.000000  \\\n",
       "mean                76.494840                 20.526323      3.057037   \n",
       "std                 48.466716                 14.028993      1.153083   \n",
       "min                  5.002643                  0.000000      1.000007   \n",
       "25%                 34.398096                  8.000000      2.065083   \n",
       "50%                 69.772525                 19.000000      3.084849   \n",
       "75%                114.371954                 32.000000      4.057920   \n",
       "max                179.991594                 49.000000      4.999989   \n",
       "\n",
       "       SupportTicketsPerMonth  WatchlistSize    Churn  \n",
       "count            44182.000000   44182.000000  44182.0  \n",
       "mean                 5.017451      12.350867      1.0  \n",
       "std                  2.844926       7.165535      0.0  \n",
       "min                  0.000000       0.000000      1.0  \n",
       "25%                  3.000000       6.000000      1.0  \n",
       "50%                  5.000000      13.000000      1.0  \n",
       "75%                  8.000000      19.000000      1.0  \n",
       "max                  9.000000      24.000000      1.0  "
      ]
     },
     "execution_count": 19,
     "metadata": {},
     "output_type": "execute_result"
    }
   ],
   "source": [
    "yesChurn.describe()"
   ]
  },
  {
   "cell_type": "code",
   "execution_count": 20,
   "metadata": {},
   "outputs": [
    {
     "data": {
      "image/png": "[encoded data removed]",
      "text/plain": [
       "<Figure size 640x480 with 1 Axes>"
      ]
     },
     "metadata": {},
     "output_type": "display_data"
    }
   ],
   "source": [
    "plt.xlabel(\"Monthly Charges\")\n",
    "plt.ylabel(\"Number Of Customers\")\n",
    "plt.title(\"Customer Churn Prediction Visualiztion\")\n",
    "plt.hist([noChurn.MonthlyCharges, yesChurn.MonthlyCharges], color = ['red', 'green'], label = ['Churn=No', 'Churn=Yes'])\n",
    "plt.legend();\n"
   ]
  },
  {
   "cell_type": "code",
   "execution_count": 21,
   "metadata": {},
   "outputs": [
    {
     "data": {
      "text/plain": [
       "Index(['AccountAge', 'MonthlyCharges', 'TotalCharges', 'SubscriptionType',\n",
       "       'PaymentMethod', 'PaperlessBilling', 'ContentType', 'MultiDeviceAccess',\n",
       "       'DeviceRegistered', 'ViewingHoursPerWeek', 'AverageViewingDuration',\n",
       "       'ContentDownloadsPerMonth', 'GenrePreference', 'UserRating',\n",
       "       'SupportTicketsPerMonth', 'Gender', 'WatchlistSize', 'ParentalControl',\n",
       "       'SubtitlesEnabled', 'Churn'],\n",
       "      dtype='object')"
      ]
     },
     "execution_count": 21,
     "metadata": {},
     "output_type": "execute_result"
    }
   ],
   "source": [
    "noChurn.columns"
   ]
  },
  {
   "cell_type": "code",
   "execution_count": 22,
   "metadata": {},
   "outputs": [
    {
     "data": {
      "image/png": "[encoded data removed]",
      "text/plain": [
       "<Figure size 640x480 with 1 Axes>"
      ]
     },
     "metadata": {},
     "output_type": "display_data"
    }
   ],
   "source": [
    "plt.xlabel(\"Total Charges\")\n",
    "plt.ylabel(\"Number Of Customers\")\n",
    "plt.title(\"Customer Churn Prediction Visualiztion\")\n",
    "plt.hist([noChurn.TotalCharges, yesChurn.TotalCharges],color= ['red', 'green'], label=['Churn=No', 'Churn=Yes'])\n",
    "plt.legend();"
   ]
  },
  {
   "cell_type": "code",
   "execution_count": 23,
   "metadata": {},
   "outputs": [
    {
     "data": {
      "image/png": "[encoded data removed]",
      "text/plain": [
       "<Figure size 640x480 with 1 Axes>"
      ]
     },
     "metadata": {},
     "output_type": "display_data"
    }
   ],
   "source": [
    "plt.xlabel(\"Viewing Hours Per Week\")\n",
    "plt.ylabel(\"Number Of Customers\")\n",
    "plt.title(\"Customer Churn Prediction Visualiztion\")\n",
    "plt.hist([noChurn.ViewingHoursPerWeek, yesChurn.ViewingHoursPerWeek], color=['red', 'green'], label=['Churn=No', 'Churn=Yes'])\n",
    "plt.legend();"
   ]
  },
  {
   "cell_type": "code",
   "execution_count": 24,
   "metadata": {},
   "outputs": [
    {
     "data": {
      "image/png": "[encoded data removed]",
      "text/plain": [
       "<Figure size 640x480 with 1 Axes>"
      ]
     },
     "metadata": {},
     "output_type": "display_data"
    }
   ],
   "source": [
    "plt.xlabel(\"Average Viewing Duration\")\n",
    "plt.ylabel(\"Number Of Customers\")\n",
    "plt.title(\"Customer Churn Prediction Visualiztion\")\n",
    "plt.hist([noChurn.AverageViewingDuration, yesChurn.AverageViewingDuration], color=['red', 'green'], label=['Churn=No', 'Churn=Yes'])\n",
    "plt.legend();"
   ]
  },
  {
   "cell_type": "markdown",
   "metadata": {},
   "source": [
    "# Data Cleaning\n",
    "\n",
    "## Convert yes or no unique values to 1 or 0 , One Hot Enoding"
   ]
  },
  {
   "cell_type": "code",
   "execution_count": 25,
   "metadata": {},
   "outputs": [],
   "source": [
    "# define yes or no column\n",
    "yesNoColumns = [\"PaperlessBilling\", \"MultiDeviceAccess\", \"ParentalControl\", \"SubtitlesEnabled\"]\n",
    "# define several columns for one hot encoding\n",
    "columnsForOneHotEncoding = [\"SubscriptionType\", \"PaymentMethod\", \"ContentType\", \"DeviceRegistered\", \"GenrePreference\"]\n",
    "# define the columbns to be scaled\n",
    "columnsToScale = [\"AccountAge\",\"MonthlyCharges\", \"TotalCharges\", \"ViewingHoursPerWeek\", \"AverageViewingDuration\", \n",
    "                  \"ContentDownloadsPerMonth\", \"UserRating\", \"SupportTicketsPerMonth\" ]\n",
    "\n",
    "# for col in yesNoColumns:\n",
    "#     train_df[col].replace({'Yes': 1, 'No': 0}, inplace=True)"
   ]
  },
  {
   "cell_type": "code",
   "execution_count": 26,
   "metadata": {},
   "outputs": [
    {
     "data": {
      "text/html": [
       "<div>\n",
       "<style scoped>\n",
       "    .dataframe tbody tr th:only-of-type {\n",
       "        vertical-align: middle;\n",
       "    }\n",
       "\n",
       "    .dataframe tbody tr th {\n",
       "        vertical-align: top;\n",
       "    }\n",
       "\n",
       "    .dataframe thead th {\n",
       "        text-align: right;\n",
       "    }\n",
       "</style>\n",
       "<table border=\"1\" class=\"dataframe\">\n",
       "  <thead>\n",
       "    <tr style=\"text-align: right;\">\n",
       "      <th></th>\n",
       "      <th>AccountAge</th>\n",
       "      <th>MonthlyCharges</th>\n",
       "      <th>TotalCharges</th>\n",
       "      <th>SubscriptionType</th>\n",
       "      <th>PaymentMethod</th>\n",
       "      <th>PaperlessBilling</th>\n",
       "      <th>ContentType</th>\n",
       "      <th>MultiDeviceAccess</th>\n",
       "      <th>DeviceRegistered</th>\n",
       "      <th>ViewingHoursPerWeek</th>\n",
       "      <th>AverageViewingDuration</th>\n",
       "      <th>ContentDownloadsPerMonth</th>\n",
       "      <th>GenrePreference</th>\n",
       "      <th>UserRating</th>\n",
       "      <th>SupportTicketsPerMonth</th>\n",
       "      <th>Gender</th>\n",
       "      <th>WatchlistSize</th>\n",
       "      <th>ParentalControl</th>\n",
       "      <th>SubtitlesEnabled</th>\n",
       "      <th>Churn</th>\n",
       "    </tr>\n",
       "  </thead>\n",
       "  <tbody>\n",
       "    <tr>\n",
       "      <th>0</th>\n",
       "      <td>20</td>\n",
       "      <td>11.055215</td>\n",
       "      <td>221.104302</td>\n",
       "      <td>Premium</td>\n",
       "      <td>Mailed check</td>\n",
       "      <td>No</td>\n",
       "      <td>Both</td>\n",
       "      <td>No</td>\n",
       "      <td>Mobile</td>\n",
       "      <td>36.758104</td>\n",
       "      <td>63.531377</td>\n",
       "      <td>10</td>\n",
       "      <td>Sci-Fi</td>\n",
       "      <td>2.176498</td>\n",
       "      <td>4</td>\n",
       "      <td>Male</td>\n",
       "      <td>3</td>\n",
       "      <td>No</td>\n",
       "      <td>No</td>\n",
       "      <td>0</td>\n",
       "    </tr>\n",
       "    <tr>\n",
       "      <th>1</th>\n",
       "      <td>57</td>\n",
       "      <td>5.175208</td>\n",
       "      <td>294.986882</td>\n",
       "      <td>Basic</td>\n",
       "      <td>Credit card</td>\n",
       "      <td>Yes</td>\n",
       "      <td>Movies</td>\n",
       "      <td>No</td>\n",
       "      <td>Tablet</td>\n",
       "      <td>32.450568</td>\n",
       "      <td>25.725595</td>\n",
       "      <td>18</td>\n",
       "      <td>Action</td>\n",
       "      <td>3.478632</td>\n",
       "      <td>8</td>\n",
       "      <td>Male</td>\n",
       "      <td>23</td>\n",
       "      <td>No</td>\n",
       "      <td>Yes</td>\n",
       "      <td>0</td>\n",
       "    </tr>\n",
       "    <tr>\n",
       "      <th>2</th>\n",
       "      <td>73</td>\n",
       "      <td>12.106657</td>\n",
       "      <td>883.785952</td>\n",
       "      <td>Basic</td>\n",
       "      <td>Mailed check</td>\n",
       "      <td>Yes</td>\n",
       "      <td>Movies</td>\n",
       "      <td>No</td>\n",
       "      <td>Computer</td>\n",
       "      <td>7.395160</td>\n",
       "      <td>57.364061</td>\n",
       "      <td>23</td>\n",
       "      <td>Fantasy</td>\n",
       "      <td>4.238824</td>\n",
       "      <td>6</td>\n",
       "      <td>Male</td>\n",
       "      <td>1</td>\n",
       "      <td>Yes</td>\n",
       "      <td>Yes</td>\n",
       "      <td>0</td>\n",
       "    </tr>\n",
       "    <tr>\n",
       "      <th>3</th>\n",
       "      <td>32</td>\n",
       "      <td>7.263743</td>\n",
       "      <td>232.439774</td>\n",
       "      <td>Basic</td>\n",
       "      <td>Electronic check</td>\n",
       "      <td>No</td>\n",
       "      <td>TV Shows</td>\n",
       "      <td>No</td>\n",
       "      <td>Tablet</td>\n",
       "      <td>27.960389</td>\n",
       "      <td>131.537507</td>\n",
       "      <td>30</td>\n",
       "      <td>Drama</td>\n",
       "      <td>4.276013</td>\n",
       "      <td>2</td>\n",
       "      <td>Male</td>\n",
       "      <td>24</td>\n",
       "      <td>Yes</td>\n",
       "      <td>Yes</td>\n",
       "      <td>0</td>\n",
       "    </tr>\n",
       "    <tr>\n",
       "      <th>4</th>\n",
       "      <td>57</td>\n",
       "      <td>16.953078</td>\n",
       "      <td>966.325422</td>\n",
       "      <td>Premium</td>\n",
       "      <td>Electronic check</td>\n",
       "      <td>Yes</td>\n",
       "      <td>TV Shows</td>\n",
       "      <td>No</td>\n",
       "      <td>TV</td>\n",
       "      <td>20.083397</td>\n",
       "      <td>45.356653</td>\n",
       "      <td>20</td>\n",
       "      <td>Comedy</td>\n",
       "      <td>3.616170</td>\n",
       "      <td>4</td>\n",
       "      <td>Female</td>\n",
       "      <td>0</td>\n",
       "      <td>No</td>\n",
       "      <td>No</td>\n",
       "      <td>0</td>\n",
       "    </tr>\n",
       "  </tbody>\n",
       "</table>\n",
       "</div>"
      ],
      "text/plain": [
       "   AccountAge  MonthlyCharges  TotalCharges SubscriptionType   \n",
       "0          20       11.055215    221.104302          Premium  \\\n",
       "1          57        5.175208    294.986882            Basic   \n",
       "2          73       12.106657    883.785952            Basic   \n",
       "3          32        7.263743    232.439774            Basic   \n",
       "4          57       16.953078    966.325422          Premium   \n",
       "\n",
       "      PaymentMethod PaperlessBilling ContentType MultiDeviceAccess   \n",
       "0      Mailed check               No        Both                No  \\\n",
       "1       Credit card              Yes      Movies                No   \n",
       "2      Mailed check              Yes      Movies                No   \n",
       "3  Electronic check               No    TV Shows                No   \n",
       "4  Electronic check              Yes    TV Shows                No   \n",
       "\n",
       "  DeviceRegistered  ViewingHoursPerWeek  AverageViewingDuration   \n",
       "0           Mobile            36.758104               63.531377  \\\n",
       "1           Tablet            32.450568               25.725595   \n",
       "2         Computer             7.395160               57.364061   \n",
       "3           Tablet            27.960389              131.537507   \n",
       "4               TV            20.083397               45.356653   \n",
       "\n",
       "   ContentDownloadsPerMonth GenrePreference  UserRating   \n",
       "0                        10          Sci-Fi    2.176498  \\\n",
       "1                        18          Action    3.478632   \n",
       "2                        23         Fantasy    4.238824   \n",
       "3                        30           Drama    4.276013   \n",
       "4                        20          Comedy    3.616170   \n",
       "\n",
       "   SupportTicketsPerMonth  Gender  WatchlistSize ParentalControl   \n",
       "0                       4    Male              3              No  \\\n",
       "1                       8    Male             23              No   \n",
       "2                       6    Male              1             Yes   \n",
       "3                       2    Male             24             Yes   \n",
       "4                       4  Female              0              No   \n",
       "\n",
       "  SubtitlesEnabled  Churn  \n",
       "0               No      0  \n",
       "1              Yes      0  \n",
       "2              Yes      0  \n",
       "3              Yes      0  \n",
       "4               No      0  "
      ]
     },
     "execution_count": 26,
     "metadata": {},
     "output_type": "execute_result"
    }
   ],
   "source": [
    "train_df.head()"
   ]
  },
  {
   "cell_type": "code",
   "execution_count": 27,
   "metadata": {},
   "outputs": [
    {
     "name": "stdout",
     "output_type": "stream",
     "text": [
      "SubscriptionType: ['Premium' 'Basic' 'Standard']\n",
      "PaymentMethod: ['Mailed check' 'Credit card' 'Electronic check' 'Bank transfer']\n",
      "PaperlessBilling: ['No' 'Yes']\n",
      "ContentType: ['Both' 'Movies' 'TV Shows']\n",
      "MultiDeviceAccess: ['No' 'Yes']\n",
      "DeviceRegistered: ['Mobile' 'Tablet' 'Computer' 'TV']\n",
      "GenrePreference: ['Sci-Fi' 'Action' 'Fantasy' 'Drama' 'Comedy']\n",
      "Gender: ['Male' 'Female']\n",
      "ParentalControl: ['No' 'Yes']\n",
      "SubtitlesEnabled: ['No' 'Yes']\n"
     ]
    }
   ],
   "source": [
    "printUniqueValues(train_df)"
   ]
  },
  {
   "cell_type": "markdown",
   "metadata": {},
   "source": [
    "### Balance the training data"
   ]
  },
  {
   "cell_type": "code",
   "execution_count": 28,
   "metadata": {},
   "outputs": [
    {
     "data": {
      "text/plain": [
       "(44182, 199605)"
      ]
     },
     "execution_count": 28,
     "metadata": {},
     "output_type": "execute_result"
    }
   ],
   "source": [
    "len(yesChurn) , len(noChurn) # seem to be imbalanced , yes churn is less than no churn"
   ]
  },
  {
   "cell_type": "code",
   "execution_count": 29,
   "metadata": {},
   "outputs": [
    {
     "data": {
      "text/plain": [
       "(44182, 20)"
      ]
     },
     "execution_count": 29,
     "metadata": {},
     "output_type": "execute_result"
    }
   ],
   "source": [
    "sampledNoChurn = noChurn.sample(n=len(yesChurn), random_state=42)\n",
    "sampledNoChurn.shape"
   ]
  },
  {
   "cell_type": "markdown",
   "metadata": {},
   "source": [
    "### combine undersample no churn with yes churn become balanced training data"
   ]
  },
  {
   "cell_type": "code",
   "execution_count": 30,
   "metadata": {},
   "outputs": [
    {
     "data": {
      "text/plain": [
       "(88364, 20)"
      ]
     },
     "execution_count": 30,
     "metadata": {},
     "output_type": "execute_result"
    }
   ],
   "source": [
    "balanceTrainDF = pd.concat([sampledNoChurn, yesChurn], axis=0)\n",
    "balanceTrainDF.shape"
   ]
  },
  {
   "cell_type": "code",
   "execution_count": 31,
   "metadata": {},
   "outputs": [
    {
     "data": {
      "image/png": "[encoded data removed]",
      "text/plain": [
       "<Figure size 640x480 with 1 Axes>"
      ]
     },
     "metadata": {},
     "output_type": "display_data"
    }
   ],
   "source": [
    "balanceTrainDF[\"Churn\"].value_counts().plot(kind='bar', title='Churn Counts');"
   ]
  },
  {
   "cell_type": "code",
   "execution_count": null,
   "metadata": {},
   "outputs": [],
   "source": []
  },
  {
   "cell_type": "code",
   "execution_count": 32,
   "metadata": {},
   "outputs": [],
   "source": [
    "# random order the row data\n",
    "balanceTrainDF = balanceTrainDF.sample(frac=1).reset_index(drop=True)\n"
   ]
  },
  {
   "cell_type": "code",
   "execution_count": 33,
   "metadata": {},
   "outputs": [
    {
     "data": {
      "text/html": [
       "<div>\n",
       "<style scoped>\n",
       "    .dataframe tbody tr th:only-of-type {\n",
       "        vertical-align: middle;\n",
       "    }\n",
       "\n",
       "    .dataframe tbody tr th {\n",
       "        vertical-align: top;\n",
       "    }\n",
       "\n",
       "    .dataframe thead th {\n",
       "        text-align: right;\n",
       "    }\n",
       "</style>\n",
       "<table border=\"1\" class=\"dataframe\">\n",
       "  <thead>\n",
       "    <tr style=\"text-align: right;\">\n",
       "      <th></th>\n",
       "      <th>AccountAge</th>\n",
       "      <th>MonthlyCharges</th>\n",
       "      <th>TotalCharges</th>\n",
       "      <th>SubscriptionType</th>\n",
       "      <th>PaymentMethod</th>\n",
       "      <th>PaperlessBilling</th>\n",
       "      <th>ContentType</th>\n",
       "      <th>MultiDeviceAccess</th>\n",
       "      <th>DeviceRegistered</th>\n",
       "      <th>ViewingHoursPerWeek</th>\n",
       "      <th>AverageViewingDuration</th>\n",
       "      <th>ContentDownloadsPerMonth</th>\n",
       "      <th>GenrePreference</th>\n",
       "      <th>UserRating</th>\n",
       "      <th>SupportTicketsPerMonth</th>\n",
       "      <th>Gender</th>\n",
       "      <th>WatchlistSize</th>\n",
       "      <th>ParentalControl</th>\n",
       "      <th>SubtitlesEnabled</th>\n",
       "      <th>Churn</th>\n",
       "    </tr>\n",
       "  </thead>\n",
       "  <tbody>\n",
       "    <tr>\n",
       "      <th>0</th>\n",
       "      <td>58</td>\n",
       "      <td>19.098906</td>\n",
       "      <td>1107.736549</td>\n",
       "      <td>Basic</td>\n",
       "      <td>Credit card</td>\n",
       "      <td>No</td>\n",
       "      <td>Movies</td>\n",
       "      <td>No</td>\n",
       "      <td>Tablet</td>\n",
       "      <td>30.069979</td>\n",
       "      <td>134.730400</td>\n",
       "      <td>18</td>\n",
       "      <td>Comedy</td>\n",
       "      <td>3.451714</td>\n",
       "      <td>9</td>\n",
       "      <td>Male</td>\n",
       "      <td>0</td>\n",
       "      <td>No</td>\n",
       "      <td>Yes</td>\n",
       "      <td>1</td>\n",
       "    </tr>\n",
       "    <tr>\n",
       "      <th>1</th>\n",
       "      <td>102</td>\n",
       "      <td>15.949807</td>\n",
       "      <td>1626.880317</td>\n",
       "      <td>Standard</td>\n",
       "      <td>Credit card</td>\n",
       "      <td>No</td>\n",
       "      <td>TV Shows</td>\n",
       "      <td>Yes</td>\n",
       "      <td>Mobile</td>\n",
       "      <td>36.894715</td>\n",
       "      <td>11.358375</td>\n",
       "      <td>26</td>\n",
       "      <td>Action</td>\n",
       "      <td>4.699298</td>\n",
       "      <td>1</td>\n",
       "      <td>Male</td>\n",
       "      <td>22</td>\n",
       "      <td>Yes</td>\n",
       "      <td>Yes</td>\n",
       "      <td>0</td>\n",
       "    </tr>\n",
       "    <tr>\n",
       "      <th>2</th>\n",
       "      <td>18</td>\n",
       "      <td>8.189600</td>\n",
       "      <td>147.412808</td>\n",
       "      <td>Standard</td>\n",
       "      <td>Mailed check</td>\n",
       "      <td>No</td>\n",
       "      <td>Movies</td>\n",
       "      <td>No</td>\n",
       "      <td>Mobile</td>\n",
       "      <td>6.646635</td>\n",
       "      <td>17.284568</td>\n",
       "      <td>47</td>\n",
       "      <td>Action</td>\n",
       "      <td>2.964508</td>\n",
       "      <td>9</td>\n",
       "      <td>Female</td>\n",
       "      <td>2</td>\n",
       "      <td>No</td>\n",
       "      <td>No</td>\n",
       "      <td>1</td>\n",
       "    </tr>\n",
       "    <tr>\n",
       "      <th>3</th>\n",
       "      <td>8</td>\n",
       "      <td>15.407258</td>\n",
       "      <td>123.258063</td>\n",
       "      <td>Basic</td>\n",
       "      <td>Bank transfer</td>\n",
       "      <td>Yes</td>\n",
       "      <td>TV Shows</td>\n",
       "      <td>No</td>\n",
       "      <td>Mobile</td>\n",
       "      <td>17.450793</td>\n",
       "      <td>40.764098</td>\n",
       "      <td>28</td>\n",
       "      <td>Fantasy</td>\n",
       "      <td>3.371891</td>\n",
       "      <td>9</td>\n",
       "      <td>Female</td>\n",
       "      <td>17</td>\n",
       "      <td>No</td>\n",
       "      <td>Yes</td>\n",
       "      <td>1</td>\n",
       "    </tr>\n",
       "    <tr>\n",
       "      <th>4</th>\n",
       "      <td>57</td>\n",
       "      <td>8.172963</td>\n",
       "      <td>465.858896</td>\n",
       "      <td>Basic</td>\n",
       "      <td>Credit card</td>\n",
       "      <td>No</td>\n",
       "      <td>TV Shows</td>\n",
       "      <td>No</td>\n",
       "      <td>Computer</td>\n",
       "      <td>28.409069</td>\n",
       "      <td>158.098937</td>\n",
       "      <td>20</td>\n",
       "      <td>Fantasy</td>\n",
       "      <td>2.936275</td>\n",
       "      <td>9</td>\n",
       "      <td>Male</td>\n",
       "      <td>13</td>\n",
       "      <td>No</td>\n",
       "      <td>Yes</td>\n",
       "      <td>1</td>\n",
       "    </tr>\n",
       "    <tr>\n",
       "      <th>5</th>\n",
       "      <td>82</td>\n",
       "      <td>15.831980</td>\n",
       "      <td>1298.222382</td>\n",
       "      <td>Premium</td>\n",
       "      <td>Electronic check</td>\n",
       "      <td>Yes</td>\n",
       "      <td>Both</td>\n",
       "      <td>Yes</td>\n",
       "      <td>TV</td>\n",
       "      <td>12.454230</td>\n",
       "      <td>155.668823</td>\n",
       "      <td>21</td>\n",
       "      <td>Sci-Fi</td>\n",
       "      <td>4.148611</td>\n",
       "      <td>4</td>\n",
       "      <td>Female</td>\n",
       "      <td>23</td>\n",
       "      <td>Yes</td>\n",
       "      <td>Yes</td>\n",
       "      <td>1</td>\n",
       "    </tr>\n",
       "    <tr>\n",
       "      <th>6</th>\n",
       "      <td>110</td>\n",
       "      <td>13.700209</td>\n",
       "      <td>1507.022965</td>\n",
       "      <td>Basic</td>\n",
       "      <td>Bank transfer</td>\n",
       "      <td>No</td>\n",
       "      <td>Both</td>\n",
       "      <td>Yes</td>\n",
       "      <td>TV</td>\n",
       "      <td>5.542316</td>\n",
       "      <td>29.776039</td>\n",
       "      <td>5</td>\n",
       "      <td>Comedy</td>\n",
       "      <td>3.804662</td>\n",
       "      <td>0</td>\n",
       "      <td>Male</td>\n",
       "      <td>15</td>\n",
       "      <td>Yes</td>\n",
       "      <td>Yes</td>\n",
       "      <td>0</td>\n",
       "    </tr>\n",
       "    <tr>\n",
       "      <th>7</th>\n",
       "      <td>64</td>\n",
       "      <td>18.505298</td>\n",
       "      <td>1184.339046</td>\n",
       "      <td>Standard</td>\n",
       "      <td>Bank transfer</td>\n",
       "      <td>Yes</td>\n",
       "      <td>Movies</td>\n",
       "      <td>Yes</td>\n",
       "      <td>TV</td>\n",
       "      <td>20.884378</td>\n",
       "      <td>163.245189</td>\n",
       "      <td>13</td>\n",
       "      <td>Drama</td>\n",
       "      <td>4.515523</td>\n",
       "      <td>9</td>\n",
       "      <td>Female</td>\n",
       "      <td>12</td>\n",
       "      <td>Yes</td>\n",
       "      <td>No</td>\n",
       "      <td>0</td>\n",
       "    </tr>\n",
       "    <tr>\n",
       "      <th>8</th>\n",
       "      <td>70</td>\n",
       "      <td>12.823614</td>\n",
       "      <td>897.653000</td>\n",
       "      <td>Standard</td>\n",
       "      <td>Bank transfer</td>\n",
       "      <td>Yes</td>\n",
       "      <td>Movies</td>\n",
       "      <td>No</td>\n",
       "      <td>TV</td>\n",
       "      <td>29.145658</td>\n",
       "      <td>129.543308</td>\n",
       "      <td>12</td>\n",
       "      <td>Sci-Fi</td>\n",
       "      <td>4.880622</td>\n",
       "      <td>5</td>\n",
       "      <td>Male</td>\n",
       "      <td>13</td>\n",
       "      <td>Yes</td>\n",
       "      <td>No</td>\n",
       "      <td>1</td>\n",
       "    </tr>\n",
       "    <tr>\n",
       "      <th>9</th>\n",
       "      <td>68</td>\n",
       "      <td>9.913542</td>\n",
       "      <td>674.120828</td>\n",
       "      <td>Basic</td>\n",
       "      <td>Credit card</td>\n",
       "      <td>Yes</td>\n",
       "      <td>Both</td>\n",
       "      <td>No</td>\n",
       "      <td>Mobile</td>\n",
       "      <td>12.740308</td>\n",
       "      <td>20.186340</td>\n",
       "      <td>45</td>\n",
       "      <td>Action</td>\n",
       "      <td>1.861949</td>\n",
       "      <td>8</td>\n",
       "      <td>Female</td>\n",
       "      <td>5</td>\n",
       "      <td>No</td>\n",
       "      <td>Yes</td>\n",
       "      <td>1</td>\n",
       "    </tr>\n",
       "    <tr>\n",
       "      <th>10</th>\n",
       "      <td>10</td>\n",
       "      <td>7.015992</td>\n",
       "      <td>70.159917</td>\n",
       "      <td>Basic</td>\n",
       "      <td>Credit card</td>\n",
       "      <td>No</td>\n",
       "      <td>Movies</td>\n",
       "      <td>No</td>\n",
       "      <td>TV</td>\n",
       "      <td>5.224344</td>\n",
       "      <td>124.820080</td>\n",
       "      <td>7</td>\n",
       "      <td>Comedy</td>\n",
       "      <td>4.399641</td>\n",
       "      <td>5</td>\n",
       "      <td>Female</td>\n",
       "      <td>6</td>\n",
       "      <td>No</td>\n",
       "      <td>No</td>\n",
       "      <td>0</td>\n",
       "    </tr>\n",
       "    <tr>\n",
       "      <th>11</th>\n",
       "      <td>60</td>\n",
       "      <td>14.779844</td>\n",
       "      <td>886.790665</td>\n",
       "      <td>Basic</td>\n",
       "      <td>Bank transfer</td>\n",
       "      <td>Yes</td>\n",
       "      <td>TV Shows</td>\n",
       "      <td>No</td>\n",
       "      <td>Tablet</td>\n",
       "      <td>33.229756</td>\n",
       "      <td>170.459844</td>\n",
       "      <td>0</td>\n",
       "      <td>Fantasy</td>\n",
       "      <td>4.126783</td>\n",
       "      <td>2</td>\n",
       "      <td>Female</td>\n",
       "      <td>4</td>\n",
       "      <td>No</td>\n",
       "      <td>Yes</td>\n",
       "      <td>0</td>\n",
       "    </tr>\n",
       "    <tr>\n",
       "      <th>12</th>\n",
       "      <td>48</td>\n",
       "      <td>10.017704</td>\n",
       "      <td>480.849792</td>\n",
       "      <td>Basic</td>\n",
       "      <td>Mailed check</td>\n",
       "      <td>Yes</td>\n",
       "      <td>Both</td>\n",
       "      <td>Yes</td>\n",
       "      <td>TV</td>\n",
       "      <td>34.046250</td>\n",
       "      <td>57.809372</td>\n",
       "      <td>5</td>\n",
       "      <td>Drama</td>\n",
       "      <td>3.716187</td>\n",
       "      <td>9</td>\n",
       "      <td>Male</td>\n",
       "      <td>22</td>\n",
       "      <td>No</td>\n",
       "      <td>No</td>\n",
       "      <td>1</td>\n",
       "    </tr>\n",
       "    <tr>\n",
       "      <th>13</th>\n",
       "      <td>21</td>\n",
       "      <td>15.740959</td>\n",
       "      <td>330.560147</td>\n",
       "      <td>Premium</td>\n",
       "      <td>Electronic check</td>\n",
       "      <td>No</td>\n",
       "      <td>TV Shows</td>\n",
       "      <td>No</td>\n",
       "      <td>Computer</td>\n",
       "      <td>30.258227</td>\n",
       "      <td>162.546118</td>\n",
       "      <td>0</td>\n",
       "      <td>Action</td>\n",
       "      <td>4.489807</td>\n",
       "      <td>9</td>\n",
       "      <td>Male</td>\n",
       "      <td>14</td>\n",
       "      <td>Yes</td>\n",
       "      <td>Yes</td>\n",
       "      <td>1</td>\n",
       "    </tr>\n",
       "    <tr>\n",
       "      <th>14</th>\n",
       "      <td>107</td>\n",
       "      <td>15.428435</td>\n",
       "      <td>1650.842553</td>\n",
       "      <td>Standard</td>\n",
       "      <td>Bank transfer</td>\n",
       "      <td>No</td>\n",
       "      <td>Movies</td>\n",
       "      <td>Yes</td>\n",
       "      <td>Computer</td>\n",
       "      <td>14.134814</td>\n",
       "      <td>82.741481</td>\n",
       "      <td>1</td>\n",
       "      <td>Drama</td>\n",
       "      <td>3.810450</td>\n",
       "      <td>6</td>\n",
       "      <td>Female</td>\n",
       "      <td>24</td>\n",
       "      <td>No</td>\n",
       "      <td>No</td>\n",
       "      <td>0</td>\n",
       "    </tr>\n",
       "    <tr>\n",
       "      <th>15</th>\n",
       "      <td>5</td>\n",
       "      <td>14.842484</td>\n",
       "      <td>74.212418</td>\n",
       "      <td>Premium</td>\n",
       "      <td>Mailed check</td>\n",
       "      <td>No</td>\n",
       "      <td>Movies</td>\n",
       "      <td>No</td>\n",
       "      <td>Tablet</td>\n",
       "      <td>6.129204</td>\n",
       "      <td>105.528936</td>\n",
       "      <td>6</td>\n",
       "      <td>Sci-Fi</td>\n",
       "      <td>4.805941</td>\n",
       "      <td>5</td>\n",
       "      <td>Male</td>\n",
       "      <td>2</td>\n",
       "      <td>Yes</td>\n",
       "      <td>No</td>\n",
       "      <td>1</td>\n",
       "    </tr>\n",
       "    <tr>\n",
       "      <th>16</th>\n",
       "      <td>34</td>\n",
       "      <td>15.837546</td>\n",
       "      <td>538.476573</td>\n",
       "      <td>Standard</td>\n",
       "      <td>Credit card</td>\n",
       "      <td>No</td>\n",
       "      <td>Movies</td>\n",
       "      <td>Yes</td>\n",
       "      <td>TV</td>\n",
       "      <td>27.152253</td>\n",
       "      <td>139.206792</td>\n",
       "      <td>28</td>\n",
       "      <td>Action</td>\n",
       "      <td>3.094346</td>\n",
       "      <td>3</td>\n",
       "      <td>Male</td>\n",
       "      <td>23</td>\n",
       "      <td>No</td>\n",
       "      <td>Yes</td>\n",
       "      <td>0</td>\n",
       "    </tr>\n",
       "    <tr>\n",
       "      <th>17</th>\n",
       "      <td>17</td>\n",
       "      <td>11.906368</td>\n",
       "      <td>202.408263</td>\n",
       "      <td>Premium</td>\n",
       "      <td>Electronic check</td>\n",
       "      <td>No</td>\n",
       "      <td>TV Shows</td>\n",
       "      <td>No</td>\n",
       "      <td>TV</td>\n",
       "      <td>6.744785</td>\n",
       "      <td>52.381826</td>\n",
       "      <td>24</td>\n",
       "      <td>Drama</td>\n",
       "      <td>3.575485</td>\n",
       "      <td>4</td>\n",
       "      <td>Male</td>\n",
       "      <td>0</td>\n",
       "      <td>Yes</td>\n",
       "      <td>No</td>\n",
       "      <td>1</td>\n",
       "    </tr>\n",
       "    <tr>\n",
       "      <th>18</th>\n",
       "      <td>46</td>\n",
       "      <td>11.799564</td>\n",
       "      <td>542.779939</td>\n",
       "      <td>Basic</td>\n",
       "      <td>Mailed check</td>\n",
       "      <td>No</td>\n",
       "      <td>TV Shows</td>\n",
       "      <td>No</td>\n",
       "      <td>Tablet</td>\n",
       "      <td>19.076220</td>\n",
       "      <td>140.128335</td>\n",
       "      <td>28</td>\n",
       "      <td>Action</td>\n",
       "      <td>1.979869</td>\n",
       "      <td>5</td>\n",
       "      <td>Female</td>\n",
       "      <td>0</td>\n",
       "      <td>Yes</td>\n",
       "      <td>No</td>\n",
       "      <td>1</td>\n",
       "    </tr>\n",
       "    <tr>\n",
       "      <th>19</th>\n",
       "      <td>21</td>\n",
       "      <td>17.281776</td>\n",
       "      <td>362.917286</td>\n",
       "      <td>Standard</td>\n",
       "      <td>Bank transfer</td>\n",
       "      <td>No</td>\n",
       "      <td>Movies</td>\n",
       "      <td>No</td>\n",
       "      <td>Computer</td>\n",
       "      <td>27.762390</td>\n",
       "      <td>120.694662</td>\n",
       "      <td>22</td>\n",
       "      <td>Sci-Fi</td>\n",
       "      <td>1.789349</td>\n",
       "      <td>7</td>\n",
       "      <td>Female</td>\n",
       "      <td>10</td>\n",
       "      <td>No</td>\n",
       "      <td>Yes</td>\n",
       "      <td>0</td>\n",
       "    </tr>\n",
       "  </tbody>\n",
       "</table>\n",
       "</div>"
      ],
      "text/plain": [
       "    AccountAge  MonthlyCharges  TotalCharges SubscriptionType   \n",
       "0           58       19.098906   1107.736549            Basic  \\\n",
       "1          102       15.949807   1626.880317         Standard   \n",
       "2           18        8.189600    147.412808         Standard   \n",
       "3            8       15.407258    123.258063            Basic   \n",
       "4           57        8.172963    465.858896            Basic   \n",
       "5           82       15.831980   1298.222382          Premium   \n",
       "6          110       13.700209   1507.022965            Basic   \n",
       "7           64       18.505298   1184.339046         Standard   \n",
       "8           70       12.823614    897.653000         Standard   \n",
       "9           68        9.913542    674.120828            Basic   \n",
       "10          10        7.015992     70.159917            Basic   \n",
       "11          60       14.779844    886.790665            Basic   \n",
       "12          48       10.017704    480.849792            Basic   \n",
       "13          21       15.740959    330.560147          Premium   \n",
       "14         107       15.428435   1650.842553         Standard   \n",
       "15           5       14.842484     74.212418          Premium   \n",
       "16          34       15.837546    538.476573         Standard   \n",
       "17          17       11.906368    202.408263          Premium   \n",
       "18          46       11.799564    542.779939            Basic   \n",
       "19          21       17.281776    362.917286         Standard   \n",
       "\n",
       "       PaymentMethod PaperlessBilling ContentType MultiDeviceAccess   \n",
       "0        Credit card               No      Movies                No  \\\n",
       "1        Credit card               No    TV Shows               Yes   \n",
       "2       Mailed check               No      Movies                No   \n",
       "3      Bank transfer              Yes    TV Shows                No   \n",
       "4        Credit card               No    TV Shows                No   \n",
       "5   Electronic check              Yes        Both               Yes   \n",
       "6      Bank transfer               No        Both               Yes   \n",
       "7      Bank transfer              Yes      Movies               Yes   \n",
       "8      Bank transfer              Yes      Movies                No   \n",
       "9        Credit card              Yes        Both                No   \n",
       "10       Credit card               No      Movies                No   \n",
       "11     Bank transfer              Yes    TV Shows                No   \n",
       "12      Mailed check              Yes        Both               Yes   \n",
       "13  Electronic check               No    TV Shows                No   \n",
       "14     Bank transfer               No      Movies               Yes   \n",
       "15      Mailed check               No      Movies                No   \n",
       "16       Credit card               No      Movies               Yes   \n",
       "17  Electronic check               No    TV Shows                No   \n",
       "18      Mailed check               No    TV Shows                No   \n",
       "19     Bank transfer               No      Movies                No   \n",
       "\n",
       "   DeviceRegistered  ViewingHoursPerWeek  AverageViewingDuration   \n",
       "0            Tablet            30.069979              134.730400  \\\n",
       "1            Mobile            36.894715               11.358375   \n",
       "2            Mobile             6.646635               17.284568   \n",
       "3            Mobile            17.450793               40.764098   \n",
       "4          Computer            28.409069              158.098937   \n",
       "5                TV            12.454230              155.668823   \n",
       "6                TV             5.542316               29.776039   \n",
       "7                TV            20.884378              163.245189   \n",
       "8                TV            29.145658              129.543308   \n",
       "9            Mobile            12.740308               20.186340   \n",
       "10               TV             5.224344              124.820080   \n",
       "11           Tablet            33.229756              170.459844   \n",
       "12               TV            34.046250               57.809372   \n",
       "13         Computer            30.258227              162.546118   \n",
       "14         Computer            14.134814               82.741481   \n",
       "15           Tablet             6.129204              105.528936   \n",
       "16               TV            27.152253              139.206792   \n",
       "17               TV             6.744785               52.381826   \n",
       "18           Tablet            19.076220              140.128335   \n",
       "19         Computer            27.762390              120.694662   \n",
       "\n",
       "    ContentDownloadsPerMonth GenrePreference  UserRating   \n",
       "0                         18          Comedy    3.451714  \\\n",
       "1                         26          Action    4.699298   \n",
       "2                         47          Action    2.964508   \n",
       "3                         28         Fantasy    3.371891   \n",
       "4                         20         Fantasy    2.936275   \n",
       "5                         21          Sci-Fi    4.148611   \n",
       "6                          5          Comedy    3.804662   \n",
       "7                         13           Drama    4.515523   \n",
       "8                         12          Sci-Fi    4.880622   \n",
       "9                         45          Action    1.861949   \n",
       "10                         7          Comedy    4.399641   \n",
       "11                         0         Fantasy    4.126783   \n",
       "12                         5           Drama    3.716187   \n",
       "13                         0          Action    4.489807   \n",
       "14                         1           Drama    3.810450   \n",
       "15                         6          Sci-Fi    4.805941   \n",
       "16                        28          Action    3.094346   \n",
       "17                        24           Drama    3.575485   \n",
       "18                        28          Action    1.979869   \n",
       "19                        22          Sci-Fi    1.789349   \n",
       "\n",
       "    SupportTicketsPerMonth  Gender  WatchlistSize ParentalControl   \n",
       "0                        9    Male              0              No  \\\n",
       "1                        1    Male             22             Yes   \n",
       "2                        9  Female              2              No   \n",
       "3                        9  Female             17              No   \n",
       "4                        9    Male             13              No   \n",
       "5                        4  Female             23             Yes   \n",
       "6                        0    Male             15             Yes   \n",
       "7                        9  Female             12             Yes   \n",
       "8                        5    Male             13             Yes   \n",
       "9                        8  Female              5              No   \n",
       "10                       5  Female              6              No   \n",
       "11                       2  Female              4              No   \n",
       "12                       9    Male             22              No   \n",
       "13                       9    Male             14             Yes   \n",
       "14                       6  Female             24              No   \n",
       "15                       5    Male              2             Yes   \n",
       "16                       3    Male             23              No   \n",
       "17                       4    Male              0             Yes   \n",
       "18                       5  Female              0             Yes   \n",
       "19                       7  Female             10              No   \n",
       "\n",
       "   SubtitlesEnabled  Churn  \n",
       "0               Yes      1  \n",
       "1               Yes      0  \n",
       "2                No      1  \n",
       "3               Yes      1  \n",
       "4               Yes      1  \n",
       "5               Yes      1  \n",
       "6               Yes      0  \n",
       "7                No      0  \n",
       "8                No      1  \n",
       "9               Yes      1  \n",
       "10               No      0  \n",
       "11              Yes      0  \n",
       "12               No      1  \n",
       "13              Yes      1  \n",
       "14               No      0  \n",
       "15               No      1  \n",
       "16              Yes      0  \n",
       "17               No      1  \n",
       "18               No      1  \n",
       "19              Yes      0  "
      ]
     },
     "execution_count": 33,
     "metadata": {},
     "output_type": "execute_result"
    }
   ],
   "source": [
    "balanceTrainDF.head(20)"
   ]
  },
  {
   "cell_type": "markdown",
   "metadata": {},
   "source": [
    "## Convert Gender column to 1 or 0, Create One-hot Encoding for several columns"
   ]
  },
  {
   "cell_type": "code",
   "execution_count": 34,
   "metadata": {},
   "outputs": [],
   "source": [
    "from sklearn.preprocessing import MinMaxScaler, StandardScaler\n",
    "def preprocessData(df, scale=True):\n",
    "\n",
    "    # Convert Yes/No columns to 1/0\n",
    "    for col in yesNoColumns:\n",
    "        df[col].replace({'Yes': 1, 'No': 0}, inplace=True)\n",
    "        \n",
    "    # Convert gender to 1/0\n",
    "    df.Gender.replace({\"Male\": 1, \"Female\": 0}, inplace=True)\n",
    "\n",
    "    # One hot encoding\n",
    "    df = pd.get_dummies(df, columns=columnsForOneHotEncoding, dtype=int)\n",
    "\n",
    "    if scale:\n",
    "        # Scale columns\n",
    "        scaler = MinMaxScaler()#StandardScaler()\n",
    "        df[columnsToScale] = scaler.fit_transform(df[columnsToScale])\n",
    "\n",
    "    return df\n"
   ]
  },
  {
   "cell_type": "code",
   "execution_count": 35,
   "metadata": {},
   "outputs": [],
   "source": [
    "# train_df = preprocessData(train_df)\n",
    "balanceTrainDF = preprocessData(balanceTrainDF) "
   ]
  },
  {
   "cell_type": "markdown",
   "metadata": {},
   "source": []
  },
  {
   "cell_type": "code",
   "execution_count": 36,
   "metadata": {},
   "outputs": [
    {
     "data": {
      "text/html": [
       "<div>\n",
       "<style scoped>\n",
       "    .dataframe tbody tr th:only-of-type {\n",
       "        vertical-align: middle;\n",
       "    }\n",
       "\n",
       "    .dataframe tbody tr th {\n",
       "        vertical-align: top;\n",
       "    }\n",
       "\n",
       "    .dataframe thead th {\n",
       "        text-align: right;\n",
       "    }\n",
       "</style>\n",
       "<table border=\"1\" class=\"dataframe\">\n",
       "  <thead>\n",
       "    <tr style=\"text-align: right;\">\n",
       "      <th></th>\n",
       "      <th>AccountAge</th>\n",
       "      <th>MonthlyCharges</th>\n",
       "      <th>TotalCharges</th>\n",
       "      <th>PaperlessBilling</th>\n",
       "      <th>MultiDeviceAccess</th>\n",
       "      <th>ViewingHoursPerWeek</th>\n",
       "      <th>AverageViewingDuration</th>\n",
       "      <th>ContentDownloadsPerMonth</th>\n",
       "      <th>UserRating</th>\n",
       "      <th>SupportTicketsPerMonth</th>\n",
       "      <th>...</th>\n",
       "      <th>ContentType_TV Shows</th>\n",
       "      <th>DeviceRegistered_Computer</th>\n",
       "      <th>DeviceRegistered_Mobile</th>\n",
       "      <th>DeviceRegistered_TV</th>\n",
       "      <th>DeviceRegistered_Tablet</th>\n",
       "      <th>GenrePreference_Action</th>\n",
       "      <th>GenrePreference_Comedy</th>\n",
       "      <th>GenrePreference_Drama</th>\n",
       "      <th>GenrePreference_Fantasy</th>\n",
       "      <th>GenrePreference_Sci-Fi</th>\n",
       "    </tr>\n",
       "  </thead>\n",
       "  <tbody>\n",
       "    <tr>\n",
       "      <th>33154</th>\n",
       "      <td>0.686441</td>\n",
       "      <td>0.852045</td>\n",
       "      <td>0.613071</td>\n",
       "      <td>0</td>\n",
       "      <td>1</td>\n",
       "      <td>0.371704</td>\n",
       "      <td>0.293106</td>\n",
       "      <td>0.571429</td>\n",
       "      <td>0.645176</td>\n",
       "      <td>0.777778</td>\n",
       "      <td>...</td>\n",
       "      <td>0</td>\n",
       "      <td>1</td>\n",
       "      <td>0</td>\n",
       "      <td>0</td>\n",
       "      <td>0</td>\n",
       "      <td>0</td>\n",
       "      <td>0</td>\n",
       "      <td>0</td>\n",
       "      <td>1</td>\n",
       "      <td>0</td>\n",
       "    </tr>\n",
       "    <tr>\n",
       "      <th>86974</th>\n",
       "      <td>0.338983</td>\n",
       "      <td>0.395824</td>\n",
       "      <td>0.187034</td>\n",
       "      <td>1</td>\n",
       "      <td>1</td>\n",
       "      <td>0.483538</td>\n",
       "      <td>0.794224</td>\n",
       "      <td>0.244898</td>\n",
       "      <td>0.027790</td>\n",
       "      <td>0.222222</td>\n",
       "      <td>...</td>\n",
       "      <td>0</td>\n",
       "      <td>1</td>\n",
       "      <td>0</td>\n",
       "      <td>0</td>\n",
       "      <td>0</td>\n",
       "      <td>0</td>\n",
       "      <td>1</td>\n",
       "      <td>0</td>\n",
       "      <td>0</td>\n",
       "      <td>0</td>\n",
       "    </tr>\n",
       "    <tr>\n",
       "      <th>39634</th>\n",
       "      <td>0.415254</td>\n",
       "      <td>0.337317</td>\n",
       "      <td>0.210028</td>\n",
       "      <td>0</td>\n",
       "      <td>0</td>\n",
       "      <td>0.213354</td>\n",
       "      <td>0.092258</td>\n",
       "      <td>0.877551</td>\n",
       "      <td>0.246572</td>\n",
       "      <td>0.666667</td>\n",
       "      <td>...</td>\n",
       "      <td>0</td>\n",
       "      <td>0</td>\n",
       "      <td>0</td>\n",
       "      <td>0</td>\n",
       "      <td>1</td>\n",
       "      <td>0</td>\n",
       "      <td>0</td>\n",
       "      <td>0</td>\n",
       "      <td>1</td>\n",
       "      <td>0</td>\n",
       "    </tr>\n",
       "    <tr>\n",
       "      <th>10419</th>\n",
       "      <td>0.186441</td>\n",
       "      <td>0.714459</td>\n",
       "      <td>0.150404</td>\n",
       "      <td>1</td>\n",
       "      <td>0</td>\n",
       "      <td>0.076586</td>\n",
       "      <td>0.183578</td>\n",
       "      <td>0.755102</td>\n",
       "      <td>0.394621</td>\n",
       "      <td>0.222222</td>\n",
       "      <td>...</td>\n",
       "      <td>1</td>\n",
       "      <td>0</td>\n",
       "      <td>1</td>\n",
       "      <td>0</td>\n",
       "      <td>0</td>\n",
       "      <td>0</td>\n",
       "      <td>0</td>\n",
       "      <td>0</td>\n",
       "      <td>0</td>\n",
       "      <td>1</td>\n",
       "    </tr>\n",
       "    <tr>\n",
       "      <th>2801</th>\n",
       "      <td>0.957627</td>\n",
       "      <td>0.711650</td>\n",
       "      <td>0.751791</td>\n",
       "      <td>1</td>\n",
       "      <td>1</td>\n",
       "      <td>0.929427</td>\n",
       "      <td>0.356005</td>\n",
       "      <td>0.551020</td>\n",
       "      <td>0.679868</td>\n",
       "      <td>0.555556</td>\n",
       "      <td>...</td>\n",
       "      <td>1</td>\n",
       "      <td>0</td>\n",
       "      <td>1</td>\n",
       "      <td>0</td>\n",
       "      <td>0</td>\n",
       "      <td>0</td>\n",
       "      <td>0</td>\n",
       "      <td>0</td>\n",
       "      <td>1</td>\n",
       "      <td>0</td>\n",
       "    </tr>\n",
       "  </tbody>\n",
       "</table>\n",
       "<p>5 rows × 34 columns</p>\n",
       "</div>"
      ],
      "text/plain": [
       "       AccountAge  MonthlyCharges  TotalCharges  PaperlessBilling   \n",
       "33154    0.686441        0.852045      0.613071                 0  \\\n",
       "86974    0.338983        0.395824      0.187034                 1   \n",
       "39634    0.415254        0.337317      0.210028                 0   \n",
       "10419    0.186441        0.714459      0.150404                 1   \n",
       "2801     0.957627        0.711650      0.751791                 1   \n",
       "\n",
       "       MultiDeviceAccess  ViewingHoursPerWeek  AverageViewingDuration   \n",
       "33154                  1             0.371704                0.293106  \\\n",
       "86974                  1             0.483538                0.794224   \n",
       "39634                  0             0.213354                0.092258   \n",
       "10419                  0             0.076586                0.183578   \n",
       "2801                   1             0.929427                0.356005   \n",
       "\n",
       "       ContentDownloadsPerMonth  UserRating  SupportTicketsPerMonth  ...   \n",
       "33154                  0.571429    0.645176                0.777778  ...  \\\n",
       "86974                  0.244898    0.027790                0.222222  ...   \n",
       "39634                  0.877551    0.246572                0.666667  ...   \n",
       "10419                  0.755102    0.394621                0.222222  ...   \n",
       "2801                   0.551020    0.679868                0.555556  ...   \n",
       "\n",
       "       ContentType_TV Shows  DeviceRegistered_Computer   \n",
       "33154                     0                          1  \\\n",
       "86974                     0                          1   \n",
       "39634                     0                          0   \n",
       "10419                     1                          0   \n",
       "2801                      1                          0   \n",
       "\n",
       "       DeviceRegistered_Mobile  DeviceRegistered_TV  DeviceRegistered_Tablet   \n",
       "33154                        0                    0                        0  \\\n",
       "86974                        0                    0                        0   \n",
       "39634                        0                    0                        1   \n",
       "10419                        1                    0                        0   \n",
       "2801                         1                    0                        0   \n",
       "\n",
       "       GenrePreference_Action  GenrePreference_Comedy  GenrePreference_Drama   \n",
       "33154                       0                       0                      0  \\\n",
       "86974                       0                       1                      0   \n",
       "39634                       0                       0                      0   \n",
       "10419                       0                       0                      0   \n",
       "2801                        0                       0                      0   \n",
       "\n",
       "       GenrePreference_Fantasy  GenrePreference_Sci-Fi  \n",
       "33154                        1                       0  \n",
       "86974                        0                       0  \n",
       "39634                        1                       0  \n",
       "10419                        0                       1  \n",
       "2801                         1                       0  \n",
       "\n",
       "[5 rows x 34 columns]"
      ]
     },
     "execution_count": 36,
     "metadata": {},
     "output_type": "execute_result"
    }
   ],
   "source": [
    "\n",
    "\n",
    "# train_df = pd.get_dummies(train_df, columns=columnsForOneHotEncoding, dtype=int)\n",
    "# train_df.sample(5)\n",
    "balanceTrainDF.sample(5)\n"
   ]
  },
  {
   "cell_type": "code",
   "execution_count": 37,
   "metadata": {},
   "outputs": [
    {
     "data": {
      "text/html": [
       "<div>\n",
       "<style scoped>\n",
       "    .dataframe tbody tr th:only-of-type {\n",
       "        vertical-align: middle;\n",
       "    }\n",
       "\n",
       "    .dataframe tbody tr th {\n",
       "        vertical-align: top;\n",
       "    }\n",
       "\n",
       "    .dataframe thead th {\n",
       "        text-align: right;\n",
       "    }\n",
       "</style>\n",
       "<table border=\"1\" class=\"dataframe\">\n",
       "  <thead>\n",
       "    <tr style=\"text-align: right;\">\n",
       "      <th></th>\n",
       "      <th>AccountAge</th>\n",
       "      <th>MonthlyCharges</th>\n",
       "      <th>TotalCharges</th>\n",
       "      <th>PaperlessBilling</th>\n",
       "      <th>MultiDeviceAccess</th>\n",
       "      <th>ViewingHoursPerWeek</th>\n",
       "      <th>AverageViewingDuration</th>\n",
       "      <th>ContentDownloadsPerMonth</th>\n",
       "      <th>UserRating</th>\n",
       "      <th>SupportTicketsPerMonth</th>\n",
       "      <th>...</th>\n",
       "      <th>ContentType_TV Shows</th>\n",
       "      <th>DeviceRegistered_Computer</th>\n",
       "      <th>DeviceRegistered_Mobile</th>\n",
       "      <th>DeviceRegistered_TV</th>\n",
       "      <th>DeviceRegistered_Tablet</th>\n",
       "      <th>GenrePreference_Action</th>\n",
       "      <th>GenrePreference_Comedy</th>\n",
       "      <th>GenrePreference_Drama</th>\n",
       "      <th>GenrePreference_Fantasy</th>\n",
       "      <th>GenrePreference_Sci-Fi</th>\n",
       "    </tr>\n",
       "  </thead>\n",
       "  <tbody>\n",
       "    <tr>\n",
       "      <th>66286</th>\n",
       "      <td>0.923729</td>\n",
       "      <td>0.454900</td>\n",
       "      <td>0.545905</td>\n",
       "      <td>0</td>\n",
       "      <td>1</td>\n",
       "      <td>0.361512</td>\n",
       "      <td>0.106066</td>\n",
       "      <td>0.571429</td>\n",
       "      <td>0.030452</td>\n",
       "      <td>0.666667</td>\n",
       "      <td>...</td>\n",
       "      <td>0</td>\n",
       "      <td>0</td>\n",
       "      <td>1</td>\n",
       "      <td>0</td>\n",
       "      <td>0</td>\n",
       "      <td>0</td>\n",
       "      <td>0</td>\n",
       "      <td>0</td>\n",
       "      <td>0</td>\n",
       "      <td>1</td>\n",
       "    </tr>\n",
       "    <tr>\n",
       "      <th>40551</th>\n",
       "      <td>0.508475</td>\n",
       "      <td>0.897315</td>\n",
       "      <td>0.472502</td>\n",
       "      <td>0</td>\n",
       "      <td>1</td>\n",
       "      <td>0.524584</td>\n",
       "      <td>0.785168</td>\n",
       "      <td>0.918367</td>\n",
       "      <td>0.824719</td>\n",
       "      <td>0.555556</td>\n",
       "      <td>...</td>\n",
       "      <td>0</td>\n",
       "      <td>0</td>\n",
       "      <td>0</td>\n",
       "      <td>0</td>\n",
       "      <td>1</td>\n",
       "      <td>0</td>\n",
       "      <td>0</td>\n",
       "      <td>0</td>\n",
       "      <td>1</td>\n",
       "      <td>0</td>\n",
       "    </tr>\n",
       "    <tr>\n",
       "      <th>17224</th>\n",
       "      <td>0.677966</td>\n",
       "      <td>0.584253</td>\n",
       "      <td>0.467705</td>\n",
       "      <td>0</td>\n",
       "      <td>1</td>\n",
       "      <td>0.316024</td>\n",
       "      <td>0.545735</td>\n",
       "      <td>0.795918</td>\n",
       "      <td>0.430759</td>\n",
       "      <td>0.444444</td>\n",
       "      <td>...</td>\n",
       "      <td>0</td>\n",
       "      <td>1</td>\n",
       "      <td>0</td>\n",
       "      <td>0</td>\n",
       "      <td>0</td>\n",
       "      <td>0</td>\n",
       "      <td>0</td>\n",
       "      <td>1</td>\n",
       "      <td>0</td>\n",
       "      <td>0</td>\n",
       "    </tr>\n",
       "    <tr>\n",
       "      <th>22313</th>\n",
       "      <td>0.118644</td>\n",
       "      <td>0.949968</td>\n",
       "      <td>0.119589</td>\n",
       "      <td>0</td>\n",
       "      <td>0</td>\n",
       "      <td>0.976702</td>\n",
       "      <td>0.801635</td>\n",
       "      <td>0.510204</td>\n",
       "      <td>0.886883</td>\n",
       "      <td>0.777778</td>\n",
       "      <td>...</td>\n",
       "      <td>1</td>\n",
       "      <td>1</td>\n",
       "      <td>0</td>\n",
       "      <td>0</td>\n",
       "      <td>0</td>\n",
       "      <td>1</td>\n",
       "      <td>0</td>\n",
       "      <td>0</td>\n",
       "      <td>0</td>\n",
       "      <td>0</td>\n",
       "    </tr>\n",
       "    <tr>\n",
       "      <th>20011</th>\n",
       "      <td>0.186441</td>\n",
       "      <td>0.231475</td>\n",
       "      <td>0.079963</td>\n",
       "      <td>1</td>\n",
       "      <td>1</td>\n",
       "      <td>0.482695</td>\n",
       "      <td>0.886358</td>\n",
       "      <td>0.836735</td>\n",
       "      <td>0.741351</td>\n",
       "      <td>0.111111</td>\n",
       "      <td>...</td>\n",
       "      <td>0</td>\n",
       "      <td>0</td>\n",
       "      <td>0</td>\n",
       "      <td>0</td>\n",
       "      <td>1</td>\n",
       "      <td>0</td>\n",
       "      <td>0</td>\n",
       "      <td>0</td>\n",
       "      <td>0</td>\n",
       "      <td>1</td>\n",
       "    </tr>\n",
       "  </tbody>\n",
       "</table>\n",
       "<p>5 rows × 34 columns</p>\n",
       "</div>"
      ],
      "text/plain": [
       "       AccountAge  MonthlyCharges  TotalCharges  PaperlessBilling   \n",
       "66286    0.923729        0.454900      0.545905                 0  \\\n",
       "40551    0.508475        0.897315      0.472502                 0   \n",
       "17224    0.677966        0.584253      0.467705                 0   \n",
       "22313    0.118644        0.949968      0.119589                 0   \n",
       "20011    0.186441        0.231475      0.079963                 1   \n",
       "\n",
       "       MultiDeviceAccess  ViewingHoursPerWeek  AverageViewingDuration   \n",
       "66286                  1             0.361512                0.106066  \\\n",
       "40551                  1             0.524584                0.785168   \n",
       "17224                  1             0.316024                0.545735   \n",
       "22313                  0             0.976702                0.801635   \n",
       "20011                  1             0.482695                0.886358   \n",
       "\n",
       "       ContentDownloadsPerMonth  UserRating  SupportTicketsPerMonth  ...   \n",
       "66286                  0.571429    0.030452                0.666667  ...  \\\n",
       "40551                  0.918367    0.824719                0.555556  ...   \n",
       "17224                  0.795918    0.430759                0.444444  ...   \n",
       "22313                  0.510204    0.886883                0.777778  ...   \n",
       "20011                  0.836735    0.741351                0.111111  ...   \n",
       "\n",
       "       ContentType_TV Shows  DeviceRegistered_Computer   \n",
       "66286                     0                          0  \\\n",
       "40551                     0                          0   \n",
       "17224                     0                          1   \n",
       "22313                     1                          1   \n",
       "20011                     0                          0   \n",
       "\n",
       "       DeviceRegistered_Mobile  DeviceRegistered_TV DeviceRegistered_Tablet   \n",
       "66286                        1                    0                       0  \\\n",
       "40551                        0                    0                       1   \n",
       "17224                        0                    0                       0   \n",
       "22313                        0                    0                       0   \n",
       "20011                        0                    0                       1   \n",
       "\n",
       "       GenrePreference_Action  GenrePreference_Comedy  GenrePreference_Drama   \n",
       "66286                       0                       0                      0  \\\n",
       "40551                       0                       0                      0   \n",
       "17224                       0                       0                      1   \n",
       "22313                       1                       0                      0   \n",
       "20011                       0                       0                      0   \n",
       "\n",
       "       GenrePreference_Fantasy  GenrePreference_Sci-Fi  \n",
       "66286                        0                       1  \n",
       "40551                        1                       0  \n",
       "17224                        0                       0  \n",
       "22313                        0                       0  \n",
       "20011                        0                       1  \n",
       "\n",
       "[5 rows x 34 columns]"
      ]
     },
     "execution_count": 37,
     "metadata": {},
     "output_type": "execute_result"
    }
   ],
   "source": [
    "test_df= preprocessData(test_df)\n",
    "test_df.sample(5)"
   ]
  },
  {
   "cell_type": "code",
   "execution_count": 38,
   "metadata": {},
   "outputs": [
    {
     "data": {
      "text/plain": [
       "AccountAge                        float64\n",
       "MonthlyCharges                    float64\n",
       "TotalCharges                      float64\n",
       "PaperlessBilling                    int64\n",
       "MultiDeviceAccess                   int64\n",
       "ViewingHoursPerWeek               float64\n",
       "AverageViewingDuration            float64\n",
       "ContentDownloadsPerMonth          float64\n",
       "UserRating                        float64\n",
       "SupportTicketsPerMonth            float64\n",
       "Gender                              int64\n",
       "WatchlistSize                       int64\n",
       "ParentalControl                     int64\n",
       "SubtitlesEnabled                    int64\n",
       "Churn                               int64\n",
       "SubscriptionType_Basic              int64\n",
       "SubscriptionType_Premium            int64\n",
       "SubscriptionType_Standard           int64\n",
       "PaymentMethod_Bank transfer         int64\n",
       "PaymentMethod_Credit card           int64\n",
       "PaymentMethod_Electronic check      int64\n",
       "PaymentMethod_Mailed check          int64\n",
       "ContentType_Both                    int64\n",
       "ContentType_Movies                  int64\n",
       "ContentType_TV Shows                int64\n",
       "DeviceRegistered_Computer           int64\n",
       "DeviceRegistered_Mobile             int64\n",
       "DeviceRegistered_TV                 int64\n",
       "DeviceRegistered_Tablet             int64\n",
       "GenrePreference_Action              int64\n",
       "GenrePreference_Comedy              int64\n",
       "GenrePreference_Drama               int64\n",
       "GenrePreference_Fantasy             int64\n",
       "GenrePreference_Sci-Fi              int64\n",
       "dtype: object"
      ]
     },
     "execution_count": 38,
     "metadata": {},
     "output_type": "execute_result"
    }
   ],
   "source": [
    "# train_df.dtypes # check data types \n",
    "balanceTrainDF.dtypes"
   ]
  },
  {
   "cell_type": "code",
   "execution_count": 39,
   "metadata": {},
   "outputs": [
    {
     "data": {
      "text/plain": [
       "AccountAge                        float64\n",
       "MonthlyCharges                    float64\n",
       "TotalCharges                      float64\n",
       "PaperlessBilling                    int64\n",
       "MultiDeviceAccess                   int64\n",
       "ViewingHoursPerWeek               float64\n",
       "AverageViewingDuration            float64\n",
       "ContentDownloadsPerMonth          float64\n",
       "UserRating                        float64\n",
       "SupportTicketsPerMonth            float64\n",
       "Gender                              int64\n",
       "WatchlistSize                       int64\n",
       "ParentalControl                     int64\n",
       "SubtitlesEnabled                    int64\n",
       "CustomerID                         object\n",
       "SubscriptionType_Basic              int64\n",
       "SubscriptionType_Premium            int64\n",
       "SubscriptionType_Standard           int64\n",
       "PaymentMethod_Bank transfer         int64\n",
       "PaymentMethod_Credit card           int64\n",
       "PaymentMethod_Electronic check      int64\n",
       "PaymentMethod_Mailed check          int64\n",
       "ContentType_Both                    int64\n",
       "ContentType_Movies                  int64\n",
       "ContentType_TV Shows                int64\n",
       "DeviceRegistered_Computer           int64\n",
       "DeviceRegistered_Mobile             int64\n",
       "DeviceRegistered_TV                 int64\n",
       "DeviceRegistered_Tablet             int64\n",
       "GenrePreference_Action              int64\n",
       "GenrePreference_Comedy              int64\n",
       "GenrePreference_Drama               int64\n",
       "GenrePreference_Fantasy             int64\n",
       "GenrePreference_Sci-Fi              int64\n",
       "dtype: object"
      ]
     },
     "execution_count": 39,
     "metadata": {},
     "output_type": "execute_result"
    }
   ],
   "source": [
    "test_df.dtypes"
   ]
  },
  {
   "cell_type": "code",
   "execution_count": 40,
   "metadata": {},
   "outputs": [
    {
     "name": "stdout",
     "output_type": "stream",
     "text": [
      "AccountAge: [ 20  57  73  32 113  38  25  26  14 114   3  64  43  98  47  11  50   5\n",
      "  63  55  84  16  80 116  33  86  52  77   4  91 119  72  94  99  40  60\n",
      " 105  54  34  67  49 100   6  97  24  53  82  18   8  29   9 101  30  74\n",
      "  17  69  61  65  96  62  35  51 109  76   2  42 111  68  15  27  58 103\n",
      "  45  36  85 107 115  81 106  70  46  83  92   1  44 118  23  88   7  31\n",
      "  71  48  93 117  95  37 112  21 108  19  12  78 104  87  90 110  56  79\n",
      "  41  13  28  10  59  39  75 102  89  66  22]\n",
      "MonthlyCharges: [11.0552151   5.17520846 12.10665687 ... 14.51456873 18.14055532\n",
      " 11.59377449]\n",
      "TotalCharges: [ 221.10430197  294.98688225  883.78595161 ... 1640.14626689  126.98388725\n",
      " 1043.4397042 ]\n",
      "SubscriptionType: ['Premium' 'Basic' 'Standard']\n",
      "PaymentMethod: ['Mailed check' 'Credit card' 'Electronic check' 'Bank transfer']\n",
      "PaperlessBilling: ['No' 'Yes']\n",
      "ContentType: ['Both' 'Movies' 'TV Shows']\n",
      "MultiDeviceAccess: ['No' 'Yes']\n",
      "DeviceRegistered: ['Mobile' 'Tablet' 'Computer' 'TV']\n",
      "ViewingHoursPerWeek: [36.75810391 32.45056783  7.39516011 ... 10.62872846 30.46678245\n",
      " 24.97253673]\n",
      "AverageViewingDuration: [ 63.53137733  25.72559464  57.36406085 ... 176.18609505 153.38631494\n",
      "  84.824498  ]\n",
      "ContentDownloadsPerMonth: [10 18 23 30 20 35 28  0 49 26 15  6 41  3  1  7 37 25 22 43 13 17 40 12\n",
      "  8  2  4 16 34 29 19 31 11  9 42  5 47 36 39 48 27 46 45 33 21 24 44 38\n",
      " 14 32]\n",
      "GenrePreference: ['Sci-Fi' 'Action' 'Fantasy' 'Drama' 'Comedy']\n",
      "UserRating: [2.17649751 3.47863229 4.23882362 ... 4.01221731 2.13578882 1.42889572]\n",
      "SupportTicketsPerMonth: [4 8 6 2 9 0 1 7 3 5]\n",
      "Gender: ['Male' 'Female']\n",
      "WatchlistSize: [ 3 23  1 24  0  2 20 22  5 18  8 14 21 15 13 17  9  7 11 10 19  4 12 16\n",
      "  6]\n",
      "ParentalControl: ['No' 'Yes']\n",
      "SubtitlesEnabled: ['No' 'Yes']\n",
      "Churn: [0 1]\n"
     ]
    }
   ],
   "source": [
    "printAllColumnsUniqueValues(train_df)"
   ]
  },
  {
   "cell_type": "code",
   "execution_count": 41,
   "metadata": {},
   "outputs": [
    {
     "data": {
      "text/plain": [
       "Index(['AccountAge', 'MonthlyCharges', 'TotalCharges', 'PaperlessBilling',\n",
       "       'MultiDeviceAccess', 'ViewingHoursPerWeek', 'AverageViewingDuration',\n",
       "       'ContentDownloadsPerMonth', 'UserRating', 'SupportTicketsPerMonth',\n",
       "       'Gender', 'WatchlistSize', 'ParentalControl', 'SubtitlesEnabled',\n",
       "       'Churn', 'SubscriptionType_Basic', 'SubscriptionType_Premium',\n",
       "       'SubscriptionType_Standard', 'PaymentMethod_Bank transfer',\n",
       "       'PaymentMethod_Credit card', 'PaymentMethod_Electronic check',\n",
       "       'PaymentMethod_Mailed check', 'ContentType_Both', 'ContentType_Movies',\n",
       "       'ContentType_TV Shows', 'DeviceRegistered_Computer',\n",
       "       'DeviceRegistered_Mobile', 'DeviceRegistered_TV',\n",
       "       'DeviceRegistered_Tablet', 'GenrePreference_Action',\n",
       "       'GenrePreference_Comedy', 'GenrePreference_Drama',\n",
       "       'GenrePreference_Fantasy', 'GenrePreference_Sci-Fi'],\n",
       "      dtype='object')"
      ]
     },
     "execution_count": 41,
     "metadata": {},
     "output_type": "execute_result"
    }
   ],
   "source": [
    "# train_df.columns\n",
    "balanceTrainDF.columns"
   ]
  },
  {
   "cell_type": "code",
   "execution_count": 42,
   "metadata": {},
   "outputs": [
    {
     "data": {
      "text/html": [
       "<div>\n",
       "<style scoped>\n",
       "    .dataframe tbody tr th:only-of-type {\n",
       "        vertical-align: middle;\n",
       "    }\n",
       "\n",
       "    .dataframe tbody tr th {\n",
       "        vertical-align: top;\n",
       "    }\n",
       "\n",
       "    .dataframe thead th {\n",
       "        text-align: right;\n",
       "    }\n",
       "</style>\n",
       "<table border=\"1\" class=\"dataframe\">\n",
       "  <thead>\n",
       "    <tr style=\"text-align: right;\">\n",
       "      <th></th>\n",
       "      <th>AccountAge</th>\n",
       "      <th>MonthlyCharges</th>\n",
       "      <th>TotalCharges</th>\n",
       "      <th>PaperlessBilling</th>\n",
       "      <th>MultiDeviceAccess</th>\n",
       "      <th>ViewingHoursPerWeek</th>\n",
       "      <th>AverageViewingDuration</th>\n",
       "      <th>ContentDownloadsPerMonth</th>\n",
       "      <th>UserRating</th>\n",
       "      <th>SupportTicketsPerMonth</th>\n",
       "      <th>...</th>\n",
       "      <th>ContentType_TV Shows</th>\n",
       "      <th>DeviceRegistered_Computer</th>\n",
       "      <th>DeviceRegistered_Mobile</th>\n",
       "      <th>DeviceRegistered_TV</th>\n",
       "      <th>DeviceRegistered_Tablet</th>\n",
       "      <th>GenrePreference_Action</th>\n",
       "      <th>GenrePreference_Comedy</th>\n",
       "      <th>GenrePreference_Drama</th>\n",
       "      <th>GenrePreference_Fantasy</th>\n",
       "      <th>GenrePreference_Sci-Fi</th>\n",
       "    </tr>\n",
       "  </thead>\n",
       "  <tbody>\n",
       "    <tr>\n",
       "      <th>count</th>\n",
       "      <td>88364.000000</td>\n",
       "      <td>88364.000000</td>\n",
       "      <td>88364.000000</td>\n",
       "      <td>88364.000000</td>\n",
       "      <td>88364.000000</td>\n",
       "      <td>88364.000000</td>\n",
       "      <td>88364.000000</td>\n",
       "      <td>88364.000000</td>\n",
       "      <td>88364.000000</td>\n",
       "      <td>88364.000000</td>\n",
       "      <td>...</td>\n",
       "      <td>88364.000000</td>\n",
       "      <td>88364.000000</td>\n",
       "      <td>88364.000000</td>\n",
       "      <td>88364.000000</td>\n",
       "      <td>88364.000000</td>\n",
       "      <td>88364.000000</td>\n",
       "      <td>88364.000000</td>\n",
       "      <td>88364.000000</td>\n",
       "      <td>88364.000000</td>\n",
       "      <td>88364.000000</td>\n",
       "    </tr>\n",
       "    <tr>\n",
       "      <th>mean</th>\n",
       "      <td>0.452716</td>\n",
       "      <td>0.524889</td>\n",
       "      <td>0.293093</td>\n",
       "      <td>0.500079</td>\n",
       "      <td>0.499525</td>\n",
       "      <td>0.469796</td>\n",
       "      <td>0.463487</td>\n",
       "      <td>0.468561</td>\n",
       "      <td>0.504589</td>\n",
       "      <td>0.522250</td>\n",
       "      <td>...</td>\n",
       "      <td>0.330146</td>\n",
       "      <td>0.251245</td>\n",
       "      <td>0.250928</td>\n",
       "      <td>0.245892</td>\n",
       "      <td>0.251935</td>\n",
       "      <td>0.193065</td>\n",
       "      <td>0.206000</td>\n",
       "      <td>0.198305</td>\n",
       "      <td>0.198327</td>\n",
       "      <td>0.204303</td>\n",
       "    </tr>\n",
       "    <tr>\n",
       "      <th>std</th>\n",
       "      <td>0.289105</td>\n",
       "      <td>0.287808</td>\n",
       "      <td>0.218293</td>\n",
       "      <td>0.500003</td>\n",
       "      <td>0.500003</td>\n",
       "      <td>0.287309</td>\n",
       "      <td>0.287710</td>\n",
       "      <td>0.293825</td>\n",
       "      <td>0.289157</td>\n",
       "      <td>0.319507</td>\n",
       "      <td>...</td>\n",
       "      <td>0.470268</td>\n",
       "      <td>0.433731</td>\n",
       "      <td>0.433550</td>\n",
       "      <td>0.430617</td>\n",
       "      <td>0.434127</td>\n",
       "      <td>0.394706</td>\n",
       "      <td>0.404433</td>\n",
       "      <td>0.398725</td>\n",
       "      <td>0.398742</td>\n",
       "      <td>0.403193</td>\n",
       "    </tr>\n",
       "    <tr>\n",
       "      <th>min</th>\n",
       "      <td>0.000000</td>\n",
       "      <td>0.000000</td>\n",
       "      <td>0.000000</td>\n",
       "      <td>0.000000</td>\n",
       "      <td>0.000000</td>\n",
       "      <td>0.000000</td>\n",
       "      <td>0.000000</td>\n",
       "      <td>0.000000</td>\n",
       "      <td>0.000000</td>\n",
       "      <td>0.000000</td>\n",
       "      <td>...</td>\n",
       "      <td>0.000000</td>\n",
       "      <td>0.000000</td>\n",
       "      <td>0.000000</td>\n",
       "      <td>0.000000</td>\n",
       "      <td>0.000000</td>\n",
       "      <td>0.000000</td>\n",
       "      <td>0.000000</td>\n",
       "      <td>0.000000</td>\n",
       "      <td>0.000000</td>\n",
       "      <td>0.000000</td>\n",
       "    </tr>\n",
       "    <tr>\n",
       "      <th>25%</th>\n",
       "      <td>0.194915</td>\n",
       "      <td>0.280156</td>\n",
       "      <td>0.115459</td>\n",
       "      <td>0.000000</td>\n",
       "      <td>0.000000</td>\n",
       "      <td>0.218211</td>\n",
       "      <td>0.210575</td>\n",
       "      <td>0.204082</td>\n",
       "      <td>0.255012</td>\n",
       "      <td>0.222222</td>\n",
       "      <td>...</td>\n",
       "      <td>0.000000</td>\n",
       "      <td>0.000000</td>\n",
       "      <td>0.000000</td>\n",
       "      <td>0.000000</td>\n",
       "      <td>0.000000</td>\n",
       "      <td>0.000000</td>\n",
       "      <td>0.000000</td>\n",
       "      <td>0.000000</td>\n",
       "      <td>0.000000</td>\n",
       "      <td>0.000000</td>\n",
       "    </tr>\n",
       "    <tr>\n",
       "      <th>50%</th>\n",
       "      <td>0.432203</td>\n",
       "      <td>0.537784</td>\n",
       "      <td>0.246315</td>\n",
       "      <td>1.000000</td>\n",
       "      <td>0.000000</td>\n",
       "      <td>0.454755</td>\n",
       "      <td>0.445425</td>\n",
       "      <td>0.448980</td>\n",
       "      <td>0.506689</td>\n",
       "      <td>0.555556</td>\n",
       "      <td>...</td>\n",
       "      <td>0.000000</td>\n",
       "      <td>0.000000</td>\n",
       "      <td>0.000000</td>\n",
       "      <td>0.000000</td>\n",
       "      <td>0.000000</td>\n",
       "      <td>0.000000</td>\n",
       "      <td>0.000000</td>\n",
       "      <td>0.000000</td>\n",
       "      <td>0.000000</td>\n",
       "      <td>0.000000</td>\n",
       "    </tr>\n",
       "    <tr>\n",
       "      <th>75%</th>\n",
       "      <td>0.694915</td>\n",
       "      <td>0.775546</td>\n",
       "      <td>0.429843</td>\n",
       "      <td>1.000000</td>\n",
       "      <td>1.000000</td>\n",
       "      <td>0.713754</td>\n",
       "      <td>0.706420</td>\n",
       "      <td>0.714286</td>\n",
       "      <td>0.755581</td>\n",
       "      <td>0.777778</td>\n",
       "      <td>...</td>\n",
       "      <td>1.000000</td>\n",
       "      <td>1.000000</td>\n",
       "      <td>1.000000</td>\n",
       "      <td>0.000000</td>\n",
       "      <td>1.000000</td>\n",
       "      <td>0.000000</td>\n",
       "      <td>0.000000</td>\n",
       "      <td>0.000000</td>\n",
       "      <td>0.000000</td>\n",
       "      <td>0.000000</td>\n",
       "    </tr>\n",
       "    <tr>\n",
       "      <th>max</th>\n",
       "      <td>1.000000</td>\n",
       "      <td>1.000000</td>\n",
       "      <td>1.000000</td>\n",
       "      <td>1.000000</td>\n",
       "      <td>1.000000</td>\n",
       "      <td>1.000000</td>\n",
       "      <td>1.000000</td>\n",
       "      <td>1.000000</td>\n",
       "      <td>1.000000</td>\n",
       "      <td>1.000000</td>\n",
       "      <td>...</td>\n",
       "      <td>1.000000</td>\n",
       "      <td>1.000000</td>\n",
       "      <td>1.000000</td>\n",
       "      <td>1.000000</td>\n",
       "      <td>1.000000</td>\n",
       "      <td>1.000000</td>\n",
       "      <td>1.000000</td>\n",
       "      <td>1.000000</td>\n",
       "      <td>1.000000</td>\n",
       "      <td>1.000000</td>\n",
       "    </tr>\n",
       "  </tbody>\n",
       "</table>\n",
       "<p>8 rows × 34 columns</p>\n",
       "</div>"
      ],
      "text/plain": [
       "         AccountAge  MonthlyCharges  TotalCharges  PaperlessBilling   \n",
       "count  88364.000000    88364.000000  88364.000000      88364.000000  \\\n",
       "mean       0.452716        0.524889      0.293093          0.500079   \n",
       "std        0.289105        0.287808      0.218293          0.500003   \n",
       "min        0.000000        0.000000      0.000000          0.000000   \n",
       "25%        0.194915        0.280156      0.115459          0.000000   \n",
       "50%        0.432203        0.537784      0.246315          1.000000   \n",
       "75%        0.694915        0.775546      0.429843          1.000000   \n",
       "max        1.000000        1.000000      1.000000          1.000000   \n",
       "\n",
       "       MultiDeviceAccess  ViewingHoursPerWeek  AverageViewingDuration   \n",
       "count       88364.000000         88364.000000            88364.000000  \\\n",
       "mean            0.499525             0.469796                0.463487   \n",
       "std             0.500003             0.287309                0.287710   \n",
       "min             0.000000             0.000000                0.000000   \n",
       "25%             0.000000             0.218211                0.210575   \n",
       "50%             0.000000             0.454755                0.445425   \n",
       "75%             1.000000             0.713754                0.706420   \n",
       "max             1.000000             1.000000                1.000000   \n",
       "\n",
       "       ContentDownloadsPerMonth    UserRating  SupportTicketsPerMonth  ...   \n",
       "count              88364.000000  88364.000000            88364.000000  ...  \\\n",
       "mean                   0.468561      0.504589                0.522250  ...   \n",
       "std                    0.293825      0.289157                0.319507  ...   \n",
       "min                    0.000000      0.000000                0.000000  ...   \n",
       "25%                    0.204082      0.255012                0.222222  ...   \n",
       "50%                    0.448980      0.506689                0.555556  ...   \n",
       "75%                    0.714286      0.755581                0.777778  ...   \n",
       "max                    1.000000      1.000000                1.000000  ...   \n",
       "\n",
       "       ContentType_TV Shows  DeviceRegistered_Computer   \n",
       "count          88364.000000               88364.000000  \\\n",
       "mean               0.330146                   0.251245   \n",
       "std                0.470268                   0.433731   \n",
       "min                0.000000                   0.000000   \n",
       "25%                0.000000                   0.000000   \n",
       "50%                0.000000                   0.000000   \n",
       "75%                1.000000                   1.000000   \n",
       "max                1.000000                   1.000000   \n",
       "\n",
       "       DeviceRegistered_Mobile  DeviceRegistered_TV  DeviceRegistered_Tablet   \n",
       "count             88364.000000         88364.000000             88364.000000  \\\n",
       "mean                  0.250928             0.245892                 0.251935   \n",
       "std                   0.433550             0.430617                 0.434127   \n",
       "min                   0.000000             0.000000                 0.000000   \n",
       "25%                   0.000000             0.000000                 0.000000   \n",
       "50%                   0.000000             0.000000                 0.000000   \n",
       "75%                   1.000000             0.000000                 1.000000   \n",
       "max                   1.000000             1.000000                 1.000000   \n",
       "\n",
       "       GenrePreference_Action  GenrePreference_Comedy  GenrePreference_Drama   \n",
       "count            88364.000000            88364.000000           88364.000000  \\\n",
       "mean                 0.193065                0.206000               0.198305   \n",
       "std                  0.394706                0.404433               0.398725   \n",
       "min                  0.000000                0.000000               0.000000   \n",
       "25%                  0.000000                0.000000               0.000000   \n",
       "50%                  0.000000                0.000000               0.000000   \n",
       "75%                  0.000000                0.000000               0.000000   \n",
       "max                  1.000000                1.000000               1.000000   \n",
       "\n",
       "       GenrePreference_Fantasy  GenrePreference_Sci-Fi  \n",
       "count             88364.000000            88364.000000  \n",
       "mean                  0.198327                0.204303  \n",
       "std                   0.398742                0.403193  \n",
       "min                   0.000000                0.000000  \n",
       "25%                   0.000000                0.000000  \n",
       "50%                   0.000000                0.000000  \n",
       "75%                   0.000000                0.000000  \n",
       "max                   1.000000                1.000000  \n",
       "\n",
       "[8 rows x 34 columns]"
      ]
     },
     "execution_count": 42,
     "metadata": {},
     "output_type": "execute_result"
    }
   ],
   "source": [
    "# train_df.describe()\n",
    "balanceTrainDF.describe()"
   ]
  },
  {
   "cell_type": "code",
   "execution_count": 43,
   "metadata": {},
   "outputs": [
    {
     "data": {
      "text/plain": [
       "ContentType_TV Shows\n",
       "0    59191\n",
       "1    29173\n",
       "Name: count, dtype: int64"
      ]
     },
     "execution_count": 43,
     "metadata": {},
     "output_type": "execute_result"
    }
   ],
   "source": [
    "# train_df[\"ContentType_TV Shows\"].value_counts()\n",
    "balanceTrainDF[\"ContentType_TV Shows\"].value_counts()"
   ]
  },
  {
   "cell_type": "code",
   "execution_count": 44,
   "metadata": {},
   "outputs": [],
   "source": [
    "# printAllColumnsUniqueValues(train_df)"
   ]
  },
  {
   "cell_type": "markdown",
   "metadata": {},
   "source": [
    "## Make predictions (required)\n",
    "\n",
    "Remember you should create a dataframe named `prediction_df` with exactly 104,480 entries plus a header row attempting to predict the likelihood of churn for subscriptions in `test_df`. Your submission will throw an error if you have extra columns (beyond `CustomerID` and `predicted_probaility`) or extra rows.\n",
    "\n",
    "The file should have exactly 2 columns:\n",
    "`CustomerID` (sorted in any order)\n",
    "`predicted_probability` (contains your numeric predicted probabilities between 0 and 1, e.g. from `estimator.predict_proba(X, y)[:, 1]`)\n",
    "\n",
    "The naming convention of the dataframe and columns are critical for our autograding, so please make sure to use the exact naming conventions of `prediction_df` with column names `CustomerID` and `predicted_probability`!"
   ]
  },
  {
   "cell_type": "code",
   "execution_count": 45,
   "metadata": {},
   "outputs": [
    {
     "name": "stdout",
     "output_type": "stream",
     "text": [
      "Defaulting to user installation because normal site-packages is not writeable\n",
      "Requirement already satisfied: xgboost in /home/johnsonhk88/.local/lib/python3.10/site-packages (1.7.6)\n",
      "Requirement already satisfied: numpy in /home/johnsonhk88/.local/lib/python3.10/site-packages (from xgboost) (1.24.3)\n",
      "Requirement already satisfied: scipy in /usr/lib/python3/dist-packages (from xgboost) (1.8.0)\n",
      "Defaulting to user installation because normal site-packages is not writeable\n",
      "Requirement already satisfied: lightgbm in /home/johnsonhk88/.local/lib/python3.10/site-packages (4.3.0)\n",
      "Requirement already satisfied: numpy in /home/johnsonhk88/.local/lib/python3.10/site-packages (from lightgbm) (1.24.3)\n",
      "Requirement already satisfied: scipy in /usr/lib/python3/dist-packages (from lightgbm) (1.8.0)\n"
     ]
    }
   ],
   "source": [
    "## Install  xgboost and lightgbm\n",
    "!pip install xgboost\n",
    "!pip install lightgbm"
   ]
  },
  {
   "cell_type": "markdown",
   "metadata": {},
   "source": [
    "## Use Different Machine Learning Models for Predicting, selecting best model for final prediction"
   ]
  },
  {
   "cell_type": "code",
   "execution_count": 46,
   "metadata": {},
   "outputs": [],
   "source": [
    "#import ML different model\n",
    "from xgboost import XGBClassifier\n",
    "from lightgbm import LGBMClassifier\n",
    "# from catboost import CatBoostClassifier\n",
    "from sklearn.ensemble import RandomForestClassifier\n",
    "from tqdm import tqdm"
   ]
  },
  {
   "cell_type": "markdown",
   "metadata": {},
   "source": [
    "### RandomForest Model "
   ]
  },
  {
   "cell_type": "code",
   "execution_count": 47,
   "metadata": {},
   "outputs": [],
   "source": [
    "nEstimate=  200, #850#1000#500\n",
    "rounds=10\n",
    "maxDepth = 7#10\n",
    "\n",
    "rf = RandomForestClassifier(n_estimators=200, \n",
    "                            class_weight='balanced', \n",
    "                            random_state=42, n_jobs=-1)"
   ]
  },
  {
   "cell_type": "markdown",
   "metadata": {},
   "source": [
    "### XgBoost Initial"
   ]
  },
  {
   "cell_type": "code",
   "execution_count": 106,
   "metadata": {},
   "outputs": [
    {
     "data": {
      "text/plain": [
       "{'objective': 'binary:logistic',\n",
       " 'use_label_encoder': None,\n",
       " 'base_score': None,\n",
       " 'booster': None,\n",
       " 'callbacks': None,\n",
       " 'colsample_bylevel': None,\n",
       " 'colsample_bynode': None,\n",
       " 'colsample_bytree': None,\n",
       " 'early_stopping_rounds': None,\n",
       " 'enable_categorical': False,\n",
       " 'eval_metric': None,\n",
       " 'feature_types': None,\n",
       " 'gamma': None,\n",
       " 'gpu_id': None,\n",
       " 'grow_policy': None,\n",
       " 'importance_type': None,\n",
       " 'interaction_constraints': None,\n",
       " 'learning_rate': None,\n",
       " 'max_bin': None,\n",
       " 'max_cat_threshold': None,\n",
       " 'max_cat_to_onehot': None,\n",
       " 'max_delta_step': None,\n",
       " 'max_depth': 6,\n",
       " 'max_leaves': None,\n",
       " 'min_child_weight': None,\n",
       " 'missing': nan,\n",
       " 'monotone_constraints': None,\n",
       " 'n_estimators': 300,\n",
       " 'n_jobs': -1,\n",
       " 'num_parallel_tree': None,\n",
       " 'predictor': None,\n",
       " 'random_state': 42,\n",
       " 'reg_alpha': None,\n",
       " 'reg_lambda': None,\n",
       " 'sampling_method': None,\n",
       " 'scale_pos_weight': None,\n",
       " 'subsample': None,\n",
       " 'tree_method': None,\n",
       " 'validate_parameters': None,\n",
       " 'verbosity': None}"
      ]
     },
     "execution_count": 106,
     "metadata": {},
     "output_type": "execute_result"
    }
   ],
   "source": [
    "nEstimate=300 #1000\n",
    "rounds=10\n",
    "maxDepth = 6#10\n",
    "\n",
    "xgb = XGBClassifier(n_estimators=nEstimate,\n",
    "                     max_depth=maxDepth, \n",
    "                     objective='binary:logistic',\n",
    "                    #  tree_method='gpu_hist', # GPU accelerated training.\n",
    "                     n_jobs=-1, # for CPU parallelism\n",
    "                     random_state=42)\n",
    "xgb.get_params()"
   ]
  },
  {
   "cell_type": "markdown",
   "metadata": {},
   "source": [
    "## LGBM inital"
   ]
  },
  {
   "cell_type": "code",
   "execution_count": 49,
   "metadata": {},
   "outputs": [],
   "source": [
    "lgbmModel = LGBMClassifier(n_estimators=nEstimate, \n",
    "                           max_depth=maxDepth, \n",
    "                           n_jobs=-1,\n",
    "                           class_weight='balanced',\n",
    "                           random_state=42)"
   ]
  },
  {
   "cell_type": "markdown",
   "metadata": {},
   "source": [
    "### Example prediction submission:\n",
    "\n",
    "The code below is a very naive prediction method that simply predicts churn using a Dummy Classifier. This is used as just an example showing the submission format required. Please change/alter/delete this code below and create your own improved prediction methods for generating `prediction_df`."
   ]
  },
  {
   "cell_type": "markdown",
   "metadata": {},
   "source": [
    "## Define X and Y train data and Train Test data split into training and testing"
   ]
  },
  {
   "cell_type": "code",
   "execution_count": 50,
   "metadata": {},
   "outputs": [],
   "source": [
    "# X = train_df.drop(\"Churn\", axis=1)\n",
    "# y = train_df[\"Churn\"]\n",
    "X = balanceTrainDF.drop(\"Churn\", axis=1)\n",
    "y = balanceTrainDF[\"Churn\"]\n",
    "\n"
   ]
  },
  {
   "cell_type": "code",
   "execution_count": 51,
   "metadata": {},
   "outputs": [],
   "source": [
    "X_train, X_test, y_train, y_test = train_test_split(X, y, test_size=0.2, stratify=y, random_state=42)"
   ]
  },
  {
   "cell_type": "code",
   "execution_count": 52,
   "metadata": {},
   "outputs": [
    {
     "data": {
      "text/plain": [
       "((70691, 33), (17673, 33))"
      ]
     },
     "execution_count": 52,
     "metadata": {},
     "output_type": "execute_result"
    }
   ],
   "source": [
    "X_train.shape, X_test.shape"
   ]
  },
  {
   "cell_type": "code",
   "execution_count": null,
   "metadata": {},
   "outputs": [],
   "source": []
  },
  {
   "cell_type": "markdown",
   "metadata": {},
   "source": [
    "**PLEASE CHANGE CODE BELOW TO IMPLEMENT YOUR OWN PREDICTIONS**"
   ]
  },
  {
   "cell_type": "code",
   "execution_count": 53,
   "metadata": {},
   "outputs": [],
   "source": [
    "### PLEASE CHANGE THIS CODE TO IMPLEMENT YOUR OWN PREDICTIONS\n",
    "\n",
    "# Fit a dummy classifier on the feature columns in train_df:\n",
    "# dummy_clf = DummyClassifier(strategy=\"stratified\")\n",
    "# dummy_clf.fit(train_df.drop(['CustomerID', 'Churn'], axis=1), train_df.Churn)"
   ]
  },
  {
   "cell_type": "code",
   "execution_count": 54,
   "metadata": {},
   "outputs": [
    {
     "data": {
      "text/html": [
       "<style>#sk-container-id-1 {color: black;}#sk-container-id-1 pre{padding: 0;}#sk-container-id-1 div.sk-toggleable {background-color: white;}#sk-container-id-1 label.sk-toggleable__label {cursor: pointer;display: block;width: 100%;margin-bottom: 0;padding: 0.3em;box-sizing: border-box;text-align: center;}#sk-container-id-1 label.sk-toggleable__label-arrow:before {content: \"▸\";float: left;margin-right: 0.25em;color: #696969;}#sk-container-id-1 label.sk-toggleable__label-arrow:hover:before {color: black;}#sk-container-id-1 div.sk-estimator:hover label.sk-toggleable__label-arrow:before {color: black;}#sk-container-id-1 div.sk-toggleable__content {max-height: 0;max-width: 0;overflow: hidden;text-align: left;background-color: #f0f8ff;}#sk-container-id-1 div.sk-toggleable__content pre {margin: 0.2em;color: black;border-radius: 0.25em;background-color: #f0f8ff;}#sk-container-id-1 input.sk-toggleable__control:checked~div.sk-toggleable__content {max-height: 200px;max-width: 100%;overflow: auto;}#sk-container-id-1 input.sk-toggleable__control:checked~label.sk-toggleable__label-arrow:before {content: \"▾\";}#sk-container-id-1 div.sk-estimator input.sk-toggleable__control:checked~label.sk-toggleable__label {background-color: #d4ebff;}#sk-container-id-1 div.sk-label input.sk-toggleable__control:checked~label.sk-toggleable__label {background-color: #d4ebff;}#sk-container-id-1 input.sk-hidden--visually {border: 0;clip: rect(1px 1px 1px 1px);clip: rect(1px, 1px, 1px, 1px);height: 1px;margin: -1px;overflow: hidden;padding: 0;position: absolute;width: 1px;}#sk-container-id-1 div.sk-estimator {font-family: monospace;background-color: #f0f8ff;border: 1px dotted black;border-radius: 0.25em;box-sizing: border-box;margin-bottom: 0.5em;}#sk-container-id-1 div.sk-estimator:hover {background-color: #d4ebff;}#sk-container-id-1 div.sk-parallel-item::after {content: \"\";width: 100%;border-bottom: 1px solid gray;flex-grow: 1;}#sk-container-id-1 div.sk-label:hover label.sk-toggleable__label {background-color: #d4ebff;}#sk-container-id-1 div.sk-serial::before {content: \"\";position: absolute;border-left: 1px solid gray;box-sizing: border-box;top: 0;bottom: 0;left: 50%;z-index: 0;}#sk-container-id-1 div.sk-serial {display: flex;flex-direction: column;align-items: center;background-color: white;padding-right: 0.2em;padding-left: 0.2em;position: relative;}#sk-container-id-1 div.sk-item {position: relative;z-index: 1;}#sk-container-id-1 div.sk-parallel {display: flex;align-items: stretch;justify-content: center;background-color: white;position: relative;}#sk-container-id-1 div.sk-item::before, #sk-container-id-1 div.sk-parallel-item::before {content: \"\";position: absolute;border-left: 1px solid gray;box-sizing: border-box;top: 0;bottom: 0;left: 50%;z-index: -1;}#sk-container-id-1 div.sk-parallel-item {display: flex;flex-direction: column;z-index: 1;position: relative;background-color: white;}#sk-container-id-1 div.sk-parallel-item:first-child::after {align-self: flex-end;width: 50%;}#sk-container-id-1 div.sk-parallel-item:last-child::after {align-self: flex-start;width: 50%;}#sk-container-id-1 div.sk-parallel-item:only-child::after {width: 0;}#sk-container-id-1 div.sk-dashed-wrapped {border: 1px dashed gray;margin: 0 0.4em 0.5em 0.4em;box-sizing: border-box;padding-bottom: 0.4em;background-color: white;}#sk-container-id-1 div.sk-label label {font-family: monospace;font-weight: bold;display: inline-block;line-height: 1.2em;}#sk-container-id-1 div.sk-label-container {text-align: center;}#sk-container-id-1 div.sk-container {/* jupyter's `normalize.less` sets `[hidden] { display: none; }` but bootstrap.min.css set `[hidden] { display: none !important; }` so we also need the `!important` here to be able to override the default hidden behavior on the sphinx rendered scikit-learn.org. See: https://github.com/scikit-learn/scikit-learn/issues/21755 */display: inline-block !important;position: relative;}#sk-container-id-1 div.sk-text-repr-fallback {display: none;}</style><div id=\"sk-container-id-1\" class=\"sk-top-container\"><div class=\"sk-text-repr-fallback\"><pre>RandomForestClassifier(class_weight=&#x27;balanced&#x27;, n_estimators=200, n_jobs=-1,\n",
       "                       random_state=42)</pre><b>In a Jupyter environment, please rerun this cell to show the HTML representation or trust the notebook. <br />On GitHub, the HTML representation is unable to render, please try loading this page with nbviewer.org.</b></div><div class=\"sk-container\" hidden><div class=\"sk-item\"><div class=\"sk-estimator sk-toggleable\"><input class=\"sk-toggleable__control sk-hidden--visually\" id=\"sk-estimator-id-1\" type=\"checkbox\" checked><label for=\"sk-estimator-id-1\" class=\"sk-toggleable__label sk-toggleable__label-arrow\">RandomForestClassifier</label><div class=\"sk-toggleable__content\"><pre>RandomForestClassifier(class_weight=&#x27;balanced&#x27;, n_estimators=200, n_jobs=-1,\n",
       "                       random_state=42)</pre></div></div></div></div></div>"
      ],
      "text/plain": [
       "RandomForestClassifier(class_weight='balanced', n_estimators=200, n_jobs=-1,\n",
       "                       random_state=42)"
      ]
     },
     "execution_count": 54,
     "metadata": {},
     "output_type": "execute_result"
    }
   ],
   "source": [
    "# Random forest train \n",
    "rf.fit(X_train, y_train)"
   ]
  },
  {
   "cell_type": "code",
   "execution_count": 55,
   "metadata": {},
   "outputs": [],
   "source": [
    "evalRF = rf.predict(X_test)\n",
    "evalRFProb = rf.predict_proba(X_test)[:,1] # get the probability of the positive class"
   ]
  },
  {
   "cell_type": "code",
   "execution_count": 56,
   "metadata": {},
   "outputs": [],
   "source": [
    "reportClassificationRF = classification_report(y_test, evalRF)"
   ]
  },
  {
   "cell_type": "code",
   "execution_count": 57,
   "metadata": {},
   "outputs": [
    {
     "name": "stdout",
     "output_type": "stream",
     "text": [
      "              precision    recall  f1-score   support\n",
      "\n",
      "           0       0.68      0.68      0.68      8837\n",
      "           1       0.68      0.68      0.68      8836\n",
      "\n",
      "    accuracy                           0.68     17673\n",
      "   macro avg       0.68      0.68      0.68     17673\n",
      "weighted avg       0.68      0.68      0.68     17673\n",
      "\n"
     ]
    }
   ],
   "source": [
    "print(reportClassificationRF)"
   ]
  },
  {
   "cell_type": "code",
   "execution_count": 58,
   "metadata": {},
   "outputs": [
    {
     "data": {
      "text/plain": [
       "0.7454363541435239"
      ]
     },
     "execution_count": 58,
     "metadata": {},
     "output_type": "execute_result"
    }
   ],
   "source": [
    "rfc_auc = roc_auc_score(y_test, evalRFProb)\n",
    "rfc_fpr, rfc_tpr, rfc_th = roc_curve(y_test, evalRFProb)\n",
    "rfc_auc"
   ]
  },
  {
   "cell_type": "code",
   "execution_count": 59,
   "metadata": {},
   "outputs": [
    {
     "data": {
      "image/png": "[encoded data removed]",
      "text/plain": [
       "<Figure size 600x400 with 1 Axes>"
      ]
     },
     "metadata": {},
     "output_type": "display_data"
    }
   ],
   "source": [
    "plt.figure(figsize=(6, 4))\n",
    "plt.plot(rfc_fpr, rfc_tpr, label='ROC curve (area = %0.2f)' % rfc_auc)\n",
    "plt.plot([0, 1], [0, 1], 'k--', label='No Skill')\n",
    "plt.xlim([0.0, 1.0])\n",
    "plt.ylim([0.0, 1.05])\n",
    "plt.xlabel('False Positive Rate')\n",
    "plt.ylabel('True Positive Rate')\n",
    "plt.title('ROC Curve for Random Forest Classification')\n",
    "plt.legend()\n",
    "plt.show()"
   ]
  },
  {
   "cell_type": "markdown",
   "metadata": {},
   "source": [
    "### XBoost training"
   ]
  },
  {
   "cell_type": "code",
   "execution_count": 60,
   "metadata": {},
   "outputs": [
    {
     "data": {
      "text/html": [
       "<style>#sk-container-id-2 {color: black;}#sk-container-id-2 pre{padding: 0;}#sk-container-id-2 div.sk-toggleable {background-color: white;}#sk-container-id-2 label.sk-toggleable__label {cursor: pointer;display: block;width: 100%;margin-bottom: 0;padding: 0.3em;box-sizing: border-box;text-align: center;}#sk-container-id-2 label.sk-toggleable__label-arrow:before {content: \"▸\";float: left;margin-right: 0.25em;color: #696969;}#sk-container-id-2 label.sk-toggleable__label-arrow:hover:before {color: black;}#sk-container-id-2 div.sk-estimator:hover label.sk-toggleable__label-arrow:before {color: black;}#sk-container-id-2 div.sk-toggleable__content {max-height: 0;max-width: 0;overflow: hidden;text-align: left;background-color: #f0f8ff;}#sk-container-id-2 div.sk-toggleable__content pre {margin: 0.2em;color: black;border-radius: 0.25em;background-color: #f0f8ff;}#sk-container-id-2 input.sk-toggleable__control:checked~div.sk-toggleable__content {max-height: 200px;max-width: 100%;overflow: auto;}#sk-container-id-2 input.sk-toggleable__control:checked~label.sk-toggleable__label-arrow:before {content: \"▾\";}#sk-container-id-2 div.sk-estimator input.sk-toggleable__control:checked~label.sk-toggleable__label {background-color: #d4ebff;}#sk-container-id-2 div.sk-label input.sk-toggleable__control:checked~label.sk-toggleable__label {background-color: #d4ebff;}#sk-container-id-2 input.sk-hidden--visually {border: 0;clip: rect(1px 1px 1px 1px);clip: rect(1px, 1px, 1px, 1px);height: 1px;margin: -1px;overflow: hidden;padding: 0;position: absolute;width: 1px;}#sk-container-id-2 div.sk-estimator {font-family: monospace;background-color: #f0f8ff;border: 1px dotted black;border-radius: 0.25em;box-sizing: border-box;margin-bottom: 0.5em;}#sk-container-id-2 div.sk-estimator:hover {background-color: #d4ebff;}#sk-container-id-2 div.sk-parallel-item::after {content: \"\";width: 100%;border-bottom: 1px solid gray;flex-grow: 1;}#sk-container-id-2 div.sk-label:hover label.sk-toggleable__label {background-color: #d4ebff;}#sk-container-id-2 div.sk-serial::before {content: \"\";position: absolute;border-left: 1px solid gray;box-sizing: border-box;top: 0;bottom: 0;left: 50%;z-index: 0;}#sk-container-id-2 div.sk-serial {display: flex;flex-direction: column;align-items: center;background-color: white;padding-right: 0.2em;padding-left: 0.2em;position: relative;}#sk-container-id-2 div.sk-item {position: relative;z-index: 1;}#sk-container-id-2 div.sk-parallel {display: flex;align-items: stretch;justify-content: center;background-color: white;position: relative;}#sk-container-id-2 div.sk-item::before, #sk-container-id-2 div.sk-parallel-item::before {content: \"\";position: absolute;border-left: 1px solid gray;box-sizing: border-box;top: 0;bottom: 0;left: 50%;z-index: -1;}#sk-container-id-2 div.sk-parallel-item {display: flex;flex-direction: column;z-index: 1;position: relative;background-color: white;}#sk-container-id-2 div.sk-parallel-item:first-child::after {align-self: flex-end;width: 50%;}#sk-container-id-2 div.sk-parallel-item:last-child::after {align-self: flex-start;width: 50%;}#sk-container-id-2 div.sk-parallel-item:only-child::after {width: 0;}#sk-container-id-2 div.sk-dashed-wrapped {border: 1px dashed gray;margin: 0 0.4em 0.5em 0.4em;box-sizing: border-box;padding-bottom: 0.4em;background-color: white;}#sk-container-id-2 div.sk-label label {font-family: monospace;font-weight: bold;display: inline-block;line-height: 1.2em;}#sk-container-id-2 div.sk-label-container {text-align: center;}#sk-container-id-2 div.sk-container {/* jupyter's `normalize.less` sets `[hidden] { display: none; }` but bootstrap.min.css set `[hidden] { display: none !important; }` so we also need the `!important` here to be able to override the default hidden behavior on the sphinx rendered scikit-learn.org. See: https://github.com/scikit-learn/scikit-learn/issues/21755 */display: inline-block !important;position: relative;}#sk-container-id-2 div.sk-text-repr-fallback {display: none;}</style><div id=\"sk-container-id-2\" class=\"sk-top-container\"><div class=\"sk-text-repr-fallback\"><pre>XGBClassifier(base_score=None, booster=None, callbacks=None,\n",
       "              colsample_bylevel=None, colsample_bynode=None,\n",
       "              colsample_bytree=None, early_stopping_rounds=None,\n",
       "              enable_categorical=False, eval_metric=None, feature_types=None,\n",
       "              gamma=None, gpu_id=None, grow_policy=None, importance_type=None,\n",
       "              interaction_constraints=None, learning_rate=None, max_bin=None,\n",
       "              max_cat_threshold=None, max_cat_to_onehot=None,\n",
       "              max_delta_step=None, max_depth=6, max_leaves=None,\n",
       "              min_child_weight=None, missing=nan, monotone_constraints=None,\n",
       "              n_estimators=300, n_jobs=-1, num_parallel_tree=None,\n",
       "              predictor=None, random_state=42, ...)</pre><b>In a Jupyter environment, please rerun this cell to show the HTML representation or trust the notebook. <br />On GitHub, the HTML representation is unable to render, please try loading this page with nbviewer.org.</b></div><div class=\"sk-container\" hidden><div class=\"sk-item\"><div class=\"sk-estimator sk-toggleable\"><input class=\"sk-toggleable__control sk-hidden--visually\" id=\"sk-estimator-id-2\" type=\"checkbox\" checked><label for=\"sk-estimator-id-2\" class=\"sk-toggleable__label sk-toggleable__label-arrow\">XGBClassifier</label><div class=\"sk-toggleable__content\"><pre>XGBClassifier(base_score=None, booster=None, callbacks=None,\n",
       "              colsample_bylevel=None, colsample_bynode=None,\n",
       "              colsample_bytree=None, early_stopping_rounds=None,\n",
       "              enable_categorical=False, eval_metric=None, feature_types=None,\n",
       "              gamma=None, gpu_id=None, grow_policy=None, importance_type=None,\n",
       "              interaction_constraints=None, learning_rate=None, max_bin=None,\n",
       "              max_cat_threshold=None, max_cat_to_onehot=None,\n",
       "              max_delta_step=None, max_depth=6, max_leaves=None,\n",
       "              min_child_weight=None, missing=nan, monotone_constraints=None,\n",
       "              n_estimators=300, n_jobs=-1, num_parallel_tree=None,\n",
       "              predictor=None, random_state=42, ...)</pre></div></div></div></div></div>"
      ],
      "text/plain": [
       "XGBClassifier(base_score=None, booster=None, callbacks=None,\n",
       "              colsample_bylevel=None, colsample_bynode=None,\n",
       "              colsample_bytree=None, early_stopping_rounds=None,\n",
       "              enable_categorical=False, eval_metric=None, feature_types=None,\n",
       "              gamma=None, gpu_id=None, grow_policy=None, importance_type=None,\n",
       "              interaction_constraints=None, learning_rate=None, max_bin=None,\n",
       "              max_cat_threshold=None, max_cat_to_onehot=None,\n",
       "              max_delta_step=None, max_depth=6, max_leaves=None,\n",
       "              min_child_weight=None, missing=nan, monotone_constraints=None,\n",
       "              n_estimators=300, n_jobs=-1, num_parallel_tree=None,\n",
       "              predictor=None, random_state=42, ...)"
      ]
     },
     "execution_count": 60,
     "metadata": {},
     "output_type": "execute_result"
    }
   ],
   "source": [
    "# Random forest train \n",
    "xgb.fit(X_train, y_train, verbose=False)"
   ]
  },
  {
   "cell_type": "code",
   "execution_count": 61,
   "metadata": {},
   "outputs": [],
   "source": [
    "evalXgb = xgb.predict(X_test)\n",
    "evalXgbProb = xgb.predict_proba(X_test)[:,1] # get the probability of the positive class"
   ]
  },
  {
   "cell_type": "code",
   "execution_count": 62,
   "metadata": {},
   "outputs": [
    {
     "name": "stdout",
     "output_type": "stream",
     "text": [
      "              precision    recall  f1-score   support\n",
      "\n",
      "           0       0.68      0.65      0.67      8837\n",
      "           1       0.67      0.69      0.68      8836\n",
      "\n",
      "    accuracy                           0.67     17673\n",
      "   macro avg       0.67      0.67      0.67     17673\n",
      "weighted avg       0.67      0.67      0.67     17673\n",
      "\n"
     ]
    }
   ],
   "source": [
    "reportClassificationXgb = classification_report(y_test, evalXgb)\n",
    "print(reportClassificationXgb)"
   ]
  },
  {
   "cell_type": "code",
   "execution_count": 63,
   "metadata": {},
   "outputs": [
    {
     "data": {
      "text/plain": [
       "0.731328626813073"
      ]
     },
     "execution_count": 63,
     "metadata": {},
     "output_type": "execute_result"
    }
   ],
   "source": [
    "xgb_auc = roc_auc_score(y_test, evalXgbProb)\n",
    "xgb_auc"
   ]
  },
  {
   "cell_type": "code",
   "execution_count": 64,
   "metadata": {},
   "outputs": [],
   "source": [
    "xgb_fpr, xgb_tpr, xgb_th = roc_curve(y_test, evalXgbProb)"
   ]
  },
  {
   "cell_type": "code",
   "execution_count": 65,
   "metadata": {},
   "outputs": [
    {
     "data": {
      "image/png": "[encoded data removed]",
      "text/plain": [
       "<Figure size 600x400 with 1 Axes>"
      ]
     },
     "metadata": {},
     "output_type": "display_data"
    }
   ],
   "source": [
    "plt.figure(figsize=(6, 4))\n",
    "plt.plot(xgb_fpr, xgb_tpr, label='ROC curve (area = %0.2f)' % xgb_auc)\n",
    "plt.plot([0, 1], [0, 1], 'k--', label='No Skill')\n",
    "plt.xlim([0.0, 1.0])\n",
    "plt.ylim([0.0, 1.05])\n",
    "plt.xlabel('False Positive Rate')\n",
    "plt.ylabel('True Positive Rate')\n",
    "plt.title('ROC Curve for XGBoost Classification')\n",
    "plt.legend()\n",
    "plt.show()"
   ]
  },
  {
   "cell_type": "markdown",
   "metadata": {},
   "source": [
    "## lightgbm"
   ]
  },
  {
   "cell_type": "code",
   "execution_count": 66,
   "metadata": {},
   "outputs": [
    {
     "name": "stdout",
     "output_type": "stream",
     "text": [
      "[LightGBM] [Warning] Accuracy may be bad since you didn't explicitly set num_leaves OR 2^max_depth > num_leaves. (num_leaves=31).\n",
      "[LightGBM] [Warning] Found whitespace in feature_names, replace with underlines\n",
      "[LightGBM] [Warning] Accuracy may be bad since you didn't explicitly set num_leaves OR 2^max_depth > num_leaves. (num_leaves=31).\n",
      "[LightGBM] [Info] Number of positive: 35346, number of negative: 35345\n",
      "[LightGBM] [Info] Auto-choosing row-wise multi-threading, the overhead of testing was 0.000480 seconds.\n",
      "You can set `force_row_wise=true` to remove the overhead.\n",
      "And if memory is not enough, you can set `force_col_wise=true`.\n",
      "[LightGBM] [Info] Total Bins 1527\n",
      "[LightGBM] [Info] Number of data points in the train set: 70691, number of used features: 33\n",
      "[LightGBM] [Info] [binary:BoostFromScore]: pavg=0.500000 -> initscore=-0.000000\n",
      "[LightGBM] [Info] Start training from score -0.000000\n",
      "[LightGBM] [Warning] No further splits with positive gain, best gain: -inf\n"
     ]
    },
    {
     "data": {
      "text/html": [
       "<style>#sk-container-id-3 {color: black;}#sk-container-id-3 pre{padding: 0;}#sk-container-id-3 div.sk-toggleable {background-color: white;}#sk-container-id-3 label.sk-toggleable__label {cursor: pointer;display: block;width: 100%;margin-bottom: 0;padding: 0.3em;box-sizing: border-box;text-align: center;}#sk-container-id-3 label.sk-toggleable__label-arrow:before {content: \"▸\";float: left;margin-right: 0.25em;color: #696969;}#sk-container-id-3 label.sk-toggleable__label-arrow:hover:before {color: black;}#sk-container-id-3 div.sk-estimator:hover label.sk-toggleable__label-arrow:before {color: black;}#sk-container-id-3 div.sk-toggleable__content {max-height: 0;max-width: 0;overflow: hidden;text-align: left;background-color: #f0f8ff;}#sk-container-id-3 div.sk-toggleable__content pre {margin: 0.2em;color: black;border-radius: 0.25em;background-color: #f0f8ff;}#sk-container-id-3 input.sk-toggleable__control:checked~div.sk-toggleable__content {max-height: 200px;max-width: 100%;overflow: auto;}#sk-container-id-3 input.sk-toggleable__control:checked~label.sk-toggleable__label-arrow:before {content: \"▾\";}#sk-container-id-3 div.sk-estimator input.sk-toggleable__control:checked~label.sk-toggleable__label {background-color: #d4ebff;}#sk-container-id-3 div.sk-label input.sk-toggleable__control:checked~label.sk-toggleable__label {background-color: #d4ebff;}#sk-container-id-3 input.sk-hidden--visually {border: 0;clip: rect(1px 1px 1px 1px);clip: rect(1px, 1px, 1px, 1px);height: 1px;margin: -1px;overflow: hidden;padding: 0;position: absolute;width: 1px;}#sk-container-id-3 div.sk-estimator {font-family: monospace;background-color: #f0f8ff;border: 1px dotted black;border-radius: 0.25em;box-sizing: border-box;margin-bottom: 0.5em;}#sk-container-id-3 div.sk-estimator:hover {background-color: #d4ebff;}#sk-container-id-3 div.sk-parallel-item::after {content: \"\";width: 100%;border-bottom: 1px solid gray;flex-grow: 1;}#sk-container-id-3 div.sk-label:hover label.sk-toggleable__label {background-color: #d4ebff;}#sk-container-id-3 div.sk-serial::before {content: \"\";position: absolute;border-left: 1px solid gray;box-sizing: border-box;top: 0;bottom: 0;left: 50%;z-index: 0;}#sk-container-id-3 div.sk-serial {display: flex;flex-direction: column;align-items: center;background-color: white;padding-right: 0.2em;padding-left: 0.2em;position: relative;}#sk-container-id-3 div.sk-item {position: relative;z-index: 1;}#sk-container-id-3 div.sk-parallel {display: flex;align-items: stretch;justify-content: center;background-color: white;position: relative;}#sk-container-id-3 div.sk-item::before, #sk-container-id-3 div.sk-parallel-item::before {content: \"\";position: absolute;border-left: 1px solid gray;box-sizing: border-box;top: 0;bottom: 0;left: 50%;z-index: -1;}#sk-container-id-3 div.sk-parallel-item {display: flex;flex-direction: column;z-index: 1;position: relative;background-color: white;}#sk-container-id-3 div.sk-parallel-item:first-child::after {align-self: flex-end;width: 50%;}#sk-container-id-3 div.sk-parallel-item:last-child::after {align-self: flex-start;width: 50%;}#sk-container-id-3 div.sk-parallel-item:only-child::after {width: 0;}#sk-container-id-3 div.sk-dashed-wrapped {border: 1px dashed gray;margin: 0 0.4em 0.5em 0.4em;box-sizing: border-box;padding-bottom: 0.4em;background-color: white;}#sk-container-id-3 div.sk-label label {font-family: monospace;font-weight: bold;display: inline-block;line-height: 1.2em;}#sk-container-id-3 div.sk-label-container {text-align: center;}#sk-container-id-3 div.sk-container {/* jupyter's `normalize.less` sets `[hidden] { display: none; }` but bootstrap.min.css set `[hidden] { display: none !important; }` so we also need the `!important` here to be able to override the default hidden behavior on the sphinx rendered scikit-learn.org. See: https://github.com/scikit-learn/scikit-learn/issues/21755 */display: inline-block !important;position: relative;}#sk-container-id-3 div.sk-text-repr-fallback {display: none;}</style><div id=\"sk-container-id-3\" class=\"sk-top-container\"><div class=\"sk-text-repr-fallback\"><pre>LGBMClassifier(class_weight=&#x27;balanced&#x27;, max_depth=6, n_estimators=300,\n",
       "               n_jobs=-1, random_state=42)</pre><b>In a Jupyter environment, please rerun this cell to show the HTML representation or trust the notebook. <br />On GitHub, the HTML representation is unable to render, please try loading this page with nbviewer.org.</b></div><div class=\"sk-container\" hidden><div class=\"sk-item\"><div class=\"sk-estimator sk-toggleable\"><input class=\"sk-toggleable__control sk-hidden--visually\" id=\"sk-estimator-id-3\" type=\"checkbox\" checked><label for=\"sk-estimator-id-3\" class=\"sk-toggleable__label sk-toggleable__label-arrow\">LGBMClassifier</label><div class=\"sk-toggleable__content\"><pre>LGBMClassifier(class_weight=&#x27;balanced&#x27;, max_depth=6, n_estimators=300,\n",
       "               n_jobs=-1, random_state=42)</pre></div></div></div></div></div>"
      ],
      "text/plain": [
       "LGBMClassifier(class_weight='balanced', max_depth=6, n_estimators=300,\n",
       "               n_jobs=-1, random_state=42)"
      ]
     },
     "execution_count": 66,
     "metadata": {},
     "output_type": "execute_result"
    }
   ],
   "source": [
    "lgbmModel.fit(X_train, y_train)"
   ]
  },
  {
   "cell_type": "code",
   "execution_count": 67,
   "metadata": {},
   "outputs": [
    {
     "name": "stdout",
     "output_type": "stream",
     "text": [
      "[LightGBM] [Warning] Accuracy may be bad since you didn't explicitly set num_leaves OR 2^max_depth > num_leaves. (num_leaves=31).\n",
      "[LightGBM] [Warning] Accuracy may be bad since you didn't explicitly set num_leaves OR 2^max_depth > num_leaves. (num_leaves=31).\n"
     ]
    }
   ],
   "source": [
    "evalLgbm = lgbmModel.predict(X_test)\n",
    "evalLgbmProb = lgbmModel.predict_proba(X_test)[:,1] # get the probability of the positive class"
   ]
  },
  {
   "cell_type": "code",
   "execution_count": 68,
   "metadata": {},
   "outputs": [
    {
     "name": "stdout",
     "output_type": "stream",
     "text": [
      "              precision    recall  f1-score   support\n",
      "\n",
      "           0       0.69      0.66      0.68      8837\n",
      "           1       0.68      0.70      0.69      8836\n",
      "\n",
      "    accuracy                           0.68     17673\n",
      "   macro avg       0.68      0.68      0.68     17673\n",
      "weighted avg       0.68      0.68      0.68     17673\n",
      "\n"
     ]
    }
   ],
   "source": [
    "reportClassificationLgbm = classification_report(y_test, evalLgbm)\n",
    "print(reportClassificationLgbm)"
   ]
  },
  {
   "cell_type": "code",
   "execution_count": 69,
   "metadata": {},
   "outputs": [
    {
     "data": {
      "text/plain": [
       "0.7463127402773218"
      ]
     },
     "execution_count": 69,
     "metadata": {},
     "output_type": "execute_result"
    }
   ],
   "source": [
    "lgbm_auc = roc_auc_score(y_test, evalLgbmProb)\n",
    "lgbm_auc"
   ]
  },
  {
   "cell_type": "code",
   "execution_count": 70,
   "metadata": {},
   "outputs": [],
   "source": [
    "lgbm_fpr, lgbm_tpr, lgbm_th = roc_curve(y_test, evalLgbmProb)"
   ]
  },
  {
   "cell_type": "code",
   "execution_count": 71,
   "metadata": {},
   "outputs": [
    {
     "data": {
      "image/png": "[encoded data removed]",
      "text/plain": [
       "<Figure size 600x400 with 1 Axes>"
      ]
     },
     "metadata": {},
     "output_type": "display_data"
    }
   ],
   "source": [
    "plt.figure(figsize=(6, 4))\n",
    "plt.plot(lgbm_fpr, lgbm_tpr, label='ROC curve (area = %0.2f)' % lgbm_auc)\n",
    "plt.plot([0, 1], [0, 1], 'k--', label='No Skill')\n",
    "plt.xlim([0.0, 1.0])\n",
    "plt.ylim([0.0, 1.05])\n",
    "plt.xlabel('False Positive Rate')\n",
    "plt.ylabel('True Positive Rate')\n",
    "plt.title('ROC Curve for LightGBM  Classification')\n",
    "plt.legend()\n",
    "plt.show()"
   ]
  },
  {
   "cell_type": "markdown",
   "metadata": {},
   "source": [
    "## Deep learning"
   ]
  },
  {
   "cell_type": "code",
   "execution_count": 72,
   "metadata": {},
   "outputs": [],
   "source": [
    "import torch\n",
    "import torch.nn as nn\n",
    "import torch.utils.data \n",
    "import torch.nn.functional as F"
   ]
  },
  {
   "cell_type": "code",
   "execution_count": 73,
   "metadata": {},
   "outputs": [
    {
     "data": {
      "text/plain": [
       "device(type='cuda')"
      ]
     },
     "execution_count": 73,
     "metadata": {},
     "output_type": "execute_result"
    }
   ],
   "source": [
    "device = torch.device(\"cuda\" if torch.cuda.is_available() else \"cpu\")\n",
    "device"
   ]
  },
  {
   "cell_type": "code",
   "execution_count": 74,
   "metadata": {},
   "outputs": [],
   "source": [
    "class MLPClassifier(nn.Module): # Multiple Layer Perceptron\n",
    "    def __init__(self, input_size, output_size= 1):\n",
    "        super(MLPClassifier, self).__init__()\n",
    "        self.fc1 = nn.Linear(input_size, 64)\n",
    "        \n",
    "        self.fc2 = nn.Linear(64, 64)\n",
    "        self.fc3 = nn.Linear(64, 32)\n",
    "        self.fc4 = nn.Linear(32, 32)\n",
    "        self.out = nn.Linear(32, output_size)\n",
    "        \n",
    "        # ReLU activation function\n",
    "        self.relu = nn.ReLU()\n",
    "\n",
    "        # Dropout with 0.2 probability\n",
    "        self.dropout = nn.Dropout(0.2)\n",
    "\n",
    "\n",
    "    def forward(self, x):\n",
    "        # layer 1 and layer 2\n",
    "        out = self.fc1(x)\n",
    "        out = self.relu(out)\n",
    "        out = self.fc2(out)\n",
    "        out = self.relu(out)\n",
    "        # add dropout layer\n",
    "        out = self.dropout(out)\n",
    "\n",
    "        # layer 3 and layer 4\n",
    "        out = self.fc3(out)\n",
    "        out = self.relu(out)\n",
    "        out = self.fc4(out)\n",
    "        out = self.relu(out)    \n",
    "\n",
    "        # output layer\n",
    "        out  = self.out(out)\n",
    "        out =  nn.Sigmoid()(out) # for binary classification\n",
    "        # out = nn.Softmax(dim=1)# for multiply classes\n",
    "\n",
    "        return  out "
   ]
  },
  {
   "cell_type": "code",
   "execution_count": 75,
   "metadata": {},
   "outputs": [
    {
     "data": {
      "text/plain": [
       "33"
      ]
     },
     "execution_count": 75,
     "metadata": {},
     "output_type": "execute_result"
    }
   ],
   "source": [
    "X_train.shape[1]"
   ]
  },
  {
   "cell_type": "code",
   "execution_count": 76,
   "metadata": {},
   "outputs": [
    {
     "data": {
      "text/plain": [
       "pandas.core.frame.DataFrame"
      ]
     },
     "execution_count": 76,
     "metadata": {},
     "output_type": "execute_result"
    }
   ],
   "source": [
    "type(X_train)"
   ]
  },
  {
   "cell_type": "code",
   "execution_count": 77,
   "metadata": {},
   "outputs": [
    {
     "data": {
      "text/plain": [
       "MLPClassifier(\n",
       "  (fc1): Linear(in_features=33, out_features=64, bias=True)\n",
       "  (fc2): Linear(in_features=64, out_features=64, bias=True)\n",
       "  (fc3): Linear(in_features=64, out_features=32, bias=True)\n",
       "  (fc4): Linear(in_features=32, out_features=32, bias=True)\n",
       "  (out): Linear(in_features=32, out_features=1, bias=True)\n",
       "  (relu): ReLU()\n",
       "  (dropout): Dropout(p=0.2, inplace=False)\n",
       ")"
      ]
     },
     "execution_count": 77,
     "metadata": {},
     "output_type": "execute_result"
    }
   ],
   "source": [
    "mlp = MLPClassifier(input_size=X_train.shape[1], output_size=1).to(device)\n",
    "mlp.to(device)"
   ]
  },
  {
   "cell_type": "markdown",
   "metadata": {},
   "source": [
    "## Create tensors for our train and test set. \n",
    "As you remember we need variable to accumulate gradients. \n",
    "Therefore first we create tensor, then we will create variable '''"
   ]
  },
  {
   "cell_type": "code",
   "execution_count": 78,
   "metadata": {},
   "outputs": [],
   "source": [
    "\n",
    "\n",
    "X_train_tensor = torch.tensor(X_train.values, dtype=torch.float32).to(device)\n",
    "X_test_tensor = torch.tensor(X_test.values, dtype=torch.float32).to(device)\n",
    "y_train_tensor = torch.tensor(y_train.values, dtype=torch.float32).view(-1,1).to(device)\n",
    "y_test_tensor = torch.tensor(y_test.values, dtype=torch.float32).view(-1,1).to(device)"
   ]
  },
  {
   "cell_type": "markdown",
   "metadata": {},
   "source": [
    "### Optimizing the Model Parameters\n",
    "===============================\n",
    "\n",
    "To train a model, we need a [loss\n",
    "function](https://pytorch.org/docs/stable/nn.html#loss-functions) and an\n",
    "[optimizer](https://pytorch.org/docs/stable/optim.html).\n"
   ]
  },
  {
   "cell_type": "code",
   "execution_count": 79,
   "metadata": {},
   "outputs": [],
   "source": [
    "optimizer = torch.optim.Adam(mlp.parameters(), lr=0.001)\n",
    "# criterion = nn.CrossEntropyLoss()\n",
    "criterion = nn.BCELoss()"
   ]
  },
  {
   "cell_type": "markdown",
   "metadata": {},
   "source": []
  },
  {
   "cell_type": "markdown",
   "metadata": {},
   "source": [
    "# Create Dataset and Data loader for pytorch"
   ]
  },
  {
   "cell_type": "code",
   "execution_count": 80,
   "metadata": {},
   "outputs": [],
   "source": [
    "from torch.utils.data import Dataset, DataLoader , TensorDataset"
   ]
  },
  {
   "cell_type": "code",
   "execution_count": 81,
   "metadata": {},
   "outputs": [],
   "source": [
    "#   Make torch datasets from train and test sets\n",
    "# train = torch.utils.data.TensorDataset(X_train,y_train)\n",
    "# test = torch.utils.data.TensorDataset(X_test,y_test)\n",
    "trainDataSet = TensorDataset(X_train_tensor, y_train_tensor)\n",
    "testDataSet = TensorDataset(X_test_tensor, y_test_tensor)"
   ]
  },
  {
   "cell_type": "code",
   "execution_count": 82,
   "metadata": {},
   "outputs": [],
   "source": [
    "# Create train and test data loaders\n",
    "\n",
    "batchSize = 32\n",
    "\n",
    "# train_loader = torch.utils.data.DataLoader(train, batch_size = 64, shuffle = True)\n",
    "# test_loader = torch.utils.data.DataLoader(test, batch_size = 64, shuffle = True)\n",
    "trainDataLoader = DataLoader(trainDataSet, batch_size=batchSize, shuffle=True)\n",
    "testDataLoader = DataLoader(testDataSet, batch_size=batchSize)"
   ]
  },
  {
   "cell_type": "code",
   "execution_count": 83,
   "metadata": {},
   "outputs": [
    {
     "name": "stdout",
     "output_type": "stream",
     "text": [
      "Shape of X [N, C, H, W]: torch.Size([32, 33])\n",
      "Shape of y: torch.Size([32, 1]) torch.float32\n"
     ]
    }
   ],
   "source": [
    "for x, y in trainDataLoader:\n",
    "    print(f\"Shape of X [N, C, H, W]: {x.shape}\")\n",
    "    print(f\"Shape of y: {y.shape} {y.dtype}\")\n",
    "    break"
   ]
  },
  {
   "cell_type": "code",
   "execution_count": 84,
   "metadata": {},
   "outputs": [
    {
     "name": "stdout",
     "output_type": "stream",
     "text": [
      "Shape of X [N, C, H, W]: torch.Size([32, 33])\n",
      "Shape of y: torch.Size([32, 1]) torch.float32\n"
     ]
    }
   ],
   "source": [
    "for x, y in testDataLoader:\n",
    "    print(f\"Shape of X [N, C, H, W]: {x.shape}\")\n",
    "    print(f\"Shape of y: {y.shape} {y.dtype}\")\n",
    "    break"
   ]
  },
  {
   "cell_type": "code",
   "execution_count": 85,
   "metadata": {},
   "outputs": [
    {
     "name": "stdout",
     "output_type": "stream",
     "text": [
      "No. of batches in trainloader : 2210\n",
      "No. of batches in validloader : 553\n"
     ]
    }
   ],
   "source": [
    "print(f\"No. of batches in trainloader : {len(trainDataLoader)}\")\n",
    "print(f\"No. of batches in validloader : {len(testDataLoader)}\")"
   ]
  },
  {
   "cell_type": "code",
   "execution_count": 86,
   "metadata": {},
   "outputs": [
    {
     "data": {
      "text/plain": [
       "torch.Size([70691, 33])"
      ]
     },
     "execution_count": 86,
     "metadata": {},
     "output_type": "execute_result"
    }
   ],
   "source": [
    "trainDataLoader.dataset.tensors[0].shape"
   ]
  },
  {
   "cell_type": "markdown",
   "metadata": {},
   "source": [
    "## Create train/Valid loop"
   ]
  },
  {
   "cell_type": "code",
   "execution_count": 87,
   "metadata": {},
   "outputs": [],
   "source": [
    "# Create some list to keep track of loss and accuracy during training\n",
    "train_losses = []\n",
    "test_acc = []\n",
    "y_predicted = []\n",
    "y_true = []\n",
    "# test_losses = []\n",
    "epochs_list = []"
   ]
  },
  {
   "cell_type": "code",
   "execution_count": 88,
   "metadata": {},
   "outputs": [],
   "source": [
    "def train(model, train_loader, criterion, optimizer):\n",
    "    model.train() # set the model to training mode calculate gradients and update weights\n",
    "    trainSize = len(train_loader)\n",
    "    # print(\"Length of Train Loader: \",trainSize)\n",
    "    running_loss = 0.0\n",
    "    avgLoss = 0.0\n",
    "    for i, data in enumerate(train_loader, 0):\n",
    "    # for i, data in tqdm(train_loader):\n",
    "        inputs, labels = data\n",
    "        inputs, labels = inputs.to(device), labels.to(device) # to GPU if available\n",
    "        optimizer.zero_grad() # reset gradients to zero\n",
    "        outputs = model(inputs)  # prediction \n",
    "        loss = criterion(outputs, labels) # calculate loss\n",
    "\n",
    "        #getting gradients\n",
    "        loss.backward()\n",
    "        optimizer.step() # update weights\n",
    "        running_loss += loss.item()   # add the loss\n",
    "        \n",
    "        if i % 500 == 499: # each 50 mini-batches print the loss\n",
    "            tempLoss = running_loss/ (i+1)\n",
    "            print(f\"Batch {i+1}, loss: {tempLoss}\")\n",
    "            # running_loss = 0.0\n",
    "    avgLoss = running_loss/ trainSize\n",
    "    print(f\"Training loss: {avgLoss}\")\n",
    "        \n",
    "    print('Finished Training')\n",
    "    return avgLoss"
   ]
  },
  {
   "cell_type": "code",
   "execution_count": 89,
   "metadata": {},
   "outputs": [],
   "source": [
    "def validate(model, test_loader):\n",
    "    model.eval() # set model to evaluation mode, no calcuate gradients\n",
    "    with torch.no_grad():\n",
    "        correct = 0\n",
    "        total = 0\n",
    "        # print(\"Length of test Loader: \", len(test_loader))\n",
    "        for i, data in enumerate(test_loader, 0):\n",
    "            inputs, labels = data\n",
    "            inputs, labels = inputs.to(device), labels.to(device) # to GPU if available\n",
    "            outputs = model(inputs) # prediction of the model\n",
    "            # _, predicted = torch.max(outputs.data, 1)  # get the predicted class\n",
    "            predicted = torch.round(outputs.data[0])\n",
    "            y_predicted.append(predicted.data.cpu().numpy()) # add list of predict for validation\n",
    "            y_true.append(labels[0].data.cpu().numpy()) # add list of true labels for validation\n",
    "            # print(\"Predicted  Result: \", predicted)\n",
    "            total += labels.size(0) # total number of labels\n",
    "            # total  += len(labels) # total number of labels\n",
    "            correct += (predicted == labels).sum() # add correct predictions \n",
    "            # print(\"labels size: \", labels.size(0))\n",
    "            # print(\"Total: \", total, \" Correct: \", correct)\n",
    "            if i % 500 == 499:\n",
    "                print(\"Total: \", total, \" Correct: \", correct)\n",
    "                print(f'Batch {i+1}, Accuracy: {100 * correct / total}')\n",
    "            # print(f'Batch {i+1}, Accuracy: {100 * correct / total}')\n",
    "        # print(f'Accuracy: {100 * correct / total}')\n",
    "        acc = 100 * (correct / total).item() # calulate accuracy\n",
    "    return acc"
   ]
  },
  {
   "cell_type": "code",
   "execution_count": 90,
   "metadata": {},
   "outputs": [
    {
     "name": "stderr",
     "output_type": "stream",
     "text": [
      "  0%|          | 0/20 [00:00<?, ?it/s]"
     ]
    },
    {
     "name": "stdout",
     "output_type": "stream",
     "text": [
      "Epoch 1\n",
      "-------------------------------\n",
      "Batch 500, loss: 0.6444593051671982\n",
      "Batch 1000, loss: 0.6241445885002613\n",
      "Batch 1500, loss: 0.6177525495092074\n",
      "Batch 2000, loss: 0.613055008366704\n",
      "Training loss: 0.6121574758134816\n",
      "Finished Training\n"
     ]
    },
    {
     "name": "stderr",
     "output_type": "stream",
     "text": [
      "  5%|▌         | 1/20 [00:01<00:30,  1.61s/it]"
     ]
    },
    {
     "name": "stdout",
     "output_type": "stream",
     "text": [
      "Total:  16000  Correct:  tensor(8053, device='cuda:0')\n",
      "Batch 500, Accuracy: 50.33125305175781\n",
      "Epoch 2\n",
      "-------------------------------\n",
      "Batch 500, loss: 0.6011042946577072\n",
      "Batch 1000, loss: 0.5987926816046238\n",
      "Batch 1500, loss: 0.5992376637061437\n",
      "Batch 2000, loss: 0.5988272910863162\n",
      "Training loss: 0.5985350738148884\n",
      "Finished Training\n"
     ]
    },
    {
     "name": "stderr",
     "output_type": "stream",
     "text": [
      " 10%|█         | 2/20 [00:03<00:28,  1.60s/it]"
     ]
    },
    {
     "name": "stdout",
     "output_type": "stream",
     "text": [
      "Total:  16000  Correct:  tensor(7985, device='cuda:0')\n",
      "Batch 500, Accuracy: 49.906253814697266\n",
      "Epoch 3\n",
      "-------------------------------\n",
      "Batch 500, loss: 0.5979283856749534\n",
      "Batch 1000, loss: 0.5975136299431324\n",
      "Batch 1500, loss: 0.5986038324435552\n",
      "Batch 2000, loss: 0.5971243099868297\n",
      "Training loss: 0.5970886873376315\n",
      "Finished Training\n"
     ]
    },
    {
     "name": "stderr",
     "output_type": "stream",
     "text": [
      " 15%|█▌        | 3/20 [00:04<00:26,  1.57s/it]"
     ]
    },
    {
     "name": "stdout",
     "output_type": "stream",
     "text": [
      "Total:  16000  Correct:  tensor(8023, device='cuda:0')\n",
      "Batch 500, Accuracy: 50.14375305175781\n",
      "Epoch 4\n",
      "-------------------------------\n",
      "Batch 500, loss: 0.6002026990652084\n",
      "Batch 1000, loss: 0.5968617633581161\n",
      "Batch 1500, loss: 0.5968663161595662\n",
      "Batch 2000, loss: 0.5963173836767673\n",
      "Training loss: 0.5966462186558754\n",
      "Finished Training\n"
     ]
    },
    {
     "name": "stderr",
     "output_type": "stream",
     "text": [
      " 20%|██        | 4/20 [00:06<00:24,  1.54s/it]"
     ]
    },
    {
     "name": "stdout",
     "output_type": "stream",
     "text": [
      "Total:  16000  Correct:  tensor(8075, device='cuda:0')\n",
      "Batch 500, Accuracy: 50.468753814697266\n",
      "Epoch 5\n",
      "-------------------------------\n",
      "Batch 500, loss: 0.5918212922811508\n",
      "Batch 1000, loss: 0.5931695275604725\n",
      "Batch 1500, loss: 0.5959028096000354\n",
      "Batch 2000, loss: 0.5954825653582811\n",
      "Training loss: 0.5953378912685144\n",
      "Finished Training\n"
     ]
    },
    {
     "name": "stderr",
     "output_type": "stream",
     "text": [
      " 25%|██▌       | 5/20 [00:07<00:23,  1.56s/it]"
     ]
    },
    {
     "name": "stdout",
     "output_type": "stream",
     "text": [
      "Total:  16000  Correct:  tensor(8111, device='cuda:0')\n",
      "Batch 500, Accuracy: 50.69375228881836\n",
      "Epoch 6\n",
      "-------------------------------\n",
      "Batch 500, loss: 0.5959014712572098\n",
      "Batch 1000, loss: 0.5964602429866791\n",
      "Batch 1500, loss: 0.5965948572357496\n",
      "Batch 2000, loss: 0.5949118440449238\n",
      "Training loss: 0.5951688109479878\n",
      "Finished Training\n"
     ]
    },
    {
     "name": "stderr",
     "output_type": "stream",
     "text": [
      " 30%|███       | 6/20 [00:09<00:22,  1.64s/it]"
     ]
    },
    {
     "name": "stdout",
     "output_type": "stream",
     "text": [
      "Total:  16000  Correct:  tensor(8079, device='cuda:0')\n",
      "Batch 500, Accuracy: 50.493751525878906\n",
      "Epoch 7\n",
      "-------------------------------\n",
      "Batch 500, loss: 0.5851222065091133\n",
      "Batch 1000, loss: 0.591149443089962\n",
      "Batch 1500, loss: 0.5936235859791438\n",
      "Batch 2000, loss: 0.5933703399598599\n",
      "Training loss: 0.5942102384108764\n",
      "Finished Training\n"
     ]
    },
    {
     "name": "stderr",
     "output_type": "stream",
     "text": [
      " 35%|███▌      | 7/20 [00:11<00:21,  1.64s/it]"
     ]
    },
    {
     "name": "stdout",
     "output_type": "stream",
     "text": [
      "Total:  16000  Correct:  tensor(8071, device='cuda:0')\n",
      "Batch 500, Accuracy: 50.44375228881836\n",
      "Epoch 8\n",
      "-------------------------------\n",
      "Batch 500, loss: 0.5877835711240769\n",
      "Batch 1000, loss: 0.5917113311886787\n",
      "Batch 1500, loss: 0.5941420711080233\n",
      "Batch 2000, loss: 0.59378206756711\n",
      "Training loss: 0.5934020449268332\n",
      "Finished Training\n"
     ]
    },
    {
     "name": "stderr",
     "output_type": "stream",
     "text": [
      " 40%|████      | 8/20 [00:12<00:19,  1.63s/it]"
     ]
    },
    {
     "name": "stdout",
     "output_type": "stream",
     "text": [
      "Total:  16000  Correct:  tensor(8079, device='cuda:0')\n",
      "Batch 500, Accuracy: 50.493751525878906\n",
      "Epoch 9\n",
      "-------------------------------\n",
      "Batch 500, loss: 0.5919870836138725\n",
      "Batch 1000, loss: 0.5931383788585662\n",
      "Batch 1500, loss: 0.5925721935232481\n",
      "Batch 2000, loss: 0.5928987579941749\n",
      "Training loss: 0.5926884107055708\n",
      "Finished Training\n"
     ]
    },
    {
     "name": "stderr",
     "output_type": "stream",
     "text": [
      " 45%|████▌     | 9/20 [00:14<00:18,  1.64s/it]"
     ]
    },
    {
     "name": "stdout",
     "output_type": "stream",
     "text": [
      "Total:  16000  Correct:  tensor(8067, device='cuda:0')\n",
      "Batch 500, Accuracy: 50.41875076293945\n",
      "Epoch 10\n",
      "-------------------------------\n",
      "Batch 500, loss: 0.5920677190423012\n",
      "Batch 1000, loss: 0.592569535523653\n",
      "Batch 1500, loss: 0.5918537796139717\n",
      "Batch 2000, loss: 0.5924119225591421\n",
      "Training loss: 0.5922699391167627\n",
      "Finished Training\n"
     ]
    },
    {
     "name": "stderr",
     "output_type": "stream",
     "text": [
      " 50%|█████     | 10/20 [00:16<00:16,  1.64s/it]"
     ]
    },
    {
     "name": "stdout",
     "output_type": "stream",
     "text": [
      "Total:  16000  Correct:  tensor(8101, device='cuda:0')\n",
      "Batch 500, Accuracy: 50.63125228881836\n",
      "Epoch 11\n",
      "-------------------------------\n",
      "Batch 500, loss: 0.5885468807220459\n",
      "Batch 1000, loss: 0.5904908609092235\n",
      "Batch 1500, loss: 0.5912300664782524\n",
      "Batch 2000, loss: 0.5920349511802196\n",
      "Training loss: 0.5920408444302114\n",
      "Finished Training\n"
     ]
    },
    {
     "name": "stderr",
     "output_type": "stream",
     "text": [
      " 55%|█████▌    | 11/20 [00:17<00:14,  1.62s/it]"
     ]
    },
    {
     "name": "stdout",
     "output_type": "stream",
     "text": [
      "Total:  16000  Correct:  tensor(8133, device='cuda:0')\n",
      "Batch 500, Accuracy: 50.83125305175781\n",
      "Epoch 12\n",
      "-------------------------------\n",
      "Batch 500, loss: 0.5886973899006843\n",
      "Batch 1000, loss: 0.5898656405806542\n",
      "Batch 1500, loss: 0.5910998265941938\n",
      "Batch 2000, loss: 0.5905878141373396\n",
      "Training loss: 0.5911139431986874\n",
      "Finished Training\n"
     ]
    },
    {
     "name": "stderr",
     "output_type": "stream",
     "text": [
      " 60%|██████    | 12/20 [00:19<00:13,  1.63s/it]"
     ]
    },
    {
     "name": "stdout",
     "output_type": "stream",
     "text": [
      "Total:  16000  Correct:  tensor(8085, device='cuda:0')\n",
      "Batch 500, Accuracy: 50.531253814697266\n",
      "Epoch 13\n",
      "-------------------------------\n",
      "Batch 500, loss: 0.5856991110444069\n",
      "Batch 1000, loss: 0.5859528475403786\n",
      "Batch 1500, loss: 0.5888871108690897\n",
      "Batch 2000, loss: 0.590116725474596\n",
      "Training loss: 0.5899766945731046\n",
      "Finished Training\n"
     ]
    },
    {
     "name": "stderr",
     "output_type": "stream",
     "text": [
      " 65%|██████▌   | 13/20 [00:21<00:11,  1.63s/it]"
     ]
    },
    {
     "name": "stdout",
     "output_type": "stream",
     "text": [
      "Total:  16000  Correct:  tensor(8129, device='cuda:0')\n",
      "Batch 500, Accuracy: 50.806251525878906\n",
      "Epoch 14\n",
      "-------------------------------\n",
      "Batch 500, loss: 0.5880598037838936\n",
      "Batch 1000, loss: 0.5875681533515453\n",
      "Batch 1500, loss: 0.5885109033385912\n",
      "Batch 2000, loss: 0.5890793721675873\n",
      "Training loss: 0.5900119516239987\n",
      "Finished Training\n"
     ]
    },
    {
     "name": "stderr",
     "output_type": "stream",
     "text": [
      " 70%|███████   | 14/20 [00:22<00:09,  1.64s/it]"
     ]
    },
    {
     "name": "stdout",
     "output_type": "stream",
     "text": [
      "Total:  16000  Correct:  tensor(8087, device='cuda:0')\n",
      "Batch 500, Accuracy: 50.54375076293945\n",
      "Epoch 15\n",
      "-------------------------------\n",
      "Batch 500, loss: 0.5884471201300621\n",
      "Batch 1000, loss: 0.5872728008031846\n",
      "Batch 1500, loss: 0.5875125547647476\n",
      "Batch 2000, loss: 0.5887574945688248\n",
      "Training loss: 0.5894371016397735\n",
      "Finished Training\n"
     ]
    },
    {
     "name": "stderr",
     "output_type": "stream",
     "text": [
      " 75%|███████▌  | 15/20 [00:24<00:08,  1.63s/it]"
     ]
    },
    {
     "name": "stdout",
     "output_type": "stream",
     "text": [
      "Total:  16000  Correct:  tensor(8091, device='cuda:0')\n",
      "Batch 500, Accuracy: 50.56875228881836\n",
      "Epoch 16\n",
      "-------------------------------\n",
      "Batch 500, loss: 0.5824223284721375\n",
      "Batch 1000, loss: 0.586851443618536\n",
      "Batch 1500, loss: 0.5878012000719707\n",
      "Batch 2000, loss: 0.5880843205451965\n",
      "Training loss: 0.5881421436686322\n",
      "Finished Training\n"
     ]
    },
    {
     "name": "stderr",
     "output_type": "stream",
     "text": [
      " 80%|████████  | 16/20 [00:25<00:06,  1.61s/it]"
     ]
    },
    {
     "name": "stdout",
     "output_type": "stream",
     "text": [
      "Total:  16000  Correct:  tensor(8127, device='cuda:0')\n",
      "Batch 500, Accuracy: 50.79375076293945\n",
      "Epoch 17\n",
      "-------------------------------\n",
      "Batch 500, loss: 0.5868288985490799\n",
      "Batch 1000, loss: 0.5886521182060241\n",
      "Batch 1500, loss: 0.5898366784254709\n",
      "Batch 2000, loss: 0.5878173363208771\n",
      "Training loss: 0.5875421218338056\n",
      "Finished Training\n"
     ]
    },
    {
     "name": "stderr",
     "output_type": "stream",
     "text": [
      " 85%|████████▌ | 17/20 [00:27<00:04,  1.59s/it]"
     ]
    },
    {
     "name": "stdout",
     "output_type": "stream",
     "text": [
      "Total:  16000  Correct:  tensor(8117, device='cuda:0')\n",
      "Batch 500, Accuracy: 50.73125076293945\n",
      "Epoch 18\n",
      "-------------------------------\n",
      "Batch 500, loss: 0.5891309527158737\n",
      "Batch 1000, loss: 0.5904743082523346\n",
      "Batch 1500, loss: 0.5899602773388227\n",
      "Batch 2000, loss: 0.5875439270585775\n",
      "Training loss: 0.5870311323603893\n",
      "Finished Training\n"
     ]
    },
    {
     "name": "stderr",
     "output_type": "stream",
     "text": [
      " 90%|█████████ | 18/20 [00:28<00:03,  1.59s/it]"
     ]
    },
    {
     "name": "stdout",
     "output_type": "stream",
     "text": [
      "Total:  16000  Correct:  tensor(8059, device='cuda:0')\n",
      "Batch 500, Accuracy: 50.368751525878906\n",
      "Epoch 19\n",
      "-------------------------------\n",
      "Batch 500, loss: 0.5879736818671226\n",
      "Batch 1000, loss: 0.587192956238985\n",
      "Batch 1500, loss: 0.5857777720093728\n",
      "Batch 2000, loss: 0.58697541898489\n",
      "Training loss: 0.5869507630755998\n",
      "Finished Training\n"
     ]
    },
    {
     "name": "stderr",
     "output_type": "stream",
     "text": [
      " 95%|█████████▌| 19/20 [00:30<00:01,  1.62s/it]"
     ]
    },
    {
     "name": "stdout",
     "output_type": "stream",
     "text": [
      "Total:  16000  Correct:  tensor(8079, device='cuda:0')\n",
      "Batch 500, Accuracy: 50.493751525878906\n",
      "Epoch 20\n",
      "-------------------------------\n",
      "Batch 500, loss: 0.5835994929075241\n",
      "Batch 1000, loss: 0.5831057963371277\n",
      "Batch 1500, loss: 0.5844839237531027\n",
      "Batch 2000, loss: 0.5860444119721651\n",
      "Training loss: 0.586463978805693\n",
      "Finished Training\n"
     ]
    },
    {
     "name": "stderr",
     "output_type": "stream",
     "text": [
      "100%|██████████| 20/20 [00:32<00:00,  1.61s/it]"
     ]
    },
    {
     "name": "stdout",
     "output_type": "stream",
     "text": [
      "Total:  16000  Correct:  tensor(8051, device='cuda:0')\n",
      "Batch 500, Accuracy: 50.31875228881836\n"
     ]
    },
    {
     "name": "stderr",
     "output_type": "stream",
     "text": [
      "\n"
     ]
    }
   ],
   "source": [
    "# Define epochs (between 20-50)\n",
    "epochs = 20 #1000\n",
    "\n",
    "# for epoch in range(epochs):\n",
    "for epoch in tqdm(range(epochs)):\n",
    "    print(f\"Epoch {epoch+1}\\n-------------------------------\")\n",
    "    trainLoss = train(mlp, trainDataLoader, criterion, optimizer)\n",
    "    train_losses.append(trainLoss) # add the accuracy to the list\n",
    "    testAcc= validate(mlp, testDataLoader)\n",
    "    test_acc.append(testAcc)\n",
    "    epochs_list.append(epoch+1) # add the epoch to the list\n"
   ]
  },
  {
   "cell_type": "markdown",
   "metadata": {},
   "source": [
    "## Plot training and validation Results"
   ]
  },
  {
   "cell_type": "code",
   "execution_count": 91,
   "metadata": {},
   "outputs": [
    {
     "data": {
      "image/png": "[encoded data removed]",
      "text/plain": [
       "<Figure size 600x400 with 1 Axes>"
      ]
     },
     "metadata": {},
     "output_type": "display_data"
    }
   ],
   "source": [
    "plt.figure(figsize=(6, 4))\n",
    "plt.plot(epochs_list, train_losses, label='Training loss')\n",
    "plt.title('Training loss')\n",
    "plt.xlabel('Epochs')\n",
    "plt.ylabel('Loss')\n",
    "plt.show()"
   ]
  },
  {
   "cell_type": "code",
   "execution_count": 92,
   "metadata": {},
   "outputs": [
    {
     "data": {
      "image/png": "[encoded data removed]",
      "text/plain": [
       "<Figure size 600x400 with 1 Axes>"
      ]
     },
     "metadata": {},
     "output_type": "display_data"
    }
   ],
   "source": [
    "plt.figure(figsize=(6, 4))\n",
    "plt.plot(epochs_list, test_acc, label='Validation Accuracy')\n",
    "plt.title('Validation Accuracy')\n",
    "plt.xlabel('Epochs')\n",
    "plt.ylabel('Accuracy')\n",
    "plt.show();"
   ]
  },
  {
   "cell_type": "markdown",
   "metadata": {},
   "source": [
    "#  MLP classification report"
   ]
  },
  {
   "cell_type": "code",
   "execution_count": 93,
   "metadata": {},
   "outputs": [
    {
     "name": "stdout",
     "output_type": "stream",
     "text": [
      "              precision    recall  f1-score   support\n",
      "\n",
      "         0.0       0.62      0.70      0.66      4400\n",
      "         1.0       0.79      0.71      0.75      6660\n",
      "\n",
      "    accuracy                           0.71     11060\n",
      "   macro avg       0.70      0.71      0.70     11060\n",
      "weighted avg       0.72      0.71      0.71     11060\n",
      "\n"
     ]
    }
   ],
   "source": [
    "\n",
    "reportClassificationMLP = classification_report(y_true, y_predicted)\n",
    "print(reportClassificationMLP)"
   ]
  },
  {
   "cell_type": "code",
   "execution_count": 94,
   "metadata": {},
   "outputs": [
    {
     "data": {
      "text/plain": [
       "0.7086175948675949"
      ]
     },
     "execution_count": 94,
     "metadata": {},
     "output_type": "execute_result"
    }
   ],
   "source": [
    "mlp_auc = roc_auc_score(y_true, y_predicted)\n",
    "mlp_auc"
   ]
  },
  {
   "cell_type": "code",
   "execution_count": 95,
   "metadata": {},
   "outputs": [],
   "source": [
    "mlp_fpr, mlp_tpr, mlp_th = roc_curve(y_true, y_predicted)\n"
   ]
  },
  {
   "cell_type": "code",
   "execution_count": 96,
   "metadata": {},
   "outputs": [
    {
     "data": {
      "image/png": "[encoded data removed]",
      "text/plain": [
       "<Figure size 600x400 with 1 Axes>"
      ]
     },
     "metadata": {},
     "output_type": "display_data"
    }
   ],
   "source": [
    "plt.figure(figsize=(6, 4))\n",
    "plt.plot(mlp_fpr, mlp_tpr, label='ROC curve (area = %0.2f)' % mlp_auc)\n",
    "plt.plot([0, 1], [0, 1], 'k--', label='No Skill')\n",
    "plt.xlim([0.0, 1.0])\n",
    "plt.ylim([0.0, 1.05])\n",
    "plt.xlabel('False Positive Rate')\n",
    "plt.ylabel('True Positive Rate')\n",
    "plt.title('ROC Curve for MLP  Classification')\n",
    "plt.legend()\n",
    "plt.show()"
   ]
  },
  {
   "cell_type": "markdown",
   "metadata": {},
   "source": [
    "## Select best model for generate test results"
   ]
  },
  {
   "cell_type": "code",
   "execution_count": 97,
   "metadata": {},
   "outputs": [
    {
     "name": "stdout",
     "output_type": "stream",
     "text": [
      "[LightGBM] [Warning] Accuracy may be bad since you didn't explicitly set num_leaves OR 2^max_depth > num_leaves. (num_leaves=31).\n"
     ]
    }
   ],
   "source": [
    "### PLEASE CHANGE THIS CODE TO IMPLEMENT YOUR OWN PREDICTIONS\n",
    "\n",
    "# Use our dummy classifier to make predictions on test_df using `predict_proba` method:\n",
    "# predicted_probability = dummy_clf.predict_proba(test_df.drop(['CustomerID'], axis=1))[:, 1]\n",
    "predicted_probability = lgbmModel.predict_proba(test_df.drop([\"CustomerID\"], axis=1))[:,1] # get the probability of the positive class\n"
   ]
  },
  {
   "cell_type": "code",
   "execution_count": 98,
   "metadata": {},
   "outputs": [],
   "source": [
    "### PLEASE CHANGE THIS CODE TO IMPLEMENT YOUR OWN PREDICTIONS\n",
    "\n",
    "# Combine predictions with label column into a dataframe\n",
    "prediction_df = pd.DataFrame({'CustomerID': test_df[['CustomerID']].values[:, 0],\n",
    "                             'predicted_probability': predicted_probability})"
   ]
  },
  {
   "cell_type": "code",
   "execution_count": 99,
   "metadata": {},
   "outputs": [
    {
     "name": "stdout",
     "output_type": "stream",
     "text": [
      "(104480, 2)\n"
     ]
    },
    {
     "data": {
      "text/html": [
       "<div>\n",
       "<style scoped>\n",
       "    .dataframe tbody tr th:only-of-type {\n",
       "        vertical-align: middle;\n",
       "    }\n",
       "\n",
       "    .dataframe tbody tr th {\n",
       "        vertical-align: top;\n",
       "    }\n",
       "\n",
       "    .dataframe thead th {\n",
       "        text-align: right;\n",
       "    }\n",
       "</style>\n",
       "<table border=\"1\" class=\"dataframe\">\n",
       "  <thead>\n",
       "    <tr style=\"text-align: right;\">\n",
       "      <th></th>\n",
       "      <th>CustomerID</th>\n",
       "      <th>predicted_probability</th>\n",
       "    </tr>\n",
       "  </thead>\n",
       "  <tbody>\n",
       "    <tr>\n",
       "      <th>0</th>\n",
       "      <td>O1W6BHP6RM</td>\n",
       "      <td>0.391903</td>\n",
       "    </tr>\n",
       "    <tr>\n",
       "      <th>1</th>\n",
       "      <td>LFR4X92X8H</td>\n",
       "      <td>0.160941</td>\n",
       "    </tr>\n",
       "    <tr>\n",
       "      <th>2</th>\n",
       "      <td>QM5GBIYODA</td>\n",
       "      <td>0.663871</td>\n",
       "    </tr>\n",
       "    <tr>\n",
       "      <th>3</th>\n",
       "      <td>D9RXTK2K9F</td>\n",
       "      <td>0.058180</td>\n",
       "    </tr>\n",
       "    <tr>\n",
       "      <th>4</th>\n",
       "      <td>ENTCCHR1LR</td>\n",
       "      <td>0.460863</td>\n",
       "    </tr>\n",
       "    <tr>\n",
       "      <th>5</th>\n",
       "      <td>7A88BB5IO6</td>\n",
       "      <td>0.680177</td>\n",
       "    </tr>\n",
       "    <tr>\n",
       "      <th>6</th>\n",
       "      <td>70OMW9XEWR</td>\n",
       "      <td>0.306901</td>\n",
       "    </tr>\n",
       "    <tr>\n",
       "      <th>7</th>\n",
       "      <td>EL1RMFMPYL</td>\n",
       "      <td>0.629730</td>\n",
       "    </tr>\n",
       "    <tr>\n",
       "      <th>8</th>\n",
       "      <td>4IA2QPT6ZK</td>\n",
       "      <td>0.501073</td>\n",
       "    </tr>\n",
       "    <tr>\n",
       "      <th>9</th>\n",
       "      <td>AEDCWHSJDN</td>\n",
       "      <td>0.545333</td>\n",
       "    </tr>\n",
       "  </tbody>\n",
       "</table>\n",
       "</div>"
      ],
      "text/plain": [
       "   CustomerID  predicted_probability\n",
       "0  O1W6BHP6RM               0.391903\n",
       "1  LFR4X92X8H               0.160941\n",
       "2  QM5GBIYODA               0.663871\n",
       "3  D9RXTK2K9F               0.058180\n",
       "4  ENTCCHR1LR               0.460863\n",
       "5  7A88BB5IO6               0.680177\n",
       "6  70OMW9XEWR               0.306901\n",
       "7  EL1RMFMPYL               0.629730\n",
       "8  4IA2QPT6ZK               0.501073\n",
       "9  AEDCWHSJDN               0.545333"
      ]
     },
     "execution_count": 99,
     "metadata": {},
     "output_type": "execute_result"
    }
   ],
   "source": [
    "### PLEASE CHANGE THIS CODE TO IMPLEMENT YOUR OWN PREDICTIONS\n",
    "\n",
    "# View our 'prediction_df' dataframe as required for submission.\n",
    "# Ensure it should contain 104,480 rows and 2 columns 'CustomerID' and 'predicted_probaility'\n",
    "print(prediction_df.shape)\n",
    "prediction_df.head(10)"
   ]
  },
  {
   "cell_type": "markdown",
   "metadata": {},
   "source": [
    "**PLEASE CHANGE CODE ABOVE TO IMPLEMENT YOUR OWN PREDICTIONS**"
   ]
  },
  {
   "cell_type": "markdown",
   "metadata": {},
   "source": [
    "## Final Tests - **IMPORTANT** - the cells below must be run prior to submission\n",
    "\n",
    "Below are some tests to ensure your submission is in the correct format for autograding. The autograding process accepts a csv `prediction_submission.csv` which we will generate from our `prediction_df` below. Please run the tests below an ensure no assertion errors are thrown."
   ]
  },
  {
   "cell_type": "code",
   "execution_count": 100,
   "metadata": {},
   "outputs": [],
   "source": [
    "# FINAL TEST CELLS - please make sure all of your code is above these test cells\n",
    "\n",
    "# Writing to csv for autograding purposes\n",
    "prediction_df.to_csv(\"prediction_submission.csv\", index=False)\n",
    "submission = pd.read_csv(\"prediction_submission.csv\")\n",
    "\n",
    "assert isinstance(submission, pd.DataFrame), 'You should have a dataframe named prediction_df.'"
   ]
  },
  {
   "cell_type": "code",
   "execution_count": 101,
   "metadata": {},
   "outputs": [],
   "source": [
    "# FINAL TEST CELLS - please make sure all of your code is above these test cells\n",
    "\n",
    "assert submission.columns[0] == 'CustomerID', 'The first column name should be CustomerID.'\n",
    "assert submission.columns[1] == 'predicted_probability', 'The second column name should be predicted_probability.'"
   ]
  },
  {
   "cell_type": "code",
   "execution_count": 102,
   "metadata": {},
   "outputs": [],
   "source": [
    "# FINAL TEST CELLS - please make sure all of your code is above these test cells\n",
    "\n",
    "assert submission.shape[0] == 104480, 'The dataframe prediction_df should have 104480 rows.'"
   ]
  },
  {
   "cell_type": "code",
   "execution_count": 103,
   "metadata": {},
   "outputs": [],
   "source": [
    "# FINAL TEST CELLS - please make sure all of your code is above these test cells\n",
    "\n",
    "assert submission.shape[1] == 2, 'The dataframe prediction_df should have 2 columns.'"
   ]
  },
  {
   "cell_type": "code",
   "execution_count": 104,
   "metadata": {},
   "outputs": [],
   "source": [
    "# FINAL TEST CELLS - please make sure all of your code is above these test cells\n",
    "\n",
    "## This cell calculates the auc score and is hidden. Submit Assignment to see AUC score."
   ]
  },
  {
   "cell_type": "markdown",
   "metadata": {},
   "source": [
    "## SUBMIT YOUR WORK!\n",
    "\n",
    "Once we are happy with our `prediction_df` and `prediction_submission.csv` we can now submit for autograding! Submit by using the blue **Submit Assignment** at the top of your notebook. Don't worry if your initial submission isn't perfect as you have multiple submission attempts and will obtain some feedback after each submission!"
   ]
  },
  {
   "cell_type": "markdown",
   "metadata": {},
   "source": []
  },
  {
   "cell_type": "markdown",
   "metadata": {},
   "source": []
  }
 ],
 "metadata": {
  "kernelspec": {
   "display_name": "Python 3",
   "language": "python",
   "name": "python3"
  },
  "language_info": {
   "codemirror_mode": {
    "name": "ipython",
    "version": 3
   },
   "file_extension": ".py",
   "mimetype": "text/x-python",
   "name": "python",
   "nbconvert_exporter": "python",
   "pygments_lexer": "ipython3",
   "version": "3.10.12"
  }
 },
 "nbformat": 4,
 "nbformat_minor": 4
}
